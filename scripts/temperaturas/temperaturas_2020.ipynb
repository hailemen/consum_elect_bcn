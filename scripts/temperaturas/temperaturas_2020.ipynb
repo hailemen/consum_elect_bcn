{
 "cells": [
  {
   "cell_type": "markdown",
   "metadata": {},
   "source": [
    "Cargo los datos sobre temperaturas durante el año 2020 de Barcelona desde la estación de Drassanes que tiene un criterio de temperatura a nivel ciudad."
   ]
  },
  {
   "cell_type": "code",
   "execution_count": 2,
   "metadata": {},
   "outputs": [
    {
     "data": {
      "text/html": [
       "<div>\n",
       "<style scoped>\n",
       "    .dataframe tbody tr th:only-of-type {\n",
       "        vertical-align: middle;\n",
       "    }\n",
       "\n",
       "    .dataframe tbody tr th {\n",
       "        vertical-align: top;\n",
       "    }\n",
       "\n",
       "    .dataframe thead th {\n",
       "        text-align: right;\n",
       "    }\n",
       "</style>\n",
       "<table border=\"1\" class=\"dataframe\">\n",
       "  <thead>\n",
       "    <tr style=\"text-align: right;\">\n",
       "      <th></th>\n",
       "      <th>fecha</th>\n",
       "      <th>indicativo</th>\n",
       "      <th>nombre</th>\n",
       "      <th>provincia</th>\n",
       "      <th>altitud</th>\n",
       "      <th>tmed</th>\n",
       "      <th>prec</th>\n",
       "      <th>tmin</th>\n",
       "      <th>horatmin</th>\n",
       "      <th>tmax</th>\n",
       "      <th>horatmax</th>\n",
       "      <th>dir</th>\n",
       "      <th>velmedia</th>\n",
       "      <th>racha</th>\n",
       "      <th>horaracha</th>\n",
       "      <th>hrMedia</th>\n",
       "      <th>hrMax</th>\n",
       "      <th>horaHrMax</th>\n",
       "      <th>hrMin</th>\n",
       "      <th>horaHrMin</th>\n",
       "    </tr>\n",
       "  </thead>\n",
       "  <tbody>\n",
       "    <tr>\n",
       "      <th>0</th>\n",
       "      <td>2020-01-01</td>\n",
       "      <td>0201D</td>\n",
       "      <td>BARCELONA, PORT OL?MPIC</td>\n",
       "      <td>BARCELONA</td>\n",
       "      <td>26</td>\n",
       "      <td>8,9</td>\n",
       "      <td>0,0</td>\n",
       "      <td>5,0</td>\n",
       "      <td>07:20</td>\n",
       "      <td>12,8</td>\n",
       "      <td>13:00</td>\n",
       "      <td>17.0</td>\n",
       "      <td>1,7</td>\n",
       "      <td>4,4</td>\n",
       "      <td>13:20</td>\n",
       "      <td>79</td>\n",
       "      <td>89</td>\n",
       "      <td>Varias</td>\n",
       "      <td>67</td>\n",
       "      <td>13:00</td>\n",
       "    </tr>\n",
       "    <tr>\n",
       "      <th>1</th>\n",
       "      <td>2020-01-02</td>\n",
       "      <td>0201D</td>\n",
       "      <td>BARCELONA, PORT OL?MPIC</td>\n",
       "      <td>BARCELONA</td>\n",
       "      <td>26</td>\n",
       "      <td>9,2</td>\n",
       "      <td>0,0</td>\n",
       "      <td>4,4</td>\n",
       "      <td>06:00</td>\n",
       "      <td>13,9</td>\n",
       "      <td>14:50</td>\n",
       "      <td>28.0</td>\n",
       "      <td>3,1</td>\n",
       "      <td>7,5</td>\n",
       "      <td>12:40</td>\n",
       "      <td>81</td>\n",
       "      <td>92</td>\n",
       "      <td>Varias</td>\n",
       "      <td>66</td>\n",
       "      <td>Varias</td>\n",
       "    </tr>\n",
       "    <tr>\n",
       "      <th>2</th>\n",
       "      <td>2020-01-03</td>\n",
       "      <td>0201D</td>\n",
       "      <td>BARCELONA, PORT OL?MPIC</td>\n",
       "      <td>BARCELONA</td>\n",
       "      <td>26</td>\n",
       "      <td>10,5</td>\n",
       "      <td>0,0</td>\n",
       "      <td>7,1</td>\n",
       "      <td>07:20</td>\n",
       "      <td>13,9</td>\n",
       "      <td>13:30</td>\n",
       "      <td>34.0</td>\n",
       "      <td>1,9</td>\n",
       "      <td>6,7</td>\n",
       "      <td>08:30</td>\n",
       "      <td>76</td>\n",
       "      <td>89</td>\n",
       "      <td>04:50</td>\n",
       "      <td>59</td>\n",
       "      <td>14:30</td>\n",
       "    </tr>\n",
       "    <tr>\n",
       "      <th>3</th>\n",
       "      <td>2020-01-04</td>\n",
       "      <td>0201D</td>\n",
       "      <td>BARCELONA, PORT OL?MPIC</td>\n",
       "      <td>BARCELONA</td>\n",
       "      <td>26</td>\n",
       "      <td>10,2</td>\n",
       "      <td>0,0</td>\n",
       "      <td>4,7</td>\n",
       "      <td>06:20</td>\n",
       "      <td>15,8</td>\n",
       "      <td>13:20</td>\n",
       "      <td>30.0</td>\n",
       "      <td>2,8</td>\n",
       "      <td>7,8</td>\n",
       "      <td>16:20</td>\n",
       "      <td>62</td>\n",
       "      <td>82</td>\n",
       "      <td>06:20</td>\n",
       "      <td>49</td>\n",
       "      <td>15:30</td>\n",
       "    </tr>\n",
       "    <tr>\n",
       "      <th>4</th>\n",
       "      <td>2020-01-05</td>\n",
       "      <td>0201D</td>\n",
       "      <td>BARCELONA, PORT OL?MPIC</td>\n",
       "      <td>BARCELONA</td>\n",
       "      <td>26</td>\n",
       "      <td>11,0</td>\n",
       "      <td>0,0</td>\n",
       "      <td>7,0</td>\n",
       "      <td>07:30</td>\n",
       "      <td>15,1</td>\n",
       "      <td>13:20</td>\n",
       "      <td>9.0</td>\n",
       "      <td>1,4</td>\n",
       "      <td>7,8</td>\n",
       "      <td>15:00</td>\n",
       "      <td>67</td>\n",
       "      <td>89</td>\n",
       "      <td>21:30</td>\n",
       "      <td>47</td>\n",
       "      <td>11:40</td>\n",
       "    </tr>\n",
       "  </tbody>\n",
       "</table>\n",
       "</div>"
      ],
      "text/plain": [
       "        fecha indicativo                   nombre  provincia  altitud  tmed  \\\n",
       "0  2020-01-01      0201D  BARCELONA, PORT OL?MPIC  BARCELONA       26   8,9   \n",
       "1  2020-01-02      0201D  BARCELONA, PORT OL?MPIC  BARCELONA       26   9,2   \n",
       "2  2020-01-03      0201D  BARCELONA, PORT OL?MPIC  BARCELONA       26  10,5   \n",
       "3  2020-01-04      0201D  BARCELONA, PORT OL?MPIC  BARCELONA       26  10,2   \n",
       "4  2020-01-05      0201D  BARCELONA, PORT OL?MPIC  BARCELONA       26  11,0   \n",
       "\n",
       "  prec tmin horatmin  tmax horatmax   dir velmedia racha horaracha  hrMedia  \\\n",
       "0  0,0  5,0    07:20  12,8    13:00  17.0      1,7   4,4     13:20       79   \n",
       "1  0,0  4,4    06:00  13,9    14:50  28.0      3,1   7,5     12:40       81   \n",
       "2  0,0  7,1    07:20  13,9    13:30  34.0      1,9   6,7     08:30       76   \n",
       "3  0,0  4,7    06:20  15,8    13:20  30.0      2,8   7,8     16:20       62   \n",
       "4  0,0  7,0    07:30  15,1    13:20   9.0      1,4   7,8     15:00       67   \n",
       "\n",
       "   hrMax horaHrMax  hrMin horaHrMin  \n",
       "0     89    Varias     67     13:00  \n",
       "1     92    Varias     66    Varias  \n",
       "2     89     04:50     59     14:30  \n",
       "3     82     06:20     49     15:30  \n",
       "4     89     21:30     47     11:40  "
      ]
     },
     "execution_count": 2,
     "metadata": {},
     "output_type": "execute_result"
    }
   ],
   "source": [
    "import pandas as pd\n",
    "\n",
    "# Cargo los archivos CSV\n",
    "df1 = pd.read_csv('temp_012020_062020.csv')\n",
    "df2 = pd.read_csv('temp_072020_122020.csv')\n",
    "\n",
    "# Concateno los DataFrames por filas\n",
    "df_temp_2020 = pd.concat([df1, df2], axis=0, ignore_index=True)\n",
    "\n",
    "df_temp_2020.head()"
   ]
  },
  {
   "cell_type": "markdown",
   "metadata": {},
   "source": [
    "El dataframe está compuesto por 365 filas y 20 columnas"
   ]
  },
  {
   "cell_type": "code",
   "execution_count": 3,
   "metadata": {},
   "outputs": [
    {
     "data": {
      "text/plain": [
       "(366, 20)"
      ]
     },
     "execution_count": 3,
     "metadata": {},
     "output_type": "execute_result"
    }
   ],
   "source": [
    "df_temp_2020.shape "
   ]
  },
  {
   "cell_type": "markdown",
   "metadata": {},
   "source": [
    "Hay columnas que no contemplo utilizar por lo que decido eliminarlas para aligerar el dataframe."
   ]
  },
  {
   "cell_type": "code",
   "execution_count": 4,
   "metadata": {},
   "outputs": [
    {
     "data": {
      "text/html": [
       "<div>\n",
       "<style scoped>\n",
       "    .dataframe tbody tr th:only-of-type {\n",
       "        vertical-align: middle;\n",
       "    }\n",
       "\n",
       "    .dataframe tbody tr th {\n",
       "        vertical-align: top;\n",
       "    }\n",
       "\n",
       "    .dataframe thead th {\n",
       "        text-align: right;\n",
       "    }\n",
       "</style>\n",
       "<table border=\"1\" class=\"dataframe\">\n",
       "  <thead>\n",
       "    <tr style=\"text-align: right;\">\n",
       "      <th></th>\n",
       "      <th>fecha</th>\n",
       "      <th>provincia</th>\n",
       "      <th>tmed</th>\n",
       "      <th>prec</th>\n",
       "      <th>tmin</th>\n",
       "      <th>tmax</th>\n",
       "      <th>velmedia</th>\n",
       "      <th>hrMedia</th>\n",
       "    </tr>\n",
       "  </thead>\n",
       "  <tbody>\n",
       "    <tr>\n",
       "      <th>0</th>\n",
       "      <td>2020-01-01</td>\n",
       "      <td>BARCELONA</td>\n",
       "      <td>8,9</td>\n",
       "      <td>0,0</td>\n",
       "      <td>5,0</td>\n",
       "      <td>12,8</td>\n",
       "      <td>1,7</td>\n",
       "      <td>79</td>\n",
       "    </tr>\n",
       "    <tr>\n",
       "      <th>1</th>\n",
       "      <td>2020-01-02</td>\n",
       "      <td>BARCELONA</td>\n",
       "      <td>9,2</td>\n",
       "      <td>0,0</td>\n",
       "      <td>4,4</td>\n",
       "      <td>13,9</td>\n",
       "      <td>3,1</td>\n",
       "      <td>81</td>\n",
       "    </tr>\n",
       "    <tr>\n",
       "      <th>2</th>\n",
       "      <td>2020-01-03</td>\n",
       "      <td>BARCELONA</td>\n",
       "      <td>10,5</td>\n",
       "      <td>0,0</td>\n",
       "      <td>7,1</td>\n",
       "      <td>13,9</td>\n",
       "      <td>1,9</td>\n",
       "      <td>76</td>\n",
       "    </tr>\n",
       "    <tr>\n",
       "      <th>3</th>\n",
       "      <td>2020-01-04</td>\n",
       "      <td>BARCELONA</td>\n",
       "      <td>10,2</td>\n",
       "      <td>0,0</td>\n",
       "      <td>4,7</td>\n",
       "      <td>15,8</td>\n",
       "      <td>2,8</td>\n",
       "      <td>62</td>\n",
       "    </tr>\n",
       "    <tr>\n",
       "      <th>4</th>\n",
       "      <td>2020-01-05</td>\n",
       "      <td>BARCELONA</td>\n",
       "      <td>11,0</td>\n",
       "      <td>0,0</td>\n",
       "      <td>7,0</td>\n",
       "      <td>15,1</td>\n",
       "      <td>1,4</td>\n",
       "      <td>67</td>\n",
       "    </tr>\n",
       "  </tbody>\n",
       "</table>\n",
       "</div>"
      ],
      "text/plain": [
       "        fecha  provincia  tmed prec tmin  tmax velmedia  hrMedia\n",
       "0  2020-01-01  BARCELONA   8,9  0,0  5,0  12,8      1,7       79\n",
       "1  2020-01-02  BARCELONA   9,2  0,0  4,4  13,9      3,1       81\n",
       "2  2020-01-03  BARCELONA  10,5  0,0  7,1  13,9      1,9       76\n",
       "3  2020-01-04  BARCELONA  10,2  0,0  4,7  15,8      2,8       62\n",
       "4  2020-01-05  BARCELONA  11,0  0,0  7,0  15,1      1,4       67"
      ]
     },
     "execution_count": 4,
     "metadata": {},
     "output_type": "execute_result"
    }
   ],
   "source": [
    "df_temp_2020= df_temp_2020.drop(columns=['indicativo', 'nombre', 'hrMax', 'horaHrMax', 'hrMin', 'horaHrMin', 'altitud', 'dir', 'racha', 'horaracha', 'horatmin', 'horatmax'])\n",
    "\n",
    "df_temp_2020.head()"
   ]
  },
  {
   "cell_type": "markdown",
   "metadata": {},
   "source": [
    "Reviso las características de cada columna, observo varios detalles sobre ellas que considero tratar:\n",
    "\n",
    "* `fecha` es del tipo `object` y el formato debería ser `datetime`\n",
    "* Hay varias columas que aparecen como tipo `object` al utiizar una coma como decimal y las transformaré como float con punto.\n"
   ]
  },
  {
   "cell_type": "code",
   "execution_count": 5,
   "metadata": {},
   "outputs": [
    {
     "name": "stdout",
     "output_type": "stream",
     "text": [
      "<class 'pandas.core.frame.DataFrame'>\n",
      "RangeIndex: 366 entries, 0 to 365\n",
      "Data columns (total 8 columns):\n",
      " #   Column     Non-Null Count  Dtype \n",
      "---  ------     --------------  ----- \n",
      " 0   fecha      366 non-null    object\n",
      " 1   provincia  366 non-null    object\n",
      " 2   tmed       366 non-null    object\n",
      " 3   prec       366 non-null    object\n",
      " 4   tmin       366 non-null    object\n",
      " 5   tmax       366 non-null    object\n",
      " 6   velmedia   364 non-null    object\n",
      " 7   hrMedia    366 non-null    int64 \n",
      "dtypes: int64(1), object(7)\n",
      "memory usage: 23.0+ KB\n"
     ]
    }
   ],
   "source": [
    "df_temp_2020.info()"
   ]
  },
  {
   "cell_type": "markdown",
   "metadata": {},
   "source": [
    "Realizo la transformación de la columna `fecha` al tipo `datetime`"
   ]
  },
  {
   "cell_type": "code",
   "execution_count": 6,
   "metadata": {},
   "outputs": [
    {
     "name": "stdout",
     "output_type": "stream",
     "text": [
      "fecha        datetime64[ns]\n",
      "provincia            object\n",
      "tmed                 object\n",
      "prec                 object\n",
      "tmin                 object\n",
      "tmax                 object\n",
      "velmedia             object\n",
      "hrMedia               int64\n",
      "dtype: object\n"
     ]
    }
   ],
   "source": [
    "df_temp_2020['fecha']= pd.to_datetime(df_temp_2020['fecha'], format='%Y-%m-%d')\n",
    "print(df_temp_2020.dtypes)"
   ]
  },
  {
   "cell_type": "markdown",
   "metadata": {},
   "source": [
    "Transformo las columnas 'tmed', 'prec', 'tmin', 'tmax' al tipo float, modificando el símbolo de coma por punto."
   ]
  },
  {
   "cell_type": "code",
   "execution_count": 7,
   "metadata": {},
   "outputs": [
    {
     "name": "stdout",
     "output_type": "stream",
     "text": [
      "fecha        datetime64[ns]\n",
      "provincia            object\n",
      "tmed                float64\n",
      "prec                float64\n",
      "tmin                float64\n",
      "tmax                float64\n",
      "velmedia            float64\n",
      "hrMedia               int64\n",
      "dtype: object\n"
     ]
    }
   ],
   "source": [
    "columnas_a_float = ['tmed', 'prec', 'tmin', 'tmax', 'velmedia']\n",
    "\n",
    "# Reemplazo las comas por puntos para que pueda realizarse el cambio al tipo float\n",
    "for col in columnas_a_float:\n",
    "    df_temp_2020[col] = df_temp_2020[col].str.replace(',', '.')  \n",
    "\n",
    "df_temp_2020[columnas_a_float] = df_temp_2020[columnas_a_float].astype(float)\n",
    "\n",
    "print(df_temp_2020.dtypes)"
   ]
  },
  {
   "cell_type": "code",
   "execution_count": 8,
   "metadata": {},
   "outputs": [
    {
     "data": {
      "text/plain": [
       "fecha        0\n",
       "provincia    0\n",
       "tmed         0\n",
       "prec         0\n",
       "tmin         0\n",
       "tmax         0\n",
       "velmedia     2\n",
       "hrMedia      0\n",
       "dtype: int64"
      ]
     },
     "execution_count": 8,
     "metadata": {},
     "output_type": "execute_result"
    }
   ],
   "source": [
    "df_temp_2020.isnull().sum()"
   ]
  },
  {
   "cell_type": "markdown",
   "metadata": {},
   "source": [
    "Analizo los valores nulos de la variable `velmedia`; observo que aparecen varias columnas en ese registros con valores faltantes."
   ]
  },
  {
   "cell_type": "code",
   "execution_count": 9,
   "metadata": {},
   "outputs": [
    {
     "data": {
      "text/html": [
       "<div>\n",
       "<style scoped>\n",
       "    .dataframe tbody tr th:only-of-type {\n",
       "        vertical-align: middle;\n",
       "    }\n",
       "\n",
       "    .dataframe tbody tr th {\n",
       "        vertical-align: top;\n",
       "    }\n",
       "\n",
       "    .dataframe thead th {\n",
       "        text-align: right;\n",
       "    }\n",
       "</style>\n",
       "<table border=\"1\" class=\"dataframe\">\n",
       "  <thead>\n",
       "    <tr style=\"text-align: right;\">\n",
       "      <th></th>\n",
       "      <th>fecha</th>\n",
       "      <th>provincia</th>\n",
       "      <th>tmed</th>\n",
       "      <th>prec</th>\n",
       "      <th>tmin</th>\n",
       "      <th>tmax</th>\n",
       "      <th>velmedia</th>\n",
       "      <th>hrMedia</th>\n",
       "    </tr>\n",
       "  </thead>\n",
       "  <tbody>\n",
       "    <tr>\n",
       "      <th>282</th>\n",
       "      <td>2020-10-09</td>\n",
       "      <td>BARCELONA</td>\n",
       "      <td>20.7</td>\n",
       "      <td>0.6</td>\n",
       "      <td>17.9</td>\n",
       "      <td>23.5</td>\n",
       "      <td>NaN</td>\n",
       "      <td>91</td>\n",
       "    </tr>\n",
       "    <tr>\n",
       "      <th>283</th>\n",
       "      <td>2020-10-10</td>\n",
       "      <td>BARCELONA</td>\n",
       "      <td>17.0</td>\n",
       "      <td>41.0</td>\n",
       "      <td>13.4</td>\n",
       "      <td>20.6</td>\n",
       "      <td>NaN</td>\n",
       "      <td>92</td>\n",
       "    </tr>\n",
       "  </tbody>\n",
       "</table>\n",
       "</div>"
      ],
      "text/plain": [
       "         fecha  provincia  tmed  prec  tmin  tmax  velmedia  hrMedia\n",
       "282 2020-10-09  BARCELONA  20.7   0.6  17.9  23.5       NaN       91\n",
       "283 2020-10-10  BARCELONA  17.0  41.0  13.4  20.6       NaN       92"
      ]
     },
     "execution_count": 9,
     "metadata": {},
     "output_type": "execute_result"
    }
   ],
   "source": [
    "nulos_tmed = df_temp_2020['velmedia'].isnull()\n",
    "df_temp_2020[nulos_tmed]"
   ]
  },
  {
   "cell_type": "markdown",
   "metadata": {},
   "source": [
    "La idea de la imputación en este caso es mantener la continuidad de la serie. Imputo los valores faltantes utilizando una función, que en caso de que encuentre un valor nulo en una columna, buscará el valor correspondiente en la fila anterior (día anterior). Si el valor anterior existe, se utiliza para reemplazar el valor nulo. "
   ]
  },
  {
   "cell_type": "code",
   "execution_count": 10,
   "metadata": {},
   "outputs": [],
   "source": [
    "# Ordeno el DataFrame por fecha para asegurar la correcta imputación\n",
    "df_temp_2020 = df_temp_2020.sort_values('fecha')\n",
    "\n",
    "# Selecciono las columnas a imputar \n",
    "columnas_a_imputar = ['velmedia']\n",
    "\n",
    "# Se itera sobre las filas y las columnas a imputar\n",
    "for index, row in df_temp_2020.iterrows():\n",
    "    for columna in columnas_a_imputar:\n",
    "        if pd.isna(row[columna]):\n",
    "            # Buscar el valor del día anterior en la misma columna\n",
    "            valor_anterior = df_temp_2020.loc[index - 1, columna]\n",
    "            # Imputar si el valor anterior existe\n",
    "            if not pd.isna(valor_anterior):\n",
    "                df_temp_2020.loc[index, columna] = valor_anterior"
   ]
  },
  {
   "cell_type": "markdown",
   "metadata": {},
   "source": [
    "Compruebo que los valores ha sido imputados totalmente."
   ]
  },
  {
   "cell_type": "code",
   "execution_count": 11,
   "metadata": {},
   "outputs": [
    {
     "data": {
      "text/plain": [
       "fecha        0\n",
       "provincia    0\n",
       "tmed         0\n",
       "prec         0\n",
       "tmin         0\n",
       "tmax         0\n",
       "velmedia     0\n",
       "hrMedia      0\n",
       "dtype: int64"
      ]
     },
     "execution_count": 11,
     "metadata": {},
     "output_type": "execute_result"
    }
   ],
   "source": [
    "df_temp_2020.isnull().sum()"
   ]
  },
  {
   "cell_type": "markdown",
   "metadata": {},
   "source": [
    "- Renombro las columna `provincia` por `ciudad`."
   ]
  },
  {
   "cell_type": "code",
   "execution_count": 12,
   "metadata": {},
   "outputs": [
    {
     "data": {
      "text/html": [
       "<div>\n",
       "<style scoped>\n",
       "    .dataframe tbody tr th:only-of-type {\n",
       "        vertical-align: middle;\n",
       "    }\n",
       "\n",
       "    .dataframe tbody tr th {\n",
       "        vertical-align: top;\n",
       "    }\n",
       "\n",
       "    .dataframe thead th {\n",
       "        text-align: right;\n",
       "    }\n",
       "</style>\n",
       "<table border=\"1\" class=\"dataframe\">\n",
       "  <thead>\n",
       "    <tr style=\"text-align: right;\">\n",
       "      <th></th>\n",
       "      <th>fecha</th>\n",
       "      <th>ciudad</th>\n",
       "      <th>tmin</th>\n",
       "      <th>tmax</th>\n",
       "      <th>tmed</th>\n",
       "      <th>prec</th>\n",
       "      <th>hrmedia</th>\n",
       "      <th>velmedia</th>\n",
       "    </tr>\n",
       "  </thead>\n",
       "  <tbody>\n",
       "    <tr>\n",
       "      <th>0</th>\n",
       "      <td>2020-01-01</td>\n",
       "      <td>BARCELONA</td>\n",
       "      <td>5.0</td>\n",
       "      <td>12.8</td>\n",
       "      <td>8.9</td>\n",
       "      <td>0.0</td>\n",
       "      <td>79</td>\n",
       "      <td>1.7</td>\n",
       "    </tr>\n",
       "    <tr>\n",
       "      <th>1</th>\n",
       "      <td>2020-01-02</td>\n",
       "      <td>BARCELONA</td>\n",
       "      <td>4.4</td>\n",
       "      <td>13.9</td>\n",
       "      <td>9.2</td>\n",
       "      <td>0.0</td>\n",
       "      <td>81</td>\n",
       "      <td>3.1</td>\n",
       "    </tr>\n",
       "    <tr>\n",
       "      <th>2</th>\n",
       "      <td>2020-01-03</td>\n",
       "      <td>BARCELONA</td>\n",
       "      <td>7.1</td>\n",
       "      <td>13.9</td>\n",
       "      <td>10.5</td>\n",
       "      <td>0.0</td>\n",
       "      <td>76</td>\n",
       "      <td>1.9</td>\n",
       "    </tr>\n",
       "    <tr>\n",
       "      <th>3</th>\n",
       "      <td>2020-01-04</td>\n",
       "      <td>BARCELONA</td>\n",
       "      <td>4.7</td>\n",
       "      <td>15.8</td>\n",
       "      <td>10.2</td>\n",
       "      <td>0.0</td>\n",
       "      <td>62</td>\n",
       "      <td>2.8</td>\n",
       "    </tr>\n",
       "    <tr>\n",
       "      <th>4</th>\n",
       "      <td>2020-01-05</td>\n",
       "      <td>BARCELONA</td>\n",
       "      <td>7.0</td>\n",
       "      <td>15.1</td>\n",
       "      <td>11.0</td>\n",
       "      <td>0.0</td>\n",
       "      <td>67</td>\n",
       "      <td>1.4</td>\n",
       "    </tr>\n",
       "  </tbody>\n",
       "</table>\n",
       "</div>"
      ],
      "text/plain": [
       "       fecha     ciudad  tmin  tmax  tmed  prec  hrmedia  velmedia\n",
       "0 2020-01-01  BARCELONA   5.0  12.8   8.9   0.0       79       1.7\n",
       "1 2020-01-02  BARCELONA   4.4  13.9   9.2   0.0       81       3.1\n",
       "2 2020-01-03  BARCELONA   7.1  13.9  10.5   0.0       76       1.9\n",
       "3 2020-01-04  BARCELONA   4.7  15.8  10.2   0.0       62       2.8\n",
       "4 2020-01-05  BARCELONA   7.0  15.1  11.0   0.0       67       1.4"
      ]
     },
     "execution_count": 12,
     "metadata": {},
     "output_type": "execute_result"
    }
   ],
   "source": [
    "df_temp_2020= df_temp_2020.rename(columns={'provincia': 'ciudad', 'hrMedia': 'hrmedia'})\n",
    "df_temp_2020= df_temp_2020[['fecha', 'ciudad', 'tmin', 'tmax', 'tmed', 'prec','hrmedia', 'velmedia']]\n",
    "df_temp_2020.head()\n"
   ]
  },
  {
   "cell_type": "markdown",
   "metadata": {},
   "source": [
    "Codifico la columna `ciudad` utilizando el valor `1` para poder relacionarlo en la base de datos con la tabla que corresponda a las ciudades"
   ]
  },
  {
   "cell_type": "code",
   "execution_count": 13,
   "metadata": {},
   "outputs": [
    {
     "data": {
      "text/html": [
       "<div>\n",
       "<style scoped>\n",
       "    .dataframe tbody tr th:only-of-type {\n",
       "        vertical-align: middle;\n",
       "    }\n",
       "\n",
       "    .dataframe tbody tr th {\n",
       "        vertical-align: top;\n",
       "    }\n",
       "\n",
       "    .dataframe thead th {\n",
       "        text-align: right;\n",
       "    }\n",
       "</style>\n",
       "<table border=\"1\" class=\"dataframe\">\n",
       "  <thead>\n",
       "    <tr style=\"text-align: right;\">\n",
       "      <th></th>\n",
       "      <th>fecha</th>\n",
       "      <th>ciudad</th>\n",
       "      <th>tmin</th>\n",
       "      <th>tmax</th>\n",
       "      <th>tmed</th>\n",
       "      <th>prec</th>\n",
       "      <th>hrmedia</th>\n",
       "      <th>velmedia</th>\n",
       "    </tr>\n",
       "  </thead>\n",
       "  <tbody>\n",
       "    <tr>\n",
       "      <th>0</th>\n",
       "      <td>2020-01-01</td>\n",
       "      <td>1</td>\n",
       "      <td>5.0</td>\n",
       "      <td>12.8</td>\n",
       "      <td>8.9</td>\n",
       "      <td>0.0</td>\n",
       "      <td>79</td>\n",
       "      <td>1.7</td>\n",
       "    </tr>\n",
       "    <tr>\n",
       "      <th>1</th>\n",
       "      <td>2020-01-02</td>\n",
       "      <td>1</td>\n",
       "      <td>4.4</td>\n",
       "      <td>13.9</td>\n",
       "      <td>9.2</td>\n",
       "      <td>0.0</td>\n",
       "      <td>81</td>\n",
       "      <td>3.1</td>\n",
       "    </tr>\n",
       "    <tr>\n",
       "      <th>2</th>\n",
       "      <td>2020-01-03</td>\n",
       "      <td>1</td>\n",
       "      <td>7.1</td>\n",
       "      <td>13.9</td>\n",
       "      <td>10.5</td>\n",
       "      <td>0.0</td>\n",
       "      <td>76</td>\n",
       "      <td>1.9</td>\n",
       "    </tr>\n",
       "    <tr>\n",
       "      <th>3</th>\n",
       "      <td>2020-01-04</td>\n",
       "      <td>1</td>\n",
       "      <td>4.7</td>\n",
       "      <td>15.8</td>\n",
       "      <td>10.2</td>\n",
       "      <td>0.0</td>\n",
       "      <td>62</td>\n",
       "      <td>2.8</td>\n",
       "    </tr>\n",
       "    <tr>\n",
       "      <th>4</th>\n",
       "      <td>2020-01-05</td>\n",
       "      <td>1</td>\n",
       "      <td>7.0</td>\n",
       "      <td>15.1</td>\n",
       "      <td>11.0</td>\n",
       "      <td>0.0</td>\n",
       "      <td>67</td>\n",
       "      <td>1.4</td>\n",
       "    </tr>\n",
       "  </tbody>\n",
       "</table>\n",
       "</div>"
      ],
      "text/plain": [
       "       fecha ciudad  tmin  tmax  tmed  prec  hrmedia  velmedia\n",
       "0 2020-01-01      1   5.0  12.8   8.9   0.0       79       1.7\n",
       "1 2020-01-02      1   4.4  13.9   9.2   0.0       81       3.1\n",
       "2 2020-01-03      1   7.1  13.9  10.5   0.0       76       1.9\n",
       "3 2020-01-04      1   4.7  15.8  10.2   0.0       62       2.8\n",
       "4 2020-01-05      1   7.0  15.1  11.0   0.0       67       1.4"
      ]
     },
     "execution_count": 13,
     "metadata": {},
     "output_type": "execute_result"
    }
   ],
   "source": [
    "mapeo_ciudad= {\"BARCELONA\": \"1\"}\n",
    "\n",
    "df_temp_2020['ciudad']= df_temp_2020['ciudad'].map(mapeo_ciudad)\n",
    "df_temp_2020.head()"
   ]
  },
  {
   "cell_type": "markdown",
   "metadata": {},
   "source": [
    "Exporto el dataframe a un archivo en formato `csv`"
   ]
  },
  {
   "cell_type": "code",
   "execution_count": 14,
   "metadata": {},
   "outputs": [],
   "source": [
    "df_temp_2020.to_csv('temp_bcn_2020.csv', index= False, encoding='utf-8')"
   ]
  },
  {
   "cell_type": "markdown",
   "metadata": {},
   "source": [
    "Resumen del dataframe creado:\n",
    "\n",
    "- Se eliminaron las columnas 'indicativo', 'nombre', 'hrMax', 'horaHrMax', 'hrMin', 'horaHrMin', 'altitud', 'dir', 'racha', 'horaracha', 'horatmin', 'horatmax'.\n",
    "- Se realizaron transformaciones de tipo en las columnas 'tmed', 'prec', 'tmin', 'tmax', 'velmedia'.\n",
    "- Se transformó la columna 'fecha' a tipo datetime\n",
    "- Se trataron los valores nulos mediante la imputación del registro del día anterior al faltante, buscando mantener la continuidad de la serie. No hay valores faltantes.\n",
    "- Se renombró la columna 'provincia' por 'ciudad' y se asignó el valor 1 para que sea utilizado en un modelo de tablas relaciones como identificador(id).\n",
    "- Se exporto el dataframe a un archivo en formato csv."
   ]
  }
 ],
 "metadata": {
  "kernelspec": {
   "display_name": "Python 3",
   "language": "python",
   "name": "python3"
  },
  "language_info": {
   "codemirror_mode": {
    "name": "ipython",
    "version": 3
   },
   "file_extension": ".py",
   "mimetype": "text/x-python",
   "name": "python",
   "nbconvert_exporter": "python",
   "pygments_lexer": "ipython3",
   "version": "3.12.4"
  }
 },
 "nbformat": 4,
 "nbformat_minor": 2
}
