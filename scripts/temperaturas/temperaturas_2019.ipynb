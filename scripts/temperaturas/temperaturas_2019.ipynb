{
 "cells": [
  {
   "cell_type": "markdown",
   "metadata": {},
   "source": [
    "Cargo los datos sobre temperaturas durante el año 2019 de Barcelona desde la estación de Drassanes que tiene un criterio de temperatura a nivel ciudad."
   ]
  },
  {
   "cell_type": "code",
   "execution_count": 1,
   "metadata": {},
   "outputs": [
    {
     "data": {
      "text/html": [
       "<div>\n",
       "<style scoped>\n",
       "    .dataframe tbody tr th:only-of-type {\n",
       "        vertical-align: middle;\n",
       "    }\n",
       "\n",
       "    .dataframe tbody tr th {\n",
       "        vertical-align: top;\n",
       "    }\n",
       "\n",
       "    .dataframe thead th {\n",
       "        text-align: right;\n",
       "    }\n",
       "</style>\n",
       "<table border=\"1\" class=\"dataframe\">\n",
       "  <thead>\n",
       "    <tr style=\"text-align: right;\">\n",
       "      <th></th>\n",
       "      <th>fecha</th>\n",
       "      <th>indicativo</th>\n",
       "      <th>nombre</th>\n",
       "      <th>provincia</th>\n",
       "      <th>altitud</th>\n",
       "      <th>tmed</th>\n",
       "      <th>prec</th>\n",
       "      <th>tmin</th>\n",
       "      <th>horatmin</th>\n",
       "      <th>tmax</th>\n",
       "      <th>horatmax</th>\n",
       "      <th>dir</th>\n",
       "      <th>velmedia</th>\n",
       "      <th>racha</th>\n",
       "      <th>horaracha</th>\n",
       "      <th>hrMedia</th>\n",
       "      <th>hrMax</th>\n",
       "      <th>horaHrMax</th>\n",
       "      <th>hrMin</th>\n",
       "      <th>horaHrMin</th>\n",
       "    </tr>\n",
       "  </thead>\n",
       "  <tbody>\n",
       "    <tr>\n",
       "      <th>0</th>\n",
       "      <td>2019-01-01</td>\n",
       "      <td>0201D</td>\n",
       "      <td>BARCELONA, PORT OL?MPIC</td>\n",
       "      <td>BARCELONA</td>\n",
       "      <td>26</td>\n",
       "      <td>11,4</td>\n",
       "      <td>0,0</td>\n",
       "      <td>6,6</td>\n",
       "      <td>03:40</td>\n",
       "      <td>16,2</td>\n",
       "      <td>12:30</td>\n",
       "      <td>1.0</td>\n",
       "      <td>3,1</td>\n",
       "      <td>6,4</td>\n",
       "      <td>07:30</td>\n",
       "      <td>76.0</td>\n",
       "      <td>90.0</td>\n",
       "      <td>20:00</td>\n",
       "      <td>59.0</td>\n",
       "      <td>22:30</td>\n",
       "    </tr>\n",
       "    <tr>\n",
       "      <th>1</th>\n",
       "      <td>2019-01-02</td>\n",
       "      <td>0201D</td>\n",
       "      <td>BARCELONA, PORT OL?MPIC</td>\n",
       "      <td>BARCELONA</td>\n",
       "      <td>26</td>\n",
       "      <td>11,2</td>\n",
       "      <td>0,0</td>\n",
       "      <td>6,6</td>\n",
       "      <td>Varias</td>\n",
       "      <td>15,7</td>\n",
       "      <td>14:50</td>\n",
       "      <td>1.0</td>\n",
       "      <td>2,2</td>\n",
       "      <td>6,9</td>\n",
       "      <td>06:10</td>\n",
       "      <td>52.0</td>\n",
       "      <td>66.0</td>\n",
       "      <td>Varias</td>\n",
       "      <td>40.0</td>\n",
       "      <td>14:40</td>\n",
       "    </tr>\n",
       "    <tr>\n",
       "      <th>2</th>\n",
       "      <td>2019-01-03</td>\n",
       "      <td>0201D</td>\n",
       "      <td>BARCELONA, PORT OL?MPIC</td>\n",
       "      <td>BARCELONA</td>\n",
       "      <td>26</td>\n",
       "      <td>9,2</td>\n",
       "      <td>0,0</td>\n",
       "      <td>5,0</td>\n",
       "      <td>07:50</td>\n",
       "      <td>13,5</td>\n",
       "      <td>15:00</td>\n",
       "      <td>36.0</td>\n",
       "      <td>3,3</td>\n",
       "      <td>6,1</td>\n",
       "      <td>06:20</td>\n",
       "      <td>64.0</td>\n",
       "      <td>67.0</td>\n",
       "      <td>Varias</td>\n",
       "      <td>55.0</td>\n",
       "      <td>13:50</td>\n",
       "    </tr>\n",
       "    <tr>\n",
       "      <th>3</th>\n",
       "      <td>2019-01-04</td>\n",
       "      <td>0201D</td>\n",
       "      <td>BARCELONA, PORT OL?MPIC</td>\n",
       "      <td>BARCELONA</td>\n",
       "      <td>26</td>\n",
       "      <td>8,4</td>\n",
       "      <td>0,0</td>\n",
       "      <td>4,3</td>\n",
       "      <td>06:00</td>\n",
       "      <td>12,6</td>\n",
       "      <td>11:50</td>\n",
       "      <td>35.0</td>\n",
       "      <td>2,8</td>\n",
       "      <td>6,4</td>\n",
       "      <td>06:20</td>\n",
       "      <td>65.0</td>\n",
       "      <td>75.0</td>\n",
       "      <td>03:00</td>\n",
       "      <td>54.0</td>\n",
       "      <td>13:20</td>\n",
       "    </tr>\n",
       "    <tr>\n",
       "      <th>4</th>\n",
       "      <td>2019-01-05</td>\n",
       "      <td>0201D</td>\n",
       "      <td>BARCELONA, PORT OL?MPIC</td>\n",
       "      <td>BARCELONA</td>\n",
       "      <td>26</td>\n",
       "      <td>11,4</td>\n",
       "      <td>0,0</td>\n",
       "      <td>6,6</td>\n",
       "      <td>07:30</td>\n",
       "      <td>16,3</td>\n",
       "      <td>14:20</td>\n",
       "      <td>26.0</td>\n",
       "      <td>1,9</td>\n",
       "      <td>5,0</td>\n",
       "      <td>06:50</td>\n",
       "      <td>50.0</td>\n",
       "      <td>76.0</td>\n",
       "      <td>Varias</td>\n",
       "      <td>39.0</td>\n",
       "      <td>16:30</td>\n",
       "    </tr>\n",
       "  </tbody>\n",
       "</table>\n",
       "</div>"
      ],
      "text/plain": [
       "        fecha indicativo                   nombre  provincia  altitud  tmed  \\\n",
       "0  2019-01-01      0201D  BARCELONA, PORT OL?MPIC  BARCELONA       26  11,4   \n",
       "1  2019-01-02      0201D  BARCELONA, PORT OL?MPIC  BARCELONA       26  11,2   \n",
       "2  2019-01-03      0201D  BARCELONA, PORT OL?MPIC  BARCELONA       26   9,2   \n",
       "3  2019-01-04      0201D  BARCELONA, PORT OL?MPIC  BARCELONA       26   8,4   \n",
       "4  2019-01-05      0201D  BARCELONA, PORT OL?MPIC  BARCELONA       26  11,4   \n",
       "\n",
       "  prec tmin horatmin  tmax horatmax   dir velmedia racha horaracha  hrMedia  \\\n",
       "0  0,0  6,6    03:40  16,2    12:30   1.0      3,1   6,4     07:30     76.0   \n",
       "1  0,0  6,6   Varias  15,7    14:50   1.0      2,2   6,9     06:10     52.0   \n",
       "2  0,0  5,0    07:50  13,5    15:00  36.0      3,3   6,1     06:20     64.0   \n",
       "3  0,0  4,3    06:00  12,6    11:50  35.0      2,8   6,4     06:20     65.0   \n",
       "4  0,0  6,6    07:30  16,3    14:20  26.0      1,9   5,0     06:50     50.0   \n",
       "\n",
       "   hrMax horaHrMax  hrMin horaHrMin  \n",
       "0   90.0     20:00   59.0     22:30  \n",
       "1   66.0    Varias   40.0     14:40  \n",
       "2   67.0    Varias   55.0     13:50  \n",
       "3   75.0     03:00   54.0     13:20  \n",
       "4   76.0    Varias   39.0     16:30  "
      ]
     },
     "execution_count": 1,
     "metadata": {},
     "output_type": "execute_result"
    }
   ],
   "source": [
    "import pandas as pd\n",
    "\n",
    "# Cargo los archivos CSV\n",
    "df1 = pd.read_csv('temp_012019_062019.csv')\n",
    "df2 = pd.read_csv('temp_072019_122019.csv')\n",
    "\n",
    "# Concateno los DataFrames por filas\n",
    "df_temp_2019 = pd.concat([df1, df2], axis=0, ignore_index=True)\n",
    "\n",
    "df_temp_2019.head()"
   ]
  },
  {
   "cell_type": "markdown",
   "metadata": {},
   "source": [
    "El dataframe está compuesto por 365 filas y 20 columnas"
   ]
  },
  {
   "cell_type": "code",
   "execution_count": 2,
   "metadata": {},
   "outputs": [
    {
     "data": {
      "text/plain": [
       "(365, 20)"
      ]
     },
     "execution_count": 2,
     "metadata": {},
     "output_type": "execute_result"
    }
   ],
   "source": [
    "df_temp_2019.shape "
   ]
  },
  {
   "cell_type": "markdown",
   "metadata": {},
   "source": [
    "Hay columnas que no contemplo utilizar por lo que decido eliminarlas para aligerar el dataframe."
   ]
  },
  {
   "cell_type": "code",
   "execution_count": 3,
   "metadata": {},
   "outputs": [
    {
     "data": {
      "text/html": [
       "<div>\n",
       "<style scoped>\n",
       "    .dataframe tbody tr th:only-of-type {\n",
       "        vertical-align: middle;\n",
       "    }\n",
       "\n",
       "    .dataframe tbody tr th {\n",
       "        vertical-align: top;\n",
       "    }\n",
       "\n",
       "    .dataframe thead th {\n",
       "        text-align: right;\n",
       "    }\n",
       "</style>\n",
       "<table border=\"1\" class=\"dataframe\">\n",
       "  <thead>\n",
       "    <tr style=\"text-align: right;\">\n",
       "      <th></th>\n",
       "      <th>fecha</th>\n",
       "      <th>provincia</th>\n",
       "      <th>tmed</th>\n",
       "      <th>prec</th>\n",
       "      <th>tmin</th>\n",
       "      <th>tmax</th>\n",
       "      <th>velmedia</th>\n",
       "      <th>hrMedia</th>\n",
       "    </tr>\n",
       "  </thead>\n",
       "  <tbody>\n",
       "    <tr>\n",
       "      <th>0</th>\n",
       "      <td>2019-01-01</td>\n",
       "      <td>BARCELONA</td>\n",
       "      <td>11,4</td>\n",
       "      <td>0,0</td>\n",
       "      <td>6,6</td>\n",
       "      <td>16,2</td>\n",
       "      <td>3,1</td>\n",
       "      <td>76.0</td>\n",
       "    </tr>\n",
       "    <tr>\n",
       "      <th>1</th>\n",
       "      <td>2019-01-02</td>\n",
       "      <td>BARCELONA</td>\n",
       "      <td>11,2</td>\n",
       "      <td>0,0</td>\n",
       "      <td>6,6</td>\n",
       "      <td>15,7</td>\n",
       "      <td>2,2</td>\n",
       "      <td>52.0</td>\n",
       "    </tr>\n",
       "    <tr>\n",
       "      <th>2</th>\n",
       "      <td>2019-01-03</td>\n",
       "      <td>BARCELONA</td>\n",
       "      <td>9,2</td>\n",
       "      <td>0,0</td>\n",
       "      <td>5,0</td>\n",
       "      <td>13,5</td>\n",
       "      <td>3,3</td>\n",
       "      <td>64.0</td>\n",
       "    </tr>\n",
       "    <tr>\n",
       "      <th>3</th>\n",
       "      <td>2019-01-04</td>\n",
       "      <td>BARCELONA</td>\n",
       "      <td>8,4</td>\n",
       "      <td>0,0</td>\n",
       "      <td>4,3</td>\n",
       "      <td>12,6</td>\n",
       "      <td>2,8</td>\n",
       "      <td>65.0</td>\n",
       "    </tr>\n",
       "    <tr>\n",
       "      <th>4</th>\n",
       "      <td>2019-01-05</td>\n",
       "      <td>BARCELONA</td>\n",
       "      <td>11,4</td>\n",
       "      <td>0,0</td>\n",
       "      <td>6,6</td>\n",
       "      <td>16,3</td>\n",
       "      <td>1,9</td>\n",
       "      <td>50.0</td>\n",
       "    </tr>\n",
       "  </tbody>\n",
       "</table>\n",
       "</div>"
      ],
      "text/plain": [
       "        fecha  provincia  tmed prec tmin  tmax velmedia  hrMedia\n",
       "0  2019-01-01  BARCELONA  11,4  0,0  6,6  16,2      3,1     76.0\n",
       "1  2019-01-02  BARCELONA  11,2  0,0  6,6  15,7      2,2     52.0\n",
       "2  2019-01-03  BARCELONA   9,2  0,0  5,0  13,5      3,3     64.0\n",
       "3  2019-01-04  BARCELONA   8,4  0,0  4,3  12,6      2,8     65.0\n",
       "4  2019-01-05  BARCELONA  11,4  0,0  6,6  16,3      1,9     50.0"
      ]
     },
     "execution_count": 3,
     "metadata": {},
     "output_type": "execute_result"
    }
   ],
   "source": [
    "df_temp_2019= df_temp_2019.drop(columns=['indicativo', 'nombre', 'hrMax', 'horaHrMax', 'hrMin', 'horaHrMin', 'altitud', 'dir', 'racha', 'horaracha', 'horatmin', 'horatmax'])\n",
    "\n",
    "df_temp_2019.head()"
   ]
  },
  {
   "cell_type": "markdown",
   "metadata": {},
   "source": [
    "Reviso las características de cada columna, observo varios detalles sobre ellas que considero tratar:\n",
    "\n",
    "* `fecha` es del tipo `object` y el formato debería ser `datetime`\n",
    "* Hay varias columas que aparecen como tipo `object` al utiizar una coma como decimal y las transformaré como float con punto.\n"
   ]
  },
  {
   "cell_type": "code",
   "execution_count": 4,
   "metadata": {},
   "outputs": [
    {
     "name": "stdout",
     "output_type": "stream",
     "text": [
      "<class 'pandas.core.frame.DataFrame'>\n",
      "RangeIndex: 365 entries, 0 to 364\n",
      "Data columns (total 8 columns):\n",
      " #   Column     Non-Null Count  Dtype  \n",
      "---  ------     --------------  -----  \n",
      " 0   fecha      365 non-null    object \n",
      " 1   provincia  365 non-null    object \n",
      " 2   tmed       360 non-null    object \n",
      " 3   prec       365 non-null    object \n",
      " 4   tmin       360 non-null    object \n",
      " 5   tmax       360 non-null    object \n",
      " 6   velmedia   364 non-null    object \n",
      " 7   hrMedia    358 non-null    float64\n",
      "dtypes: float64(1), object(7)\n",
      "memory usage: 22.9+ KB\n"
     ]
    }
   ],
   "source": [
    "df_temp_2019.info()"
   ]
  },
  {
   "cell_type": "markdown",
   "metadata": {},
   "source": [
    "Realizo la transformación de la columna `fecha` al tipo `datetime`"
   ]
  },
  {
   "cell_type": "code",
   "execution_count": 5,
   "metadata": {},
   "outputs": [
    {
     "name": "stdout",
     "output_type": "stream",
     "text": [
      "fecha        datetime64[ns]\n",
      "provincia            object\n",
      "tmed                 object\n",
      "prec                 object\n",
      "tmin                 object\n",
      "tmax                 object\n",
      "velmedia             object\n",
      "hrMedia             float64\n",
      "dtype: object\n"
     ]
    }
   ],
   "source": [
    "df_temp_2019['fecha']= pd.to_datetime(df_temp_2019['fecha'], format='%Y-%m-%d')\n",
    "print(df_temp_2019.dtypes)"
   ]
  },
  {
   "cell_type": "code",
   "execution_count": null,
   "metadata": {},
   "outputs": [],
   "source": []
  },
  {
   "cell_type": "markdown",
   "metadata": {},
   "source": [
    "Transformo las columnas 'tmed', 'prec', 'tmin', 'tmax' al tipo float, modificando el símbolo de coma por punto."
   ]
  },
  {
   "cell_type": "code",
   "execution_count": 6,
   "metadata": {},
   "outputs": [
    {
     "name": "stdout",
     "output_type": "stream",
     "text": [
      "fecha        datetime64[ns]\n",
      "provincia            object\n",
      "tmed                float64\n",
      "prec                float64\n",
      "tmin                float64\n",
      "tmax                float64\n",
      "velmedia            float64\n",
      "hrMedia             float64\n",
      "dtype: object\n"
     ]
    }
   ],
   "source": [
    "columnas_a_float = ['tmed', 'prec', 'tmin', 'tmax', 'velmedia']\n",
    "\n",
    "# Reemplazo las comas por puntos para que pueda realizarse el cambio al tipo float\n",
    "for col in columnas_a_float:\n",
    "    df_temp_2019[col] = df_temp_2019[col].str.replace(',', '.')  \n",
    "\n",
    "df_temp_2019[columnas_a_float] = df_temp_2019[columnas_a_float].astype(float)\n",
    "\n",
    "print(df_temp_2019.dtypes)"
   ]
  },
  {
   "cell_type": "code",
   "execution_count": 7,
   "metadata": {},
   "outputs": [
    {
     "data": {
      "text/plain": [
       "fecha        0\n",
       "provincia    0\n",
       "tmed         5\n",
       "prec         0\n",
       "tmin         5\n",
       "tmax         5\n",
       "velmedia     1\n",
       "hrMedia      7\n",
       "dtype: int64"
      ]
     },
     "execution_count": 7,
     "metadata": {},
     "output_type": "execute_result"
    }
   ],
   "source": [
    "df_temp_2019.isnull().sum()"
   ]
  },
  {
   "cell_type": "markdown",
   "metadata": {},
   "source": [
    "Analizo los valores nulos de la variable `tmed`; observo que aparecen varias columnas en ese registros con valores faltantes."
   ]
  },
  {
   "cell_type": "code",
   "execution_count": 8,
   "metadata": {},
   "outputs": [
    {
     "data": {
      "text/html": [
       "<div>\n",
       "<style scoped>\n",
       "    .dataframe tbody tr th:only-of-type {\n",
       "        vertical-align: middle;\n",
       "    }\n",
       "\n",
       "    .dataframe tbody tr th {\n",
       "        vertical-align: top;\n",
       "    }\n",
       "\n",
       "    .dataframe thead th {\n",
       "        text-align: right;\n",
       "    }\n",
       "</style>\n",
       "<table border=\"1\" class=\"dataframe\">\n",
       "  <thead>\n",
       "    <tr style=\"text-align: right;\">\n",
       "      <th></th>\n",
       "      <th>fecha</th>\n",
       "      <th>provincia</th>\n",
       "      <th>tmed</th>\n",
       "      <th>prec</th>\n",
       "      <th>tmin</th>\n",
       "      <th>tmax</th>\n",
       "      <th>velmedia</th>\n",
       "      <th>hrMedia</th>\n",
       "    </tr>\n",
       "  </thead>\n",
       "  <tbody>\n",
       "    <tr>\n",
       "      <th>81</th>\n",
       "      <td>2019-03-23</td>\n",
       "      <td>BARCELONA</td>\n",
       "      <td>NaN</td>\n",
       "      <td>0.0</td>\n",
       "      <td>NaN</td>\n",
       "      <td>NaN</td>\n",
       "      <td>3.3</td>\n",
       "      <td>NaN</td>\n",
       "    </tr>\n",
       "    <tr>\n",
       "      <th>146</th>\n",
       "      <td>2019-05-27</td>\n",
       "      <td>BARCELONA</td>\n",
       "      <td>NaN</td>\n",
       "      <td>0.0</td>\n",
       "      <td>NaN</td>\n",
       "      <td>NaN</td>\n",
       "      <td>4.2</td>\n",
       "      <td>74.0</td>\n",
       "    </tr>\n",
       "    <tr>\n",
       "      <th>166</th>\n",
       "      <td>2019-06-16</td>\n",
       "      <td>BARCELONA</td>\n",
       "      <td>NaN</td>\n",
       "      <td>0.0</td>\n",
       "      <td>NaN</td>\n",
       "      <td>NaN</td>\n",
       "      <td>4.4</td>\n",
       "      <td>NaN</td>\n",
       "    </tr>\n",
       "    <tr>\n",
       "      <th>291</th>\n",
       "      <td>2019-10-19</td>\n",
       "      <td>BARCELONA</td>\n",
       "      <td>NaN</td>\n",
       "      <td>0.1</td>\n",
       "      <td>NaN</td>\n",
       "      <td>NaN</td>\n",
       "      <td>3.3</td>\n",
       "      <td>NaN</td>\n",
       "    </tr>\n",
       "    <tr>\n",
       "      <th>292</th>\n",
       "      <td>2019-10-20</td>\n",
       "      <td>BARCELONA</td>\n",
       "      <td>NaN</td>\n",
       "      <td>0.0</td>\n",
       "      <td>NaN</td>\n",
       "      <td>NaN</td>\n",
       "      <td>5.0</td>\n",
       "      <td>NaN</td>\n",
       "    </tr>\n",
       "  </tbody>\n",
       "</table>\n",
       "</div>"
      ],
      "text/plain": [
       "         fecha  provincia  tmed  prec  tmin  tmax  velmedia  hrMedia\n",
       "81  2019-03-23  BARCELONA   NaN   0.0   NaN   NaN       3.3      NaN\n",
       "146 2019-05-27  BARCELONA   NaN   0.0   NaN   NaN       4.2     74.0\n",
       "166 2019-06-16  BARCELONA   NaN   0.0   NaN   NaN       4.4      NaN\n",
       "291 2019-10-19  BARCELONA   NaN   0.1   NaN   NaN       3.3      NaN\n",
       "292 2019-10-20  BARCELONA   NaN   0.0   NaN   NaN       5.0      NaN"
      ]
     },
     "execution_count": 8,
     "metadata": {},
     "output_type": "execute_result"
    }
   ],
   "source": [
    "nulos_tmed = df_temp_2019['tmed'].isnull()\n",
    "df_temp_2019[nulos_tmed]"
   ]
  },
  {
   "cell_type": "markdown",
   "metadata": {},
   "source": [
    "La idea de la imputación en este caso es mantener la continuidad de la serie. Imputo los valores faltantes utilizando una función, que en caso de que encuentre un valor nulo en una columna, buscará el valor correspondiente en la fila anterior (día anterior). Si el valor anterior existe, se utiliza para reemplazar el valor nulo. "
   ]
  },
  {
   "cell_type": "code",
   "execution_count": 9,
   "metadata": {},
   "outputs": [],
   "source": [
    "# Ordeno el DataFrame por fecha para asegurar la correcta imputación\n",
    "df_temp_2019 = df_temp_2019.sort_values('fecha')\n",
    "\n",
    "# Selecciono las columnas a imputar \n",
    "columnas_a_imputar = ['tmed', 'tmin', 'tmax', 'velmedia', 'hrMedia']\n",
    "\n",
    "# Se itera sobre las filas y las columnas a imputar\n",
    "for index, row in df_temp_2019.iterrows():\n",
    "    for columna in columnas_a_imputar:\n",
    "        if pd.isna(row[columna]):\n",
    "            # Buscar el valor del día anterior en la misma columna\n",
    "            valor_anterior = df_temp_2019.loc[index - 1, columna]\n",
    "            # Imputar si el valor anterior existe\n",
    "            if not pd.isna(valor_anterior):\n",
    "                df_temp_2019.loc[index, columna] = valor_anterior"
   ]
  },
  {
   "cell_type": "markdown",
   "metadata": {},
   "source": [
    "Compruebo que los valores ha sido imputados totalmente."
   ]
  },
  {
   "cell_type": "code",
   "execution_count": 10,
   "metadata": {},
   "outputs": [
    {
     "data": {
      "text/plain": [
       "fecha        0\n",
       "provincia    0\n",
       "tmed         0\n",
       "prec         0\n",
       "tmin         0\n",
       "tmax         0\n",
       "velmedia     0\n",
       "hrMedia      0\n",
       "dtype: int64"
      ]
     },
     "execution_count": 10,
     "metadata": {},
     "output_type": "execute_result"
    }
   ],
   "source": [
    "df_temp_2019.isnull().sum()"
   ]
  },
  {
   "cell_type": "markdown",
   "metadata": {},
   "source": [
    "- Renombro las columna `provincia` por `ciudad`."
   ]
  },
  {
   "cell_type": "code",
   "execution_count": 11,
   "metadata": {},
   "outputs": [
    {
     "data": {
      "text/html": [
       "<div>\n",
       "<style scoped>\n",
       "    .dataframe tbody tr th:only-of-type {\n",
       "        vertical-align: middle;\n",
       "    }\n",
       "\n",
       "    .dataframe tbody tr th {\n",
       "        vertical-align: top;\n",
       "    }\n",
       "\n",
       "    .dataframe thead th {\n",
       "        text-align: right;\n",
       "    }\n",
       "</style>\n",
       "<table border=\"1\" class=\"dataframe\">\n",
       "  <thead>\n",
       "    <tr style=\"text-align: right;\">\n",
       "      <th></th>\n",
       "      <th>fecha</th>\n",
       "      <th>ciudad</th>\n",
       "      <th>tmin</th>\n",
       "      <th>tmax</th>\n",
       "      <th>tmed</th>\n",
       "      <th>prec</th>\n",
       "      <th>hrmedia</th>\n",
       "      <th>velmedia</th>\n",
       "    </tr>\n",
       "  </thead>\n",
       "  <tbody>\n",
       "    <tr>\n",
       "      <th>0</th>\n",
       "      <td>2019-01-01</td>\n",
       "      <td>BARCELONA</td>\n",
       "      <td>6.6</td>\n",
       "      <td>16.2</td>\n",
       "      <td>11.4</td>\n",
       "      <td>0.0</td>\n",
       "      <td>76.0</td>\n",
       "      <td>3.1</td>\n",
       "    </tr>\n",
       "    <tr>\n",
       "      <th>1</th>\n",
       "      <td>2019-01-02</td>\n",
       "      <td>BARCELONA</td>\n",
       "      <td>6.6</td>\n",
       "      <td>15.7</td>\n",
       "      <td>11.2</td>\n",
       "      <td>0.0</td>\n",
       "      <td>52.0</td>\n",
       "      <td>2.2</td>\n",
       "    </tr>\n",
       "    <tr>\n",
       "      <th>2</th>\n",
       "      <td>2019-01-03</td>\n",
       "      <td>BARCELONA</td>\n",
       "      <td>5.0</td>\n",
       "      <td>13.5</td>\n",
       "      <td>9.2</td>\n",
       "      <td>0.0</td>\n",
       "      <td>64.0</td>\n",
       "      <td>3.3</td>\n",
       "    </tr>\n",
       "    <tr>\n",
       "      <th>3</th>\n",
       "      <td>2019-01-04</td>\n",
       "      <td>BARCELONA</td>\n",
       "      <td>4.3</td>\n",
       "      <td>12.6</td>\n",
       "      <td>8.4</td>\n",
       "      <td>0.0</td>\n",
       "      <td>65.0</td>\n",
       "      <td>2.8</td>\n",
       "    </tr>\n",
       "    <tr>\n",
       "      <th>4</th>\n",
       "      <td>2019-01-05</td>\n",
       "      <td>BARCELONA</td>\n",
       "      <td>6.6</td>\n",
       "      <td>16.3</td>\n",
       "      <td>11.4</td>\n",
       "      <td>0.0</td>\n",
       "      <td>50.0</td>\n",
       "      <td>1.9</td>\n",
       "    </tr>\n",
       "  </tbody>\n",
       "</table>\n",
       "</div>"
      ],
      "text/plain": [
       "       fecha     ciudad  tmin  tmax  tmed  prec  hrmedia  velmedia\n",
       "0 2019-01-01  BARCELONA   6.6  16.2  11.4   0.0     76.0       3.1\n",
       "1 2019-01-02  BARCELONA   6.6  15.7  11.2   0.0     52.0       2.2\n",
       "2 2019-01-03  BARCELONA   5.0  13.5   9.2   0.0     64.0       3.3\n",
       "3 2019-01-04  BARCELONA   4.3  12.6   8.4   0.0     65.0       2.8\n",
       "4 2019-01-05  BARCELONA   6.6  16.3  11.4   0.0     50.0       1.9"
      ]
     },
     "execution_count": 11,
     "metadata": {},
     "output_type": "execute_result"
    }
   ],
   "source": [
    "df_temp_2019= df_temp_2019.rename(columns={'provincia': 'ciudad', 'hrMedia': 'hrmedia'})\n",
    "df_temp_2019= df_temp_2019[['fecha', 'ciudad', 'tmin', 'tmax', 'tmed', 'prec','hrmedia', 'velmedia']]\n",
    "df_temp_2019.head()\n"
   ]
  },
  {
   "cell_type": "markdown",
   "metadata": {},
   "source": [
    "Codifico la columna `ciudad` utilizando el valor `1` para poder relacionarlo en la base de datos con la tabla que corresponda a las ciudades"
   ]
  },
  {
   "cell_type": "code",
   "execution_count": 12,
   "metadata": {},
   "outputs": [
    {
     "data": {
      "text/html": [
       "<div>\n",
       "<style scoped>\n",
       "    .dataframe tbody tr th:only-of-type {\n",
       "        vertical-align: middle;\n",
       "    }\n",
       "\n",
       "    .dataframe tbody tr th {\n",
       "        vertical-align: top;\n",
       "    }\n",
       "\n",
       "    .dataframe thead th {\n",
       "        text-align: right;\n",
       "    }\n",
       "</style>\n",
       "<table border=\"1\" class=\"dataframe\">\n",
       "  <thead>\n",
       "    <tr style=\"text-align: right;\">\n",
       "      <th></th>\n",
       "      <th>fecha</th>\n",
       "      <th>ciudad</th>\n",
       "      <th>tmin</th>\n",
       "      <th>tmax</th>\n",
       "      <th>tmed</th>\n",
       "      <th>prec</th>\n",
       "      <th>hrmedia</th>\n",
       "      <th>velmedia</th>\n",
       "    </tr>\n",
       "  </thead>\n",
       "  <tbody>\n",
       "    <tr>\n",
       "      <th>0</th>\n",
       "      <td>2019-01-01</td>\n",
       "      <td>1</td>\n",
       "      <td>6.6</td>\n",
       "      <td>16.2</td>\n",
       "      <td>11.4</td>\n",
       "      <td>0.0</td>\n",
       "      <td>76.0</td>\n",
       "      <td>3.1</td>\n",
       "    </tr>\n",
       "    <tr>\n",
       "      <th>1</th>\n",
       "      <td>2019-01-02</td>\n",
       "      <td>1</td>\n",
       "      <td>6.6</td>\n",
       "      <td>15.7</td>\n",
       "      <td>11.2</td>\n",
       "      <td>0.0</td>\n",
       "      <td>52.0</td>\n",
       "      <td>2.2</td>\n",
       "    </tr>\n",
       "    <tr>\n",
       "      <th>2</th>\n",
       "      <td>2019-01-03</td>\n",
       "      <td>1</td>\n",
       "      <td>5.0</td>\n",
       "      <td>13.5</td>\n",
       "      <td>9.2</td>\n",
       "      <td>0.0</td>\n",
       "      <td>64.0</td>\n",
       "      <td>3.3</td>\n",
       "    </tr>\n",
       "    <tr>\n",
       "      <th>3</th>\n",
       "      <td>2019-01-04</td>\n",
       "      <td>1</td>\n",
       "      <td>4.3</td>\n",
       "      <td>12.6</td>\n",
       "      <td>8.4</td>\n",
       "      <td>0.0</td>\n",
       "      <td>65.0</td>\n",
       "      <td>2.8</td>\n",
       "    </tr>\n",
       "    <tr>\n",
       "      <th>4</th>\n",
       "      <td>2019-01-05</td>\n",
       "      <td>1</td>\n",
       "      <td>6.6</td>\n",
       "      <td>16.3</td>\n",
       "      <td>11.4</td>\n",
       "      <td>0.0</td>\n",
       "      <td>50.0</td>\n",
       "      <td>1.9</td>\n",
       "    </tr>\n",
       "  </tbody>\n",
       "</table>\n",
       "</div>"
      ],
      "text/plain": [
       "       fecha ciudad  tmin  tmax  tmed  prec  hrmedia  velmedia\n",
       "0 2019-01-01      1   6.6  16.2  11.4   0.0     76.0       3.1\n",
       "1 2019-01-02      1   6.6  15.7  11.2   0.0     52.0       2.2\n",
       "2 2019-01-03      1   5.0  13.5   9.2   0.0     64.0       3.3\n",
       "3 2019-01-04      1   4.3  12.6   8.4   0.0     65.0       2.8\n",
       "4 2019-01-05      1   6.6  16.3  11.4   0.0     50.0       1.9"
      ]
     },
     "execution_count": 12,
     "metadata": {},
     "output_type": "execute_result"
    }
   ],
   "source": [
    "mapeo_ciudad= {\"BARCELONA\": \"1\"}\n",
    "\n",
    "df_temp_2019['ciudad']= df_temp_2019['ciudad'].map(mapeo_ciudad)\n",
    "df_temp_2019.head()"
   ]
  },
  {
   "cell_type": "markdown",
   "metadata": {},
   "source": [
    "Exporto el dataframe a un archivo en formato `csv`"
   ]
  },
  {
   "cell_type": "code",
   "execution_count": 13,
   "metadata": {},
   "outputs": [],
   "source": [
    "df_temp_2019.to_csv('temp_bcn_2019.csv', index= False, encoding='utf-8')"
   ]
  },
  {
   "cell_type": "markdown",
   "metadata": {},
   "source": [
    "Resumen del dataframe creado:\n",
    "\n",
    "- Se eliminaron las columnas 'indicativo', 'nombre', 'hrMax', 'horaHrMax', 'hrMin', 'horaHrMin', 'altitud', 'dir', 'racha', 'horaracha', 'horatmin', 'horatmax'.\n",
    "- Se realizaron transformaciones de tipo en las columnas 'tmed', 'prec', 'tmin', 'tmax', 'velmedia'.\n",
    "- Se transformó la columna 'fecha' a tipo datetime\n",
    "- Se trataron los valores nulos mediante la imputación del registro del día anterior al faltante, buscando mantener la continuidad de la serie. No hay valores faltantes.\n",
    "- Se renombró la columna 'provincia' por 'ciudad' y se asignó el valor 1 para que sea utilizado en un modelo de tablas relaciones como identificador(id).\n",
    "- Se exporto el dataframe a un archivo en formato csv."
   ]
  }
 ],
 "metadata": {
  "kernelspec": {
   "display_name": "Python 3",
   "language": "python",
   "name": "python3"
  },
  "language_info": {
   "codemirror_mode": {
    "name": "ipython",
    "version": 3
   },
   "file_extension": ".py",
   "mimetype": "text/x-python",
   "name": "python",
   "nbconvert_exporter": "python",
   "pygments_lexer": "ipython3",
   "version": "3.12.4"
  }
 },
 "nbformat": 4,
 "nbformat_minor": 2
}
