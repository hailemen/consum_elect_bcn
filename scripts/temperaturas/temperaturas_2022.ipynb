{
 "cells": [
  {
   "cell_type": "markdown",
   "metadata": {},
   "source": [
    "Cargo los datos sobre temperaturas durante el año 2022 de Barcelona desde la estación de Drassanes que tiene un criterio de temperatura a nivel ciudad."
   ]
  },
  {
   "cell_type": "code",
   "execution_count": 15,
   "metadata": {},
   "outputs": [
    {
     "data": {
      "text/html": [
       "<div>\n",
       "<style scoped>\n",
       "    .dataframe tbody tr th:only-of-type {\n",
       "        vertical-align: middle;\n",
       "    }\n",
       "\n",
       "    .dataframe tbody tr th {\n",
       "        vertical-align: top;\n",
       "    }\n",
       "\n",
       "    .dataframe thead th {\n",
       "        text-align: right;\n",
       "    }\n",
       "</style>\n",
       "<table border=\"1\" class=\"dataframe\">\n",
       "  <thead>\n",
       "    <tr style=\"text-align: right;\">\n",
       "      <th></th>\n",
       "      <th>fecha</th>\n",
       "      <th>indicativo</th>\n",
       "      <th>nombre</th>\n",
       "      <th>provincia</th>\n",
       "      <th>altitud</th>\n",
       "      <th>tmed</th>\n",
       "      <th>prec</th>\n",
       "      <th>tmin</th>\n",
       "      <th>horatmin</th>\n",
       "      <th>tmax</th>\n",
       "      <th>horatmax</th>\n",
       "      <th>dir</th>\n",
       "      <th>velmedia</th>\n",
       "      <th>racha</th>\n",
       "      <th>horaracha</th>\n",
       "      <th>hrMedia</th>\n",
       "      <th>hrMax</th>\n",
       "      <th>horaHrMax</th>\n",
       "      <th>hrMin</th>\n",
       "      <th>horaHrMin</th>\n",
       "    </tr>\n",
       "  </thead>\n",
       "  <tbody>\n",
       "    <tr>\n",
       "      <th>0</th>\n",
       "      <td>2022-01-01</td>\n",
       "      <td>0201D</td>\n",
       "      <td>BARCELONA, PORT OL?MPIC</td>\n",
       "      <td>BARCELONA</td>\n",
       "      <td>26</td>\n",
       "      <td>11,9</td>\n",
       "      <td>0,0</td>\n",
       "      <td>7,7</td>\n",
       "      <td>06:50</td>\n",
       "      <td>16,1</td>\n",
       "      <td>14:40</td>\n",
       "      <td>20.0</td>\n",
       "      <td>2,5</td>\n",
       "      <td>5,8</td>\n",
       "      <td>12:30</td>\n",
       "      <td>90</td>\n",
       "      <td>94.0</td>\n",
       "      <td>00:00</td>\n",
       "      <td>64.0</td>\n",
       "      <td>10:00</td>\n",
       "    </tr>\n",
       "    <tr>\n",
       "      <th>1</th>\n",
       "      <td>2022-01-02</td>\n",
       "      <td>0201D</td>\n",
       "      <td>BARCELONA, PORT OL?MPIC</td>\n",
       "      <td>BARCELONA</td>\n",
       "      <td>26</td>\n",
       "      <td>10,4</td>\n",
       "      <td>0,0</td>\n",
       "      <td>6,5</td>\n",
       "      <td>07:50</td>\n",
       "      <td>14,3</td>\n",
       "      <td>11:40</td>\n",
       "      <td>20.0</td>\n",
       "      <td>2,5</td>\n",
       "      <td>5,6</td>\n",
       "      <td>12:30</td>\n",
       "      <td>90</td>\n",
       "      <td>93.0</td>\n",
       "      <td>Varias</td>\n",
       "      <td>68.0</td>\n",
       "      <td>10:00</td>\n",
       "    </tr>\n",
       "    <tr>\n",
       "      <th>2</th>\n",
       "      <td>2022-01-03</td>\n",
       "      <td>0201D</td>\n",
       "      <td>BARCELONA, PORT OL?MPIC</td>\n",
       "      <td>BARCELONA</td>\n",
       "      <td>26</td>\n",
       "      <td>11,7</td>\n",
       "      <td>0,0</td>\n",
       "      <td>8,2</td>\n",
       "      <td>07:10</td>\n",
       "      <td>15,2</td>\n",
       "      <td>14:50</td>\n",
       "      <td>26.0</td>\n",
       "      <td>2,5</td>\n",
       "      <td>7,5</td>\n",
       "      <td>15:10</td>\n",
       "      <td>88</td>\n",
       "      <td>93.0</td>\n",
       "      <td>Varias</td>\n",
       "      <td>70.0</td>\n",
       "      <td>10:10</td>\n",
       "    </tr>\n",
       "    <tr>\n",
       "      <th>3</th>\n",
       "      <td>2022-01-04</td>\n",
       "      <td>0201D</td>\n",
       "      <td>BARCELONA, PORT OL?MPIC</td>\n",
       "      <td>BARCELONA</td>\n",
       "      <td>26</td>\n",
       "      <td>15,4</td>\n",
       "      <td>5,1</td>\n",
       "      <td>11,1</td>\n",
       "      <td>05:30</td>\n",
       "      <td>19,7</td>\n",
       "      <td>14:20</td>\n",
       "      <td>26.0</td>\n",
       "      <td>3,9</td>\n",
       "      <td>8,3</td>\n",
       "      <td>02:30</td>\n",
       "      <td>84</td>\n",
       "      <td>93.0</td>\n",
       "      <td>Varias</td>\n",
       "      <td>57.0</td>\n",
       "      <td>10:50</td>\n",
       "    </tr>\n",
       "    <tr>\n",
       "      <th>4</th>\n",
       "      <td>2022-01-05</td>\n",
       "      <td>0201D</td>\n",
       "      <td>BARCELONA, PORT OL?MPIC</td>\n",
       "      <td>BARCELONA</td>\n",
       "      <td>26</td>\n",
       "      <td>10,3</td>\n",
       "      <td>0,8</td>\n",
       "      <td>6,9</td>\n",
       "      <td>23:59</td>\n",
       "      <td>13,7</td>\n",
       "      <td>00:20</td>\n",
       "      <td>9.0</td>\n",
       "      <td>0,8</td>\n",
       "      <td>14,7</td>\n",
       "      <td>01:40</td>\n",
       "      <td>75</td>\n",
       "      <td>93.0</td>\n",
       "      <td>00:00</td>\n",
       "      <td>57.0</td>\n",
       "      <td>13:10</td>\n",
       "    </tr>\n",
       "  </tbody>\n",
       "</table>\n",
       "</div>"
      ],
      "text/plain": [
       "        fecha indicativo                   nombre  provincia  altitud  tmed  \\\n",
       "0  2022-01-01      0201D  BARCELONA, PORT OL?MPIC  BARCELONA       26  11,9   \n",
       "1  2022-01-02      0201D  BARCELONA, PORT OL?MPIC  BARCELONA       26  10,4   \n",
       "2  2022-01-03      0201D  BARCELONA, PORT OL?MPIC  BARCELONA       26  11,7   \n",
       "3  2022-01-04      0201D  BARCELONA, PORT OL?MPIC  BARCELONA       26  15,4   \n",
       "4  2022-01-05      0201D  BARCELONA, PORT OL?MPIC  BARCELONA       26  10,3   \n",
       "\n",
       "  prec  tmin horatmin  tmax horatmax   dir velmedia racha horaracha  hrMedia  \\\n",
       "0  0,0   7,7    06:50  16,1    14:40  20.0      2,5   5,8     12:30       90   \n",
       "1  0,0   6,5    07:50  14,3    11:40  20.0      2,5   5,6     12:30       90   \n",
       "2  0,0   8,2    07:10  15,2    14:50  26.0      2,5   7,5     15:10       88   \n",
       "3  5,1  11,1    05:30  19,7    14:20  26.0      3,9   8,3     02:30       84   \n",
       "4  0,8   6,9    23:59  13,7    00:20   9.0      0,8  14,7     01:40       75   \n",
       "\n",
       "   hrMax horaHrMax  hrMin horaHrMin  \n",
       "0   94.0     00:00   64.0     10:00  \n",
       "1   93.0    Varias   68.0     10:00  \n",
       "2   93.0    Varias   70.0     10:10  \n",
       "3   93.0    Varias   57.0     10:50  \n",
       "4   93.0     00:00   57.0     13:10  "
      ]
     },
     "execution_count": 15,
     "metadata": {},
     "output_type": "execute_result"
    }
   ],
   "source": [
    "import pandas as pd\n",
    "\n",
    "# Cargo los archivos CSV\n",
    "df1 = pd.read_csv('temp_012022_062022.csv')\n",
    "df2 = pd.read_csv('temp_072022_122022.csv')\n",
    "\n",
    "# Concateno los DataFrames por filas\n",
    "df_temp_2022 = pd.concat([df1, df2], axis=0, ignore_index=True)\n",
    "\n",
    "df_temp_2022.head()"
   ]
  },
  {
   "cell_type": "markdown",
   "metadata": {},
   "source": [
    "El dataframe está compuesto por 365 filas y 20 columnas"
   ]
  },
  {
   "cell_type": "code",
   "execution_count": 16,
   "metadata": {},
   "outputs": [
    {
     "data": {
      "text/plain": [
       "(365, 20)"
      ]
     },
     "execution_count": 16,
     "metadata": {},
     "output_type": "execute_result"
    }
   ],
   "source": [
    "df_temp_2022.shape "
   ]
  },
  {
   "cell_type": "markdown",
   "metadata": {},
   "source": [
    "Hay columnas que no contemplo utilizar por lo que decido eliminarlas para aligerar el dataframe."
   ]
  },
  {
   "cell_type": "code",
   "execution_count": 17,
   "metadata": {},
   "outputs": [
    {
     "data": {
      "text/html": [
       "<div>\n",
       "<style scoped>\n",
       "    .dataframe tbody tr th:only-of-type {\n",
       "        vertical-align: middle;\n",
       "    }\n",
       "\n",
       "    .dataframe tbody tr th {\n",
       "        vertical-align: top;\n",
       "    }\n",
       "\n",
       "    .dataframe thead th {\n",
       "        text-align: right;\n",
       "    }\n",
       "</style>\n",
       "<table border=\"1\" class=\"dataframe\">\n",
       "  <thead>\n",
       "    <tr style=\"text-align: right;\">\n",
       "      <th></th>\n",
       "      <th>fecha</th>\n",
       "      <th>provincia</th>\n",
       "      <th>tmed</th>\n",
       "      <th>prec</th>\n",
       "      <th>tmin</th>\n",
       "      <th>tmax</th>\n",
       "      <th>velmedia</th>\n",
       "      <th>hrMedia</th>\n",
       "    </tr>\n",
       "  </thead>\n",
       "  <tbody>\n",
       "    <tr>\n",
       "      <th>0</th>\n",
       "      <td>2022-01-01</td>\n",
       "      <td>BARCELONA</td>\n",
       "      <td>11,9</td>\n",
       "      <td>0,0</td>\n",
       "      <td>7,7</td>\n",
       "      <td>16,1</td>\n",
       "      <td>2,5</td>\n",
       "      <td>90</td>\n",
       "    </tr>\n",
       "    <tr>\n",
       "      <th>1</th>\n",
       "      <td>2022-01-02</td>\n",
       "      <td>BARCELONA</td>\n",
       "      <td>10,4</td>\n",
       "      <td>0,0</td>\n",
       "      <td>6,5</td>\n",
       "      <td>14,3</td>\n",
       "      <td>2,5</td>\n",
       "      <td>90</td>\n",
       "    </tr>\n",
       "    <tr>\n",
       "      <th>2</th>\n",
       "      <td>2022-01-03</td>\n",
       "      <td>BARCELONA</td>\n",
       "      <td>11,7</td>\n",
       "      <td>0,0</td>\n",
       "      <td>8,2</td>\n",
       "      <td>15,2</td>\n",
       "      <td>2,5</td>\n",
       "      <td>88</td>\n",
       "    </tr>\n",
       "    <tr>\n",
       "      <th>3</th>\n",
       "      <td>2022-01-04</td>\n",
       "      <td>BARCELONA</td>\n",
       "      <td>15,4</td>\n",
       "      <td>5,1</td>\n",
       "      <td>11,1</td>\n",
       "      <td>19,7</td>\n",
       "      <td>3,9</td>\n",
       "      <td>84</td>\n",
       "    </tr>\n",
       "    <tr>\n",
       "      <th>4</th>\n",
       "      <td>2022-01-05</td>\n",
       "      <td>BARCELONA</td>\n",
       "      <td>10,3</td>\n",
       "      <td>0,8</td>\n",
       "      <td>6,9</td>\n",
       "      <td>13,7</td>\n",
       "      <td>0,8</td>\n",
       "      <td>75</td>\n",
       "    </tr>\n",
       "  </tbody>\n",
       "</table>\n",
       "</div>"
      ],
      "text/plain": [
       "        fecha  provincia  tmed prec  tmin  tmax velmedia  hrMedia\n",
       "0  2022-01-01  BARCELONA  11,9  0,0   7,7  16,1      2,5       90\n",
       "1  2022-01-02  BARCELONA  10,4  0,0   6,5  14,3      2,5       90\n",
       "2  2022-01-03  BARCELONA  11,7  0,0   8,2  15,2      2,5       88\n",
       "3  2022-01-04  BARCELONA  15,4  5,1  11,1  19,7      3,9       84\n",
       "4  2022-01-05  BARCELONA  10,3  0,8   6,9  13,7      0,8       75"
      ]
     },
     "execution_count": 17,
     "metadata": {},
     "output_type": "execute_result"
    }
   ],
   "source": [
    "df_temp_2022= df_temp_2022.drop(columns=['indicativo', 'nombre', 'hrMax', 'horaHrMax', 'hrMin', 'horaHrMin', 'altitud', 'dir', 'racha', 'horaracha', 'horatmin', 'horatmax'])\n",
    "\n",
    "df_temp_2022.head()"
   ]
  },
  {
   "cell_type": "markdown",
   "metadata": {},
   "source": [
    "Reviso las características de cada columna, observo varios detalles sobre ellas que considero tratar:\n",
    "\n",
    "* `fecha` es del tipo `object` y el formato debería ser `datetime`\n",
    "* Hay varias columas que aparecen como tipo `object` al utiizar una coma como decimal y las transformaré como float con punto.\n"
   ]
  },
  {
   "cell_type": "code",
   "execution_count": 18,
   "metadata": {},
   "outputs": [
    {
     "name": "stdout",
     "output_type": "stream",
     "text": [
      "<class 'pandas.core.frame.DataFrame'>\n",
      "RangeIndex: 365 entries, 0 to 364\n",
      "Data columns (total 8 columns):\n",
      " #   Column     Non-Null Count  Dtype \n",
      "---  ------     --------------  ----- \n",
      " 0   fecha      365 non-null    object\n",
      " 1   provincia  365 non-null    object\n",
      " 2   tmed       364 non-null    object\n",
      " 3   prec       363 non-null    object\n",
      " 4   tmin       364 non-null    object\n",
      " 5   tmax       364 non-null    object\n",
      " 6   velmedia   181 non-null    object\n",
      " 7   hrMedia    365 non-null    int64 \n",
      "dtypes: int64(1), object(7)\n",
      "memory usage: 22.9+ KB\n"
     ]
    }
   ],
   "source": [
    "df_temp_2022.info()"
   ]
  },
  {
   "cell_type": "markdown",
   "metadata": {},
   "source": [
    "Realizo la transformación de la columna `fecha` al tipo `datetime`"
   ]
  },
  {
   "cell_type": "code",
   "execution_count": 19,
   "metadata": {},
   "outputs": [
    {
     "name": "stdout",
     "output_type": "stream",
     "text": [
      "fecha        datetime64[ns]\n",
      "provincia            object\n",
      "tmed                 object\n",
      "prec                 object\n",
      "tmin                 object\n",
      "tmax                 object\n",
      "velmedia             object\n",
      "hrMedia               int64\n",
      "dtype: object\n"
     ]
    }
   ],
   "source": [
    "df_temp_2022['fecha']= pd.to_datetime(df_temp_2022['fecha'], format='%Y-%m-%d')\n",
    "print(df_temp_2022.dtypes)"
   ]
  },
  {
   "cell_type": "markdown",
   "metadata": {},
   "source": [
    "Transformo las columnas 'tmed', 'prec', 'tmin', 'tmax' al tipo float, modificando el símbolo de coma por punto."
   ]
  },
  {
   "cell_type": "code",
   "execution_count": 20,
   "metadata": {},
   "outputs": [
    {
     "name": "stdout",
     "output_type": "stream",
     "text": [
      "fecha        datetime64[ns]\n",
      "provincia            object\n",
      "tmed                float64\n",
      "prec                float64\n",
      "tmin                float64\n",
      "tmax                float64\n",
      "velmedia            float64\n",
      "hrMedia               int64\n",
      "dtype: object\n"
     ]
    }
   ],
   "source": [
    "columnas_a_float = ['tmed', 'prec', 'tmin', 'tmax', 'velmedia']\n",
    "\n",
    "# Reemplazo las comas por puntos para que pueda realizarse el cambio al tipo float\n",
    "for col in columnas_a_float:\n",
    "    df_temp_2022[col] = df_temp_2022[col].str.replace(',', '.')  \n",
    "\n",
    "df_temp_2022[columnas_a_float] = df_temp_2022[columnas_a_float].astype(float)\n",
    "\n",
    "print(df_temp_2022.dtypes)"
   ]
  },
  {
   "cell_type": "code",
   "execution_count": 21,
   "metadata": {},
   "outputs": [
    {
     "data": {
      "text/plain": [
       "fecha          0\n",
       "provincia      0\n",
       "tmed           1\n",
       "prec           2\n",
       "tmin           1\n",
       "tmax           1\n",
       "velmedia     184\n",
       "hrMedia        0\n",
       "dtype: int64"
      ]
     },
     "execution_count": 21,
     "metadata": {},
     "output_type": "execute_result"
    }
   ],
   "source": [
    "df_temp_2022.isnull().sum()"
   ]
  },
  {
   "cell_type": "markdown",
   "metadata": {},
   "source": [
    "Analizo los valores nulos de la variable `tmed`; observo que aparecen varias columnas en ese registros con valores faltantes."
   ]
  },
  {
   "cell_type": "code",
   "execution_count": 22,
   "metadata": {},
   "outputs": [
    {
     "data": {
      "text/html": [
       "<div>\n",
       "<style scoped>\n",
       "    .dataframe tbody tr th:only-of-type {\n",
       "        vertical-align: middle;\n",
       "    }\n",
       "\n",
       "    .dataframe tbody tr th {\n",
       "        vertical-align: top;\n",
       "    }\n",
       "\n",
       "    .dataframe thead th {\n",
       "        text-align: right;\n",
       "    }\n",
       "</style>\n",
       "<table border=\"1\" class=\"dataframe\">\n",
       "  <thead>\n",
       "    <tr style=\"text-align: right;\">\n",
       "      <th></th>\n",
       "      <th>fecha</th>\n",
       "      <th>provincia</th>\n",
       "      <th>tmed</th>\n",
       "      <th>prec</th>\n",
       "      <th>tmin</th>\n",
       "      <th>tmax</th>\n",
       "      <th>velmedia</th>\n",
       "      <th>hrMedia</th>\n",
       "    </tr>\n",
       "  </thead>\n",
       "  <tbody>\n",
       "    <tr>\n",
       "      <th>200</th>\n",
       "      <td>2022-07-20</td>\n",
       "      <td>BARCELONA</td>\n",
       "      <td>NaN</td>\n",
       "      <td>0.0</td>\n",
       "      <td>NaN</td>\n",
       "      <td>NaN</td>\n",
       "      <td>NaN</td>\n",
       "      <td>69</td>\n",
       "    </tr>\n",
       "  </tbody>\n",
       "</table>\n",
       "</div>"
      ],
      "text/plain": [
       "         fecha  provincia  tmed  prec  tmin  tmax  velmedia  hrMedia\n",
       "200 2022-07-20  BARCELONA   NaN   0.0   NaN   NaN       NaN       69"
      ]
     },
     "execution_count": 22,
     "metadata": {},
     "output_type": "execute_result"
    }
   ],
   "source": [
    "nulos_tmed = df_temp_2022['tmed'].isnull()\n",
    "df_temp_2022[nulos_tmed]"
   ]
  },
  {
   "cell_type": "markdown",
   "metadata": {},
   "source": [
    "La idea de la imputación en este caso es mantener la continuidad de la serie. Imputo los valores faltantes utilizando una función, que en caso de que encuentre un valor nulo en una columna, buscará el valor correspondiente en la fila anterior (día anterior). Si el valor anterior existe, se utiliza para reemplazar el valor nulo. "
   ]
  },
  {
   "cell_type": "code",
   "execution_count": 23,
   "metadata": {},
   "outputs": [],
   "source": [
    "# Ordeno el DataFrame por fecha para asegurar la correcta imputación\n",
    "df_temp_2022 = df_temp_2022.sort_values('fecha')\n",
    "\n",
    "# Selecciono las columnas a imputar \n",
    "columnas_a_imputar = ['tmed', 'tmin', 'tmax', 'prec', 'velmedia', 'hrMedia']\n",
    "\n",
    "# Se itera sobre las filas y las columnas a imputar\n",
    "for index, row in df_temp_2022.iterrows():\n",
    "    for columna in columnas_a_imputar:\n",
    "        if pd.isna(row[columna]):\n",
    "            # Buscar el valor del día anterior en la misma columna\n",
    "            valor_anterior = df_temp_2022.loc[index - 1, columna]\n",
    "            # Imputar si el valor anterior existe\n",
    "            if not pd.isna(valor_anterior):\n",
    "                df_temp_2022.loc[index, columna] = valor_anterior"
   ]
  },
  {
   "cell_type": "markdown",
   "metadata": {},
   "source": [
    "Compruebo que los valores ha sido imputados totalmente."
   ]
  },
  {
   "cell_type": "code",
   "execution_count": 24,
   "metadata": {},
   "outputs": [
    {
     "data": {
      "text/plain": [
       "fecha        0\n",
       "provincia    0\n",
       "tmed         0\n",
       "prec         0\n",
       "tmin         0\n",
       "tmax         0\n",
       "velmedia     0\n",
       "hrMedia      0\n",
       "dtype: int64"
      ]
     },
     "execution_count": 24,
     "metadata": {},
     "output_type": "execute_result"
    }
   ],
   "source": [
    "df_temp_2022.isnull().sum()"
   ]
  },
  {
   "cell_type": "markdown",
   "metadata": {},
   "source": [
    "- Renombro las columna `provincia` por `ciudad`."
   ]
  },
  {
   "cell_type": "code",
   "execution_count": 25,
   "metadata": {},
   "outputs": [
    {
     "data": {
      "text/html": [
       "<div>\n",
       "<style scoped>\n",
       "    .dataframe tbody tr th:only-of-type {\n",
       "        vertical-align: middle;\n",
       "    }\n",
       "\n",
       "    .dataframe tbody tr th {\n",
       "        vertical-align: top;\n",
       "    }\n",
       "\n",
       "    .dataframe thead th {\n",
       "        text-align: right;\n",
       "    }\n",
       "</style>\n",
       "<table border=\"1\" class=\"dataframe\">\n",
       "  <thead>\n",
       "    <tr style=\"text-align: right;\">\n",
       "      <th></th>\n",
       "      <th>fecha</th>\n",
       "      <th>ciudad</th>\n",
       "      <th>tmin</th>\n",
       "      <th>tmax</th>\n",
       "      <th>tmed</th>\n",
       "      <th>prec</th>\n",
       "      <th>hrmedia</th>\n",
       "      <th>velmedia</th>\n",
       "    </tr>\n",
       "  </thead>\n",
       "  <tbody>\n",
       "    <tr>\n",
       "      <th>0</th>\n",
       "      <td>2022-01-01</td>\n",
       "      <td>BARCELONA</td>\n",
       "      <td>7.7</td>\n",
       "      <td>16.1</td>\n",
       "      <td>11.9</td>\n",
       "      <td>0.0</td>\n",
       "      <td>90</td>\n",
       "      <td>2.5</td>\n",
       "    </tr>\n",
       "    <tr>\n",
       "      <th>1</th>\n",
       "      <td>2022-01-02</td>\n",
       "      <td>BARCELONA</td>\n",
       "      <td>6.5</td>\n",
       "      <td>14.3</td>\n",
       "      <td>10.4</td>\n",
       "      <td>0.0</td>\n",
       "      <td>90</td>\n",
       "      <td>2.5</td>\n",
       "    </tr>\n",
       "    <tr>\n",
       "      <th>2</th>\n",
       "      <td>2022-01-03</td>\n",
       "      <td>BARCELONA</td>\n",
       "      <td>8.2</td>\n",
       "      <td>15.2</td>\n",
       "      <td>11.7</td>\n",
       "      <td>0.0</td>\n",
       "      <td>88</td>\n",
       "      <td>2.5</td>\n",
       "    </tr>\n",
       "    <tr>\n",
       "      <th>3</th>\n",
       "      <td>2022-01-04</td>\n",
       "      <td>BARCELONA</td>\n",
       "      <td>11.1</td>\n",
       "      <td>19.7</td>\n",
       "      <td>15.4</td>\n",
       "      <td>5.1</td>\n",
       "      <td>84</td>\n",
       "      <td>3.9</td>\n",
       "    </tr>\n",
       "    <tr>\n",
       "      <th>4</th>\n",
       "      <td>2022-01-05</td>\n",
       "      <td>BARCELONA</td>\n",
       "      <td>6.9</td>\n",
       "      <td>13.7</td>\n",
       "      <td>10.3</td>\n",
       "      <td>0.8</td>\n",
       "      <td>75</td>\n",
       "      <td>0.8</td>\n",
       "    </tr>\n",
       "  </tbody>\n",
       "</table>\n",
       "</div>"
      ],
      "text/plain": [
       "       fecha     ciudad  tmin  tmax  tmed  prec  hrmedia  velmedia\n",
       "0 2022-01-01  BARCELONA   7.7  16.1  11.9   0.0       90       2.5\n",
       "1 2022-01-02  BARCELONA   6.5  14.3  10.4   0.0       90       2.5\n",
       "2 2022-01-03  BARCELONA   8.2  15.2  11.7   0.0       88       2.5\n",
       "3 2022-01-04  BARCELONA  11.1  19.7  15.4   5.1       84       3.9\n",
       "4 2022-01-05  BARCELONA   6.9  13.7  10.3   0.8       75       0.8"
      ]
     },
     "execution_count": 25,
     "metadata": {},
     "output_type": "execute_result"
    }
   ],
   "source": [
    "df_temp_2022= df_temp_2022.rename(columns={'provincia': 'ciudad', 'hrMedia': 'hrmedia'})\n",
    "df_temp_2022= df_temp_2022[['fecha', 'ciudad', 'tmin', 'tmax', 'tmed', 'prec','hrmedia', 'velmedia']]\n",
    "df_temp_2022.head()\n"
   ]
  },
  {
   "cell_type": "markdown",
   "metadata": {},
   "source": [
    "Codifico la columna `ciudad` utilizando el valor `1` para poder relacionarlo en la base de datos con la tabla que corresponda a las ciudades"
   ]
  },
  {
   "cell_type": "code",
   "execution_count": 26,
   "metadata": {},
   "outputs": [
    {
     "data": {
      "text/html": [
       "<div>\n",
       "<style scoped>\n",
       "    .dataframe tbody tr th:only-of-type {\n",
       "        vertical-align: middle;\n",
       "    }\n",
       "\n",
       "    .dataframe tbody tr th {\n",
       "        vertical-align: top;\n",
       "    }\n",
       "\n",
       "    .dataframe thead th {\n",
       "        text-align: right;\n",
       "    }\n",
       "</style>\n",
       "<table border=\"1\" class=\"dataframe\">\n",
       "  <thead>\n",
       "    <tr style=\"text-align: right;\">\n",
       "      <th></th>\n",
       "      <th>fecha</th>\n",
       "      <th>ciudad</th>\n",
       "      <th>tmin</th>\n",
       "      <th>tmax</th>\n",
       "      <th>tmed</th>\n",
       "      <th>prec</th>\n",
       "      <th>hrmedia</th>\n",
       "      <th>velmedia</th>\n",
       "    </tr>\n",
       "  </thead>\n",
       "  <tbody>\n",
       "    <tr>\n",
       "      <th>0</th>\n",
       "      <td>2022-01-01</td>\n",
       "      <td>1</td>\n",
       "      <td>7.7</td>\n",
       "      <td>16.1</td>\n",
       "      <td>11.9</td>\n",
       "      <td>0.0</td>\n",
       "      <td>90</td>\n",
       "      <td>2.5</td>\n",
       "    </tr>\n",
       "    <tr>\n",
       "      <th>1</th>\n",
       "      <td>2022-01-02</td>\n",
       "      <td>1</td>\n",
       "      <td>6.5</td>\n",
       "      <td>14.3</td>\n",
       "      <td>10.4</td>\n",
       "      <td>0.0</td>\n",
       "      <td>90</td>\n",
       "      <td>2.5</td>\n",
       "    </tr>\n",
       "    <tr>\n",
       "      <th>2</th>\n",
       "      <td>2022-01-03</td>\n",
       "      <td>1</td>\n",
       "      <td>8.2</td>\n",
       "      <td>15.2</td>\n",
       "      <td>11.7</td>\n",
       "      <td>0.0</td>\n",
       "      <td>88</td>\n",
       "      <td>2.5</td>\n",
       "    </tr>\n",
       "    <tr>\n",
       "      <th>3</th>\n",
       "      <td>2022-01-04</td>\n",
       "      <td>1</td>\n",
       "      <td>11.1</td>\n",
       "      <td>19.7</td>\n",
       "      <td>15.4</td>\n",
       "      <td>5.1</td>\n",
       "      <td>84</td>\n",
       "      <td>3.9</td>\n",
       "    </tr>\n",
       "    <tr>\n",
       "      <th>4</th>\n",
       "      <td>2022-01-05</td>\n",
       "      <td>1</td>\n",
       "      <td>6.9</td>\n",
       "      <td>13.7</td>\n",
       "      <td>10.3</td>\n",
       "      <td>0.8</td>\n",
       "      <td>75</td>\n",
       "      <td>0.8</td>\n",
       "    </tr>\n",
       "  </tbody>\n",
       "</table>\n",
       "</div>"
      ],
      "text/plain": [
       "       fecha ciudad  tmin  tmax  tmed  prec  hrmedia  velmedia\n",
       "0 2022-01-01      1   7.7  16.1  11.9   0.0       90       2.5\n",
       "1 2022-01-02      1   6.5  14.3  10.4   0.0       90       2.5\n",
       "2 2022-01-03      1   8.2  15.2  11.7   0.0       88       2.5\n",
       "3 2022-01-04      1  11.1  19.7  15.4   5.1       84       3.9\n",
       "4 2022-01-05      1   6.9  13.7  10.3   0.8       75       0.8"
      ]
     },
     "execution_count": 26,
     "metadata": {},
     "output_type": "execute_result"
    }
   ],
   "source": [
    "mapeo_ciudad= {\"BARCELONA\": \"1\"}\n",
    "\n",
    "df_temp_2022['ciudad']= df_temp_2022['ciudad'].map(mapeo_ciudad)\n",
    "df_temp_2022.head()"
   ]
  },
  {
   "cell_type": "markdown",
   "metadata": {},
   "source": [
    "Exporto el dataframe a un archivo en formato `csv`"
   ]
  },
  {
   "cell_type": "code",
   "execution_count": 27,
   "metadata": {},
   "outputs": [],
   "source": [
    "df_temp_2022.to_csv('temp_bcn_2022.csv', index= False, encoding='utf-8')"
   ]
  },
  {
   "cell_type": "markdown",
   "metadata": {},
   "source": [
    "Resumen del dataframe creado:\n",
    "\n",
    "- Se eliminaron las columnas 'indicativo', 'nombre', 'hrMax', 'horaHrMax', 'hrMin', 'horaHrMin', 'altitud', 'dir', 'racha', 'horaracha', 'horatmin', 'horatmax'.\n",
    "- Se realizaron transformaciones de tipo en las columnas 'tmed', 'prec', 'tmin', 'tmax', 'velmedia'.\n",
    "- Se transformó la columna 'fecha' a tipo datetime\n",
    "- Se trataron los valores nulos mediante la imputación del registro del día anterior al faltante, buscando mantener la continuidad de la serie. No hay valores faltantes.\n",
    "- Se renombró la columna 'provincia' por 'ciudad' y se asignó el valor 1 para que sea utilizado en un modelo de tablas relaciones como identificador(id).\n",
    "- Se exporto el dataframe a un archivo en formato csv."
   ]
  }
 ],
 "metadata": {
  "kernelspec": {
   "display_name": "Python 3",
   "language": "python",
   "name": "python3"
  },
  "language_info": {
   "codemirror_mode": {
    "name": "ipython",
    "version": 3
   },
   "file_extension": ".py",
   "mimetype": "text/x-python",
   "name": "python",
   "nbconvert_exporter": "python",
   "pygments_lexer": "ipython3",
   "version": "3.12.4"
  }
 },
 "nbformat": 4,
 "nbformat_minor": 2
}
