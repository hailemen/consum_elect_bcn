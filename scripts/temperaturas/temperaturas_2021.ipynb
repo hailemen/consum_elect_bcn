{
 "cells": [
  {
   "cell_type": "markdown",
   "metadata": {},
   "source": [
    "Cargo los datos sobre temperaturas durante el año 2021 de Barcelona desde la estación de Drassanes que tiene un criterio de temperatura a nivel ciudad."
   ]
  },
  {
   "cell_type": "code",
   "execution_count": 1,
   "metadata": {},
   "outputs": [
    {
     "data": {
      "text/html": [
       "<div>\n",
       "<style scoped>\n",
       "    .dataframe tbody tr th:only-of-type {\n",
       "        vertical-align: middle;\n",
       "    }\n",
       "\n",
       "    .dataframe tbody tr th {\n",
       "        vertical-align: top;\n",
       "    }\n",
       "\n",
       "    .dataframe thead th {\n",
       "        text-align: right;\n",
       "    }\n",
       "</style>\n",
       "<table border=\"1\" class=\"dataframe\">\n",
       "  <thead>\n",
       "    <tr style=\"text-align: right;\">\n",
       "      <th></th>\n",
       "      <th>fecha</th>\n",
       "      <th>indicativo</th>\n",
       "      <th>nombre</th>\n",
       "      <th>provincia</th>\n",
       "      <th>altitud</th>\n",
       "      <th>tmed</th>\n",
       "      <th>prec</th>\n",
       "      <th>tmin</th>\n",
       "      <th>horatmin</th>\n",
       "      <th>tmax</th>\n",
       "      <th>horatmax</th>\n",
       "      <th>dir</th>\n",
       "      <th>velmedia</th>\n",
       "      <th>racha</th>\n",
       "      <th>horaracha</th>\n",
       "      <th>hrMedia</th>\n",
       "      <th>hrMax</th>\n",
       "      <th>horaHrMax</th>\n",
       "      <th>hrMin</th>\n",
       "      <th>horaHrMin</th>\n",
       "    </tr>\n",
       "  </thead>\n",
       "  <tbody>\n",
       "    <tr>\n",
       "      <th>0</th>\n",
       "      <td>2021-01-01</td>\n",
       "      <td>0201D</td>\n",
       "      <td>BARCELONA, PORT OL?MPIC</td>\n",
       "      <td>BARCELONA</td>\n",
       "      <td>26</td>\n",
       "      <td>8,1</td>\n",
       "      <td>0,0</td>\n",
       "      <td>6,3</td>\n",
       "      <td>23:59</td>\n",
       "      <td>9,9</td>\n",
       "      <td>00:50</td>\n",
       "      <td>8</td>\n",
       "      <td>1,9</td>\n",
       "      <td>11,1</td>\n",
       "      <td>10:00</td>\n",
       "      <td>75</td>\n",
       "      <td>84</td>\n",
       "      <td>07:00</td>\n",
       "      <td>66</td>\n",
       "      <td>21:40</td>\n",
       "    </tr>\n",
       "    <tr>\n",
       "      <th>1</th>\n",
       "      <td>2021-01-02</td>\n",
       "      <td>0201D</td>\n",
       "      <td>BARCELONA, PORT OL?MPIC</td>\n",
       "      <td>BARCELONA</td>\n",
       "      <td>26</td>\n",
       "      <td>7,0</td>\n",
       "      <td>0,0</td>\n",
       "      <td>4,0</td>\n",
       "      <td>07:00</td>\n",
       "      <td>9,9</td>\n",
       "      <td>13:30</td>\n",
       "      <td>12</td>\n",
       "      <td>2,2</td>\n",
       "      <td>8,3</td>\n",
       "      <td>22:00</td>\n",
       "      <td>64</td>\n",
       "      <td>77</td>\n",
       "      <td>23:00</td>\n",
       "      <td>55</td>\n",
       "      <td>Varias</td>\n",
       "    </tr>\n",
       "    <tr>\n",
       "      <th>2</th>\n",
       "      <td>2021-01-03</td>\n",
       "      <td>0201D</td>\n",
       "      <td>BARCELONA, PORT OL?MPIC</td>\n",
       "      <td>BARCELONA</td>\n",
       "      <td>26</td>\n",
       "      <td>6,8</td>\n",
       "      <td>0,0</td>\n",
       "      <td>4,0</td>\n",
       "      <td>23:59</td>\n",
       "      <td>9,7</td>\n",
       "      <td>13:20</td>\n",
       "      <td>21</td>\n",
       "      <td>2,8</td>\n",
       "      <td>11,7</td>\n",
       "      <td>15:20</td>\n",
       "      <td>49</td>\n",
       "      <td>75</td>\n",
       "      <td>00:00</td>\n",
       "      <td>41</td>\n",
       "      <td>12:40</td>\n",
       "    </tr>\n",
       "    <tr>\n",
       "      <th>3</th>\n",
       "      <td>2021-01-04</td>\n",
       "      <td>0201D</td>\n",
       "      <td>BARCELONA, PORT OL?MPIC</td>\n",
       "      <td>BARCELONA</td>\n",
       "      <td>26</td>\n",
       "      <td>6,3</td>\n",
       "      <td>0,0</td>\n",
       "      <td>2,5</td>\n",
       "      <td>02:40</td>\n",
       "      <td>10,1</td>\n",
       "      <td>14:40</td>\n",
       "      <td>30</td>\n",
       "      <td>2,8</td>\n",
       "      <td>10,0</td>\n",
       "      <td>13:50</td>\n",
       "      <td>62</td>\n",
       "      <td>78</td>\n",
       "      <td>05:50</td>\n",
       "      <td>46</td>\n",
       "      <td>Varias</td>\n",
       "    </tr>\n",
       "    <tr>\n",
       "      <th>4</th>\n",
       "      <td>2021-01-05</td>\n",
       "      <td>0201D</td>\n",
       "      <td>BARCELONA, PORT OL?MPIC</td>\n",
       "      <td>BARCELONA</td>\n",
       "      <td>26</td>\n",
       "      <td>6,4</td>\n",
       "      <td>0,0</td>\n",
       "      <td>2,8</td>\n",
       "      <td>06:40</td>\n",
       "      <td>10,0</td>\n",
       "      <td>13:00</td>\n",
       "      <td>33</td>\n",
       "      <td>2,2</td>\n",
       "      <td>7,8</td>\n",
       "      <td>03:10</td>\n",
       "      <td>73</td>\n",
       "      <td>81</td>\n",
       "      <td>Varias</td>\n",
       "      <td>58</td>\n",
       "      <td>13:10</td>\n",
       "    </tr>\n",
       "  </tbody>\n",
       "</table>\n",
       "</div>"
      ],
      "text/plain": [
       "        fecha indicativo                   nombre  provincia  altitud tmed  \\\n",
       "0  2021-01-01      0201D  BARCELONA, PORT OL?MPIC  BARCELONA       26  8,1   \n",
       "1  2021-01-02      0201D  BARCELONA, PORT OL?MPIC  BARCELONA       26  7,0   \n",
       "2  2021-01-03      0201D  BARCELONA, PORT OL?MPIC  BARCELONA       26  6,8   \n",
       "3  2021-01-04      0201D  BARCELONA, PORT OL?MPIC  BARCELONA       26  6,3   \n",
       "4  2021-01-05      0201D  BARCELONA, PORT OL?MPIC  BARCELONA       26  6,4   \n",
       "\n",
       "  prec tmin horatmin  tmax horatmax  dir velmedia racha horaracha  hrMedia  \\\n",
       "0  0,0  6,3    23:59   9,9    00:50    8      1,9  11,1     10:00       75   \n",
       "1  0,0  4,0    07:00   9,9    13:30   12      2,2   8,3     22:00       64   \n",
       "2  0,0  4,0    23:59   9,7    13:20   21      2,8  11,7     15:20       49   \n",
       "3  0,0  2,5    02:40  10,1    14:40   30      2,8  10,0     13:50       62   \n",
       "4  0,0  2,8    06:40  10,0    13:00   33      2,2   7,8     03:10       73   \n",
       "\n",
       "   hrMax horaHrMax  hrMin horaHrMin  \n",
       "0     84     07:00     66     21:40  \n",
       "1     77     23:00     55    Varias  \n",
       "2     75     00:00     41     12:40  \n",
       "3     78     05:50     46    Varias  \n",
       "4     81    Varias     58     13:10  "
      ]
     },
     "execution_count": 1,
     "metadata": {},
     "output_type": "execute_result"
    }
   ],
   "source": [
    "import pandas as pd\n",
    "\n",
    "# Cargo los archivos CSV\n",
    "df1 = pd.read_csv('temp_012021_062021.csv')\n",
    "df2 = pd.read_csv('temp_072021_122021.csv')\n",
    "\n",
    "# Concateno los dataFrames por filas\n",
    "df_temp_2021 = pd.concat([df1, df2], axis=0, ignore_index=True)\n",
    "\n",
    "# Muestro el dataFrame combinado\n",
    "df_temp_2021.head()"
   ]
  },
  {
   "cell_type": "markdown",
   "metadata": {},
   "source": [
    "El dataframe está compuesto por 365 filas y 20 columnas"
   ]
  },
  {
   "cell_type": "code",
   "execution_count": 2,
   "metadata": {},
   "outputs": [
    {
     "data": {
      "text/plain": [
       "(365, 20)"
      ]
     },
     "execution_count": 2,
     "metadata": {},
     "output_type": "execute_result"
    }
   ],
   "source": [
    "df_temp_2021.shape "
   ]
  },
  {
   "cell_type": "markdown",
   "metadata": {},
   "source": [
    "Hay columnas que no contemplo utilizar por lo que decido eliminarlas para aligerar el dataframe."
   ]
  },
  {
   "cell_type": "code",
   "execution_count": 3,
   "metadata": {},
   "outputs": [],
   "source": [
    "df_temp_2021= df_temp_2021.drop(columns=['indicativo', 'nombre','hrMedia', 'hrMax', 'horaHrMax', 'hrMin', 'horaHrMin', 'altitud', 'dir', 'velmedia', 'racha', 'horaracha', 'horatmin', 'horatmax'])"
   ]
  },
  {
   "cell_type": "code",
   "execution_count": 4,
   "metadata": {},
   "outputs": [
    {
     "data": {
      "text/html": [
       "<div>\n",
       "<style scoped>\n",
       "    .dataframe tbody tr th:only-of-type {\n",
       "        vertical-align: middle;\n",
       "    }\n",
       "\n",
       "    .dataframe tbody tr th {\n",
       "        vertical-align: top;\n",
       "    }\n",
       "\n",
       "    .dataframe thead th {\n",
       "        text-align: right;\n",
       "    }\n",
       "</style>\n",
       "<table border=\"1\" class=\"dataframe\">\n",
       "  <thead>\n",
       "    <tr style=\"text-align: right;\">\n",
       "      <th></th>\n",
       "      <th>fecha</th>\n",
       "      <th>provincia</th>\n",
       "      <th>tmed</th>\n",
       "      <th>prec</th>\n",
       "      <th>tmin</th>\n",
       "      <th>tmax</th>\n",
       "    </tr>\n",
       "  </thead>\n",
       "  <tbody>\n",
       "    <tr>\n",
       "      <th>0</th>\n",
       "      <td>2021-01-01</td>\n",
       "      <td>BARCELONA</td>\n",
       "      <td>8,1</td>\n",
       "      <td>0,0</td>\n",
       "      <td>6,3</td>\n",
       "      <td>9,9</td>\n",
       "    </tr>\n",
       "    <tr>\n",
       "      <th>1</th>\n",
       "      <td>2021-01-02</td>\n",
       "      <td>BARCELONA</td>\n",
       "      <td>7,0</td>\n",
       "      <td>0,0</td>\n",
       "      <td>4,0</td>\n",
       "      <td>9,9</td>\n",
       "    </tr>\n",
       "    <tr>\n",
       "      <th>2</th>\n",
       "      <td>2021-01-03</td>\n",
       "      <td>BARCELONA</td>\n",
       "      <td>6,8</td>\n",
       "      <td>0,0</td>\n",
       "      <td>4,0</td>\n",
       "      <td>9,7</td>\n",
       "    </tr>\n",
       "    <tr>\n",
       "      <th>3</th>\n",
       "      <td>2021-01-04</td>\n",
       "      <td>BARCELONA</td>\n",
       "      <td>6,3</td>\n",
       "      <td>0,0</td>\n",
       "      <td>2,5</td>\n",
       "      <td>10,1</td>\n",
       "    </tr>\n",
       "    <tr>\n",
       "      <th>4</th>\n",
       "      <td>2021-01-05</td>\n",
       "      <td>BARCELONA</td>\n",
       "      <td>6,4</td>\n",
       "      <td>0,0</td>\n",
       "      <td>2,8</td>\n",
       "      <td>10,0</td>\n",
       "    </tr>\n",
       "  </tbody>\n",
       "</table>\n",
       "</div>"
      ],
      "text/plain": [
       "        fecha  provincia tmed prec tmin  tmax\n",
       "0  2021-01-01  BARCELONA  8,1  0,0  6,3   9,9\n",
       "1  2021-01-02  BARCELONA  7,0  0,0  4,0   9,9\n",
       "2  2021-01-03  BARCELONA  6,8  0,0  4,0   9,7\n",
       "3  2021-01-04  BARCELONA  6,3  0,0  2,5  10,1\n",
       "4  2021-01-05  BARCELONA  6,4  0,0  2,8  10,0"
      ]
     },
     "execution_count": 4,
     "metadata": {},
     "output_type": "execute_result"
    }
   ],
   "source": [
    "df_temp_2021.head()"
   ]
  },
  {
   "cell_type": "markdown",
   "metadata": {},
   "source": [
    "Reviso las características de cada columna, observo varios detalles sobre ellas que considero tratar:\n",
    "\n",
    "* `fecha` es del tipo `object` y el formato debería ser `datetime`\n",
    "* Hay varias columas que aparecen como tipo `object` utilizando una coma como decimal,  las transformaré como float con punto.\n"
   ]
  },
  {
   "cell_type": "code",
   "execution_count": 5,
   "metadata": {},
   "outputs": [
    {
     "name": "stdout",
     "output_type": "stream",
     "text": [
      "<class 'pandas.core.frame.DataFrame'>\n",
      "RangeIndex: 365 entries, 0 to 364\n",
      "Data columns (total 6 columns):\n",
      " #   Column     Non-Null Count  Dtype \n",
      "---  ------     --------------  ----- \n",
      " 0   fecha      365 non-null    object\n",
      " 1   provincia  365 non-null    object\n",
      " 2   tmed       364 non-null    object\n",
      " 3   prec       364 non-null    object\n",
      " 4   tmin       364 non-null    object\n",
      " 5   tmax       364 non-null    object\n",
      "dtypes: object(6)\n",
      "memory usage: 17.2+ KB\n"
     ]
    }
   ],
   "source": [
    "df_temp_2021.info()"
   ]
  },
  {
   "cell_type": "markdown",
   "metadata": {},
   "source": [
    "Realizo la transformación de la columna `fecha` al tipo `datetime`"
   ]
  },
  {
   "cell_type": "code",
   "execution_count": 6,
   "metadata": {},
   "outputs": [
    {
     "name": "stdout",
     "output_type": "stream",
     "text": [
      "fecha        datetime64[ns]\n",
      "provincia            object\n",
      "tmed                 object\n",
      "prec                 object\n",
      "tmin                 object\n",
      "tmax                 object\n",
      "dtype: object\n"
     ]
    }
   ],
   "source": [
    "df_temp_2021['fecha']= pd.to_datetime(df_temp_2021['fecha'], format='%Y-%m-%d')\n",
    "print(df_temp_2021.dtypes)"
   ]
  },
  {
   "cell_type": "markdown",
   "metadata": {},
   "source": [
    "Transformo las columnas 'tmed', 'prec', 'tmin', 'tmax' al tipo float, modificando el símbolo de coma por punto."
   ]
  },
  {
   "cell_type": "code",
   "execution_count": 7,
   "metadata": {},
   "outputs": [
    {
     "name": "stdout",
     "output_type": "stream",
     "text": [
      "fecha        datetime64[ns]\n",
      "provincia            object\n",
      "tmed                float64\n",
      "prec                float64\n",
      "tmin                float64\n",
      "tmax                float64\n",
      "dtype: object\n"
     ]
    }
   ],
   "source": [
    "columnas_a_float = ['tmed', 'prec', 'tmin', 'tmax']\n",
    "\n",
    "# Reemplazo las comas por puntos para que pueda realizarse el cambio al tipo float\n",
    "for col in columnas_a_float:\n",
    "    df_temp_2021[col] = df_temp_2021[col].str.replace(',', '.')  \n",
    "\n",
    "df_temp_2021[columnas_a_float] = df_temp_2021[columnas_a_float].astype(float)\n",
    "\n",
    "print(df_temp_2021.dtypes)"
   ]
  },
  {
   "cell_type": "code",
   "execution_count": 8,
   "metadata": {},
   "outputs": [
    {
     "data": {
      "text/plain": [
       "fecha        0\n",
       "provincia    0\n",
       "tmed         1\n",
       "prec         1\n",
       "tmin         1\n",
       "tmax         1\n",
       "dtype: int64"
      ]
     },
     "execution_count": 8,
     "metadata": {},
     "output_type": "execute_result"
    }
   ],
   "source": [
    "df_temp_2021.isnull().sum()"
   ]
  },
  {
   "cell_type": "markdown",
   "metadata": {},
   "source": [
    "Analizo los valores nulos de la variable `tmed`; observo que aparecen varias columnas en ese registros con valores faltantes."
   ]
  },
  {
   "cell_type": "code",
   "execution_count": 9,
   "metadata": {},
   "outputs": [
    {
     "data": {
      "text/html": [
       "<div>\n",
       "<style scoped>\n",
       "    .dataframe tbody tr th:only-of-type {\n",
       "        vertical-align: middle;\n",
       "    }\n",
       "\n",
       "    .dataframe tbody tr th {\n",
       "        vertical-align: top;\n",
       "    }\n",
       "\n",
       "    .dataframe thead th {\n",
       "        text-align: right;\n",
       "    }\n",
       "</style>\n",
       "<table border=\"1\" class=\"dataframe\">\n",
       "  <thead>\n",
       "    <tr style=\"text-align: right;\">\n",
       "      <th></th>\n",
       "      <th>fecha</th>\n",
       "      <th>provincia</th>\n",
       "      <th>tmed</th>\n",
       "      <th>prec</th>\n",
       "      <th>tmin</th>\n",
       "      <th>tmax</th>\n",
       "    </tr>\n",
       "  </thead>\n",
       "  <tbody>\n",
       "    <tr>\n",
       "      <th>174</th>\n",
       "      <td>2021-06-24</td>\n",
       "      <td>BARCELONA</td>\n",
       "      <td>NaN</td>\n",
       "      <td>0.0</td>\n",
       "      <td>NaN</td>\n",
       "      <td>NaN</td>\n",
       "    </tr>\n",
       "  </tbody>\n",
       "</table>\n",
       "</div>"
      ],
      "text/plain": [
       "         fecha  provincia  tmed  prec  tmin  tmax\n",
       "174 2021-06-24  BARCELONA   NaN   0.0   NaN   NaN"
      ]
     },
     "execution_count": 9,
     "metadata": {},
     "output_type": "execute_result"
    }
   ],
   "source": [
    "nulos_tmed = df_temp_2021['tmed'].isnull()\n",
    "df_temp_2021[nulos_tmed]"
   ]
  },
  {
   "cell_type": "markdown",
   "metadata": {},
   "source": [
    "La idea de la imputación en este caso es mantener la continuidad de la serie. Imputo los valores faltantes utilizando una función, que en caso de que encuentre un valor nulo en una columna, buscará el valor correspondiente en la fila anterior (día anterior). Si el valor anterior existe, se utiliza para reemplazar el valor nulo. "
   ]
  },
  {
   "cell_type": "code",
   "execution_count": 10,
   "metadata": {},
   "outputs": [],
   "source": [
    "\n",
    "# Ordeno el DataFrame por fecha para asegurar la correcta imputación\n",
    "df_temp_2021 = df_temp_2021.sort_values('fecha')\n",
    "\n",
    "# Selecciono las columnas a imputar \n",
    "columnas_a_imputar = ['tmed', 'tmin', 'tmax', 'prec']\n",
    "\n",
    "# Se itera sobre las filas y las columnas a imputar\n",
    "for index, row in df_temp_2021.iterrows():\n",
    "    for columna in columnas_a_imputar:\n",
    "        if pd.isna(row[columna]):\n",
    "            # Buscar el valor del día anterior en la misma columna\n",
    "            valor_anterior = df_temp_2021.loc[index - 1, columna]\n",
    "            # Imputar si el valor anterior existe\n",
    "            if not pd.isna(valor_anterior):\n",
    "                df_temp_2021.loc[index, columna] = valor_anterior"
   ]
  },
  {
   "cell_type": "markdown",
   "metadata": {},
   "source": [
    "Compruebo que los valores ha sido imputados totalmente."
   ]
  },
  {
   "cell_type": "code",
   "execution_count": 11,
   "metadata": {},
   "outputs": [
    {
     "data": {
      "text/plain": [
       "fecha        0\n",
       "provincia    0\n",
       "tmed         0\n",
       "prec         0\n",
       "tmin         0\n",
       "tmax         0\n",
       "dtype: int64"
      ]
     },
     "execution_count": 11,
     "metadata": {},
     "output_type": "execute_result"
    }
   ],
   "source": [
    "df_temp_2021.isnull().sum()"
   ]
  },
  {
   "cell_type": "code",
   "execution_count": 12,
   "metadata": {},
   "outputs": [
    {
     "data": {
      "text/html": [
       "<div>\n",
       "<style scoped>\n",
       "    .dataframe tbody tr th:only-of-type {\n",
       "        vertical-align: middle;\n",
       "    }\n",
       "\n",
       "    .dataframe tbody tr th {\n",
       "        vertical-align: top;\n",
       "    }\n",
       "\n",
       "    .dataframe thead th {\n",
       "        text-align: right;\n",
       "    }\n",
       "</style>\n",
       "<table border=\"1\" class=\"dataframe\">\n",
       "  <thead>\n",
       "    <tr style=\"text-align: right;\">\n",
       "      <th></th>\n",
       "      <th>fecha</th>\n",
       "      <th>provincia</th>\n",
       "      <th>tmed</th>\n",
       "      <th>prec</th>\n",
       "      <th>tmin</th>\n",
       "      <th>tmax</th>\n",
       "    </tr>\n",
       "  </thead>\n",
       "  <tbody>\n",
       "    <tr>\n",
       "      <th>0</th>\n",
       "      <td>2021-01-01</td>\n",
       "      <td>BARCELONA</td>\n",
       "      <td>8.1</td>\n",
       "      <td>0.0</td>\n",
       "      <td>6.3</td>\n",
       "      <td>9.9</td>\n",
       "    </tr>\n",
       "    <tr>\n",
       "      <th>1</th>\n",
       "      <td>2021-01-02</td>\n",
       "      <td>BARCELONA</td>\n",
       "      <td>7.0</td>\n",
       "      <td>0.0</td>\n",
       "      <td>4.0</td>\n",
       "      <td>9.9</td>\n",
       "    </tr>\n",
       "    <tr>\n",
       "      <th>2</th>\n",
       "      <td>2021-01-03</td>\n",
       "      <td>BARCELONA</td>\n",
       "      <td>6.8</td>\n",
       "      <td>0.0</td>\n",
       "      <td>4.0</td>\n",
       "      <td>9.7</td>\n",
       "    </tr>\n",
       "    <tr>\n",
       "      <th>3</th>\n",
       "      <td>2021-01-04</td>\n",
       "      <td>BARCELONA</td>\n",
       "      <td>6.3</td>\n",
       "      <td>0.0</td>\n",
       "      <td>2.5</td>\n",
       "      <td>10.1</td>\n",
       "    </tr>\n",
       "    <tr>\n",
       "      <th>4</th>\n",
       "      <td>2021-01-05</td>\n",
       "      <td>BARCELONA</td>\n",
       "      <td>6.4</td>\n",
       "      <td>0.0</td>\n",
       "      <td>2.8</td>\n",
       "      <td>10.0</td>\n",
       "    </tr>\n",
       "  </tbody>\n",
       "</table>\n",
       "</div>"
      ],
      "text/plain": [
       "       fecha  provincia  tmed  prec  tmin  tmax\n",
       "0 2021-01-01  BARCELONA   8.1   0.0   6.3   9.9\n",
       "1 2021-01-02  BARCELONA   7.0   0.0   4.0   9.9\n",
       "2 2021-01-03  BARCELONA   6.8   0.0   4.0   9.7\n",
       "3 2021-01-04  BARCELONA   6.3   0.0   2.5  10.1\n",
       "4 2021-01-05  BARCELONA   6.4   0.0   2.8  10.0"
      ]
     },
     "execution_count": 12,
     "metadata": {},
     "output_type": "execute_result"
    }
   ],
   "source": [
    "df_temp_2021.head()"
   ]
  },
  {
   "cell_type": "markdown",
   "metadata": {},
   "source": [
    "- Renombro la columna `provincia` por `ciudad`.\n",
    "- Reordeno las columnas"
   ]
  },
  {
   "cell_type": "code",
   "execution_count": 13,
   "metadata": {},
   "outputs": [
    {
     "data": {
      "text/html": [
       "<div>\n",
       "<style scoped>\n",
       "    .dataframe tbody tr th:only-of-type {\n",
       "        vertical-align: middle;\n",
       "    }\n",
       "\n",
       "    .dataframe tbody tr th {\n",
       "        vertical-align: top;\n",
       "    }\n",
       "\n",
       "    .dataframe thead th {\n",
       "        text-align: right;\n",
       "    }\n",
       "</style>\n",
       "<table border=\"1\" class=\"dataframe\">\n",
       "  <thead>\n",
       "    <tr style=\"text-align: right;\">\n",
       "      <th></th>\n",
       "      <th>fecha</th>\n",
       "      <th>ciudad</th>\n",
       "      <th>tmin</th>\n",
       "      <th>tmax</th>\n",
       "      <th>tmed</th>\n",
       "      <th>prec</th>\n",
       "    </tr>\n",
       "  </thead>\n",
       "  <tbody>\n",
       "    <tr>\n",
       "      <th>0</th>\n",
       "      <td>2021-01-01</td>\n",
       "      <td>BARCELONA</td>\n",
       "      <td>6.3</td>\n",
       "      <td>9.9</td>\n",
       "      <td>8.1</td>\n",
       "      <td>0.0</td>\n",
       "    </tr>\n",
       "    <tr>\n",
       "      <th>1</th>\n",
       "      <td>2021-01-02</td>\n",
       "      <td>BARCELONA</td>\n",
       "      <td>4.0</td>\n",
       "      <td>9.9</td>\n",
       "      <td>7.0</td>\n",
       "      <td>0.0</td>\n",
       "    </tr>\n",
       "    <tr>\n",
       "      <th>2</th>\n",
       "      <td>2021-01-03</td>\n",
       "      <td>BARCELONA</td>\n",
       "      <td>4.0</td>\n",
       "      <td>9.7</td>\n",
       "      <td>6.8</td>\n",
       "      <td>0.0</td>\n",
       "    </tr>\n",
       "    <tr>\n",
       "      <th>3</th>\n",
       "      <td>2021-01-04</td>\n",
       "      <td>BARCELONA</td>\n",
       "      <td>2.5</td>\n",
       "      <td>10.1</td>\n",
       "      <td>6.3</td>\n",
       "      <td>0.0</td>\n",
       "    </tr>\n",
       "    <tr>\n",
       "      <th>4</th>\n",
       "      <td>2021-01-05</td>\n",
       "      <td>BARCELONA</td>\n",
       "      <td>2.8</td>\n",
       "      <td>10.0</td>\n",
       "      <td>6.4</td>\n",
       "      <td>0.0</td>\n",
       "    </tr>\n",
       "  </tbody>\n",
       "</table>\n",
       "</div>"
      ],
      "text/plain": [
       "       fecha     ciudad  tmin  tmax  tmed  prec\n",
       "0 2021-01-01  BARCELONA   6.3   9.9   8.1   0.0\n",
       "1 2021-01-02  BARCELONA   4.0   9.9   7.0   0.0\n",
       "2 2021-01-03  BARCELONA   4.0   9.7   6.8   0.0\n",
       "3 2021-01-04  BARCELONA   2.5  10.1   6.3   0.0\n",
       "4 2021-01-05  BARCELONA   2.8  10.0   6.4   0.0"
      ]
     },
     "execution_count": 13,
     "metadata": {},
     "output_type": "execute_result"
    }
   ],
   "source": [
    "df_temp_2021= df_temp_2021.rename(columns={'provincia': 'ciudad'})\n",
    "df_temp_2021= df_temp_2021[['fecha', 'ciudad', 'tmin', 'tmax', 'tmed', 'prec']]\n",
    "df_temp_2021.head()\n"
   ]
  },
  {
   "cell_type": "markdown",
   "metadata": {},
   "source": [
    "Exporto el dataframe a un archivo en formato `csv`"
   ]
  },
  {
   "cell_type": "code",
   "execution_count": 14,
   "metadata": {},
   "outputs": [],
   "source": [
    "df_temp_2021.to_csv('temp_bcn_2021.csv', index= False)"
   ]
  },
  {
   "cell_type": "markdown",
   "metadata": {},
   "source": [
    "Resumen del dataframe creado:\n",
    "\n",
    "- Se eliminaron las columnas 'indicativo', 'nombre','hrMedia', 'hrMax', 'horaHrMax', 'hrMin', 'horaHrMin', 'altitud', 'dir', 'velmedia', 'racha', 'horaracha', 'horatmin', 'horatmax'.\n",
    "- Se realizaron transformaciones de tipo en las columnas 'tmed', 'prec', 'tmin', 'tmax'.\n",
    "- Se transformó la columna 'fecha' a tipo datetime\n",
    "- Se trataron los valores nulos mediante la imputación del registro del día anterior al faltante, buscando mantener la continuidad de la serie. No hay valores faltantes.\n",
    "- Se renombró la columna 'provincia' por 'ciudad'.\n",
    "- Se exporto el dataframe a un archivo en formato csv."
   ]
  }
 ],
 "metadata": {
  "kernelspec": {
   "display_name": "Python 3",
   "language": "python",
   "name": "python3"
  },
  "language_info": {
   "codemirror_mode": {
    "name": "ipython",
    "version": 3
   },
   "file_extension": ".py",
   "mimetype": "text/x-python",
   "name": "python",
   "nbconvert_exporter": "python",
   "pygments_lexer": "ipython3",
   "version": "3.12.4"
  }
 },
 "nbformat": 4,
 "nbformat_minor": 2
}
