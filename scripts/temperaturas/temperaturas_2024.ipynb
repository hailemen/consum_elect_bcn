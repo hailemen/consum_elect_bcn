{
 "cells": [
  {
   "cell_type": "markdown",
   "metadata": {},
   "source": [
    "Cargo los datos sobre temperaturas durante el año 2024 de Barcelona desde la estación de Drassanes que tiene un criterio de temperatura a nivel ciudad."
   ]
  },
  {
   "cell_type": "code",
   "execution_count": 1,
   "metadata": {},
   "outputs": [
    {
     "data": {
      "text/html": [
       "<div>\n",
       "<style scoped>\n",
       "    .dataframe tbody tr th:only-of-type {\n",
       "        vertical-align: middle;\n",
       "    }\n",
       "\n",
       "    .dataframe tbody tr th {\n",
       "        vertical-align: top;\n",
       "    }\n",
       "\n",
       "    .dataframe thead th {\n",
       "        text-align: right;\n",
       "    }\n",
       "</style>\n",
       "<table border=\"1\" class=\"dataframe\">\n",
       "  <thead>\n",
       "    <tr style=\"text-align: right;\">\n",
       "      <th></th>\n",
       "      <th>fecha</th>\n",
       "      <th>indicativo</th>\n",
       "      <th>nombre</th>\n",
       "      <th>provincia</th>\n",
       "      <th>altitud</th>\n",
       "      <th>tmed</th>\n",
       "      <th>prec</th>\n",
       "      <th>tmin</th>\n",
       "      <th>horatmin</th>\n",
       "      <th>tmax</th>\n",
       "      <th>horatmax</th>\n",
       "      <th>hrMedia</th>\n",
       "      <th>hrMax</th>\n",
       "      <th>horaHrMax</th>\n",
       "      <th>hrMin</th>\n",
       "      <th>horaHrMin</th>\n",
       "    </tr>\n",
       "  </thead>\n",
       "  <tbody>\n",
       "    <tr>\n",
       "      <th>0</th>\n",
       "      <td>2024-01-01</td>\n",
       "      <td>0201X</td>\n",
       "      <td>BARCELONA, DRASSANES</td>\n",
       "      <td>BARCELONA</td>\n",
       "      <td>11</td>\n",
       "      <td>11,8</td>\n",
       "      <td>0,0</td>\n",
       "      <td>8,8</td>\n",
       "      <td>23:52</td>\n",
       "      <td>14,7</td>\n",
       "      <td>14:45</td>\n",
       "      <td>68.0</td>\n",
       "      <td>76.0</td>\n",
       "      <td>05:00</td>\n",
       "      <td>61.0</td>\n",
       "      <td>10:50</td>\n",
       "    </tr>\n",
       "    <tr>\n",
       "      <th>1</th>\n",
       "      <td>2024-01-02</td>\n",
       "      <td>0201X</td>\n",
       "      <td>BARCELONA, DRASSANES</td>\n",
       "      <td>BARCELONA</td>\n",
       "      <td>11</td>\n",
       "      <td>11,6</td>\n",
       "      <td>0,0</td>\n",
       "      <td>7,9</td>\n",
       "      <td>03:53</td>\n",
       "      <td>15,3</td>\n",
       "      <td>15:59</td>\n",
       "      <td>46.0</td>\n",
       "      <td>66.0</td>\n",
       "      <td>00:00</td>\n",
       "      <td>27.0</td>\n",
       "      <td>16:00</td>\n",
       "    </tr>\n",
       "    <tr>\n",
       "      <th>2</th>\n",
       "      <td>2024-01-03</td>\n",
       "      <td>0201X</td>\n",
       "      <td>BARCELONA, DRASSANES</td>\n",
       "      <td>BARCELONA</td>\n",
       "      <td>11</td>\n",
       "      <td>15,4</td>\n",
       "      <td>0,0</td>\n",
       "      <td>12,6</td>\n",
       "      <td>07:23</td>\n",
       "      <td>18,2</td>\n",
       "      <td>12:22</td>\n",
       "      <td>61.0</td>\n",
       "      <td>71.0</td>\n",
       "      <td>07:40</td>\n",
       "      <td>50.0</td>\n",
       "      <td>01:30</td>\n",
       "    </tr>\n",
       "    <tr>\n",
       "      <th>3</th>\n",
       "      <td>2024-01-04</td>\n",
       "      <td>0201X</td>\n",
       "      <td>BARCELONA, DRASSANES</td>\n",
       "      <td>BARCELONA</td>\n",
       "      <td>11</td>\n",
       "      <td>14,2</td>\n",
       "      <td>0,4</td>\n",
       "      <td>11,6</td>\n",
       "      <td>07:02</td>\n",
       "      <td>16,9</td>\n",
       "      <td>13:18</td>\n",
       "      <td>79.0</td>\n",
       "      <td>85.0</td>\n",
       "      <td>08:40</td>\n",
       "      <td>65.0</td>\n",
       "      <td>00:00</td>\n",
       "    </tr>\n",
       "    <tr>\n",
       "      <th>4</th>\n",
       "      <td>2024-01-05</td>\n",
       "      <td>0201X</td>\n",
       "      <td>BARCELONA, DRASSANES</td>\n",
       "      <td>BARCELONA</td>\n",
       "      <td>11</td>\n",
       "      <td>11,6</td>\n",
       "      <td>8,8</td>\n",
       "      <td>9,6</td>\n",
       "      <td>Varias</td>\n",
       "      <td>13,6</td>\n",
       "      <td>12:46</td>\n",
       "      <td>79.0</td>\n",
       "      <td>89.0</td>\n",
       "      <td>04:30</td>\n",
       "      <td>67.0</td>\n",
       "      <td>13:30</td>\n",
       "    </tr>\n",
       "  </tbody>\n",
       "</table>\n",
       "</div>"
      ],
      "text/plain": [
       "        fecha indicativo                nombre  provincia  altitud  tmed prec  \\\n",
       "0  2024-01-01      0201X  BARCELONA, DRASSANES  BARCELONA       11  11,8  0,0   \n",
       "1  2024-01-02      0201X  BARCELONA, DRASSANES  BARCELONA       11  11,6  0,0   \n",
       "2  2024-01-03      0201X  BARCELONA, DRASSANES  BARCELONA       11  15,4  0,0   \n",
       "3  2024-01-04      0201X  BARCELONA, DRASSANES  BARCELONA       11  14,2  0,4   \n",
       "4  2024-01-05      0201X  BARCELONA, DRASSANES  BARCELONA       11  11,6  8,8   \n",
       "\n",
       "   tmin horatmin  tmax horatmax  hrMedia  hrMax horaHrMax  hrMin horaHrMin  \n",
       "0   8,8    23:52  14,7    14:45     68.0   76.0     05:00   61.0     10:50  \n",
       "1   7,9    03:53  15,3    15:59     46.0   66.0     00:00   27.0     16:00  \n",
       "2  12,6    07:23  18,2    12:22     61.0   71.0     07:40   50.0     01:30  \n",
       "3  11,6    07:02  16,9    13:18     79.0   85.0     08:40   65.0     00:00  \n",
       "4   9,6   Varias  13,6    12:46     79.0   89.0     04:30   67.0     13:30  "
      ]
     },
     "execution_count": 1,
     "metadata": {},
     "output_type": "execute_result"
    }
   ],
   "source": [
    "import pandas as pd\n",
    "\n",
    "# Cargo los archivos CSV\n",
    "df1 = pd.read_csv('temp_012024_062024.csv')\n",
    "df2 = pd.read_csv('temp_072024_122024.csv')\n",
    "\n",
    "# Concateno los dataFrames por filas\n",
    "df_temp_2024 = pd.concat([df1, df2], axis=0, ignore_index=True)\n",
    "\n",
    "# Muestro el dataFrame combinado\n",
    "df_temp_2024.head()"
   ]
  },
  {
   "cell_type": "markdown",
   "metadata": {},
   "source": [
    "El dataframe está compuesto por 366 filas y 16 columnas"
   ]
  },
  {
   "cell_type": "code",
   "execution_count": 2,
   "metadata": {},
   "outputs": [
    {
     "data": {
      "text/plain": [
       "(366, 16)"
      ]
     },
     "execution_count": 2,
     "metadata": {},
     "output_type": "execute_result"
    }
   ],
   "source": [
    "df_temp_2024.shape"
   ]
  },
  {
   "cell_type": "markdown",
   "metadata": {},
   "source": [
    "Hay columnas que no contemplo utilizar por lo que decido eliminarlas para aligerar el dataframe."
   ]
  },
  {
   "cell_type": "code",
   "execution_count": 3,
   "metadata": {},
   "outputs": [],
   "source": [
    "df_temp_2024 = df_temp_2024.drop(columns=['horaHrMax', 'horaHrMin', 'hrMedia', 'hrMax', 'hrMin', 'indicativo', 'nombre', 'altitud','horatmin','horatmax'])"
   ]
  },
  {
   "cell_type": "markdown",
   "metadata": {},
   "source": [
    "Reviso las características de cada columna, observo varios detalles sobre ellas que considero tratar:\n",
    "\n",
    "* `fecha` es del tipo `object` y el formato debería ser `datetime`\n",
    "* Hay varias columas que aparecen como tipo `object` al utiizar una coma como decimal y las transformaré como float con punto.\n"
   ]
  },
  {
   "cell_type": "code",
   "execution_count": 4,
   "metadata": {},
   "outputs": [
    {
     "name": "stdout",
     "output_type": "stream",
     "text": [
      "<class 'pandas.core.frame.DataFrame'>\n",
      "RangeIndex: 366 entries, 0 to 365\n",
      "Data columns (total 6 columns):\n",
      " #   Column     Non-Null Count  Dtype \n",
      "---  ------     --------------  ----- \n",
      " 0   fecha      366 non-null    object\n",
      " 1   provincia  366 non-null    object\n",
      " 2   tmed       365 non-null    object\n",
      " 3   prec       366 non-null    object\n",
      " 4   tmin       365 non-null    object\n",
      " 5   tmax       365 non-null    object\n",
      "dtypes: object(6)\n",
      "memory usage: 17.3+ KB\n"
     ]
    }
   ],
   "source": [
    "df_temp_2024.info()"
   ]
  },
  {
   "cell_type": "markdown",
   "metadata": {},
   "source": [
    "Realizo la transformación de la columna `fecha` al tipo `datetime`"
   ]
  },
  {
   "cell_type": "code",
   "execution_count": 5,
   "metadata": {},
   "outputs": [
    {
     "name": "stdout",
     "output_type": "stream",
     "text": [
      "fecha        datetime64[ns]\n",
      "provincia            object\n",
      "tmed                 object\n",
      "prec                 object\n",
      "tmin                 object\n",
      "tmax                 object\n",
      "dtype: object\n"
     ]
    }
   ],
   "source": [
    "df_temp_2024['fecha']= pd.to_datetime(df_temp_2024['fecha'], format='%Y-%m-%d')\n",
    "print(df_temp_2024.dtypes)"
   ]
  },
  {
   "cell_type": "markdown",
   "metadata": {},
   "source": [
    "Transformo las columnas 'tmed', 'prec', 'tmin', 'tmax' al tipo float, modificando el símbolo de coma por punto."
   ]
  },
  {
   "cell_type": "code",
   "execution_count": 6,
   "metadata": {},
   "outputs": [
    {
     "name": "stdout",
     "output_type": "stream",
     "text": [
      "fecha        datetime64[ns]\n",
      "provincia            object\n",
      "tmed                float64\n",
      "prec                float64\n",
      "tmin                float64\n",
      "tmax                float64\n",
      "dtype: object\n"
     ]
    }
   ],
   "source": [
    "columnas_a_float = ['tmed', 'prec', 'tmin', 'tmax']\n",
    "\n",
    "# Reemplazo las comas por puntos para que pueda realizarse el cambio al tipo float\n",
    "for col in columnas_a_float:\n",
    "    df_temp_2024[col] = df_temp_2024[col].str.replace(',', '.')  \n",
    "\n",
    "df_temp_2024[columnas_a_float] = df_temp_2024[columnas_a_float].astype(float)\n",
    "\n",
    "print(df_temp_2024.dtypes)"
   ]
  },
  {
   "cell_type": "code",
   "execution_count": 7,
   "metadata": {},
   "outputs": [
    {
     "data": {
      "text/plain": [
       "fecha        0\n",
       "provincia    0\n",
       "tmed         1\n",
       "prec         0\n",
       "tmin         1\n",
       "tmax         1\n",
       "dtype: int64"
      ]
     },
     "execution_count": 7,
     "metadata": {},
     "output_type": "execute_result"
    }
   ],
   "source": [
    "df_temp_2024.isnull().sum()"
   ]
  },
  {
   "cell_type": "markdown",
   "metadata": {},
   "source": [
    "Analizo el valor nulo de la variable `tmed`, observo que aparecen varias columnas en ese registro(337) con valores faltantes en las columnas mostradas en la revisión de los valores faltantes en el dataframe."
   ]
  },
  {
   "cell_type": "code",
   "execution_count": 8,
   "metadata": {},
   "outputs": [
    {
     "data": {
      "text/html": [
       "<div>\n",
       "<style scoped>\n",
       "    .dataframe tbody tr th:only-of-type {\n",
       "        vertical-align: middle;\n",
       "    }\n",
       "\n",
       "    .dataframe tbody tr th {\n",
       "        vertical-align: top;\n",
       "    }\n",
       "\n",
       "    .dataframe thead th {\n",
       "        text-align: right;\n",
       "    }\n",
       "</style>\n",
       "<table border=\"1\" class=\"dataframe\">\n",
       "  <thead>\n",
       "    <tr style=\"text-align: right;\">\n",
       "      <th></th>\n",
       "      <th>fecha</th>\n",
       "      <th>provincia</th>\n",
       "      <th>tmed</th>\n",
       "      <th>prec</th>\n",
       "      <th>tmin</th>\n",
       "      <th>tmax</th>\n",
       "    </tr>\n",
       "  </thead>\n",
       "  <tbody>\n",
       "    <tr>\n",
       "      <th>337</th>\n",
       "      <td>2024-12-03</td>\n",
       "      <td>BARCELONA</td>\n",
       "      <td>NaN</td>\n",
       "      <td>0.6</td>\n",
       "      <td>NaN</td>\n",
       "      <td>NaN</td>\n",
       "    </tr>\n",
       "  </tbody>\n",
       "</table>\n",
       "</div>"
      ],
      "text/plain": [
       "         fecha  provincia  tmed  prec  tmin  tmax\n",
       "337 2024-12-03  BARCELONA   NaN   0.6   NaN   NaN"
      ]
     },
     "execution_count": 8,
     "metadata": {},
     "output_type": "execute_result"
    }
   ],
   "source": [
    "nulos_tmed = df_temp_2024['tmed'].isnull()\n",
    "df_temp_2024[nulos_tmed]"
   ]
  },
  {
   "cell_type": "markdown",
   "metadata": {},
   "source": [
    "La idea de la imputación en este caso es mantener la continuidad de la serie. Imputo los valores faltantes utilizando una función, que en caso de que encuentre un valor nulo en una columna, buscará el valor correspondiente en la fila anterior (día anterior). Si el valor anterior existe, se utiliza para reemplazar el valor nulo. "
   ]
  },
  {
   "cell_type": "code",
   "execution_count": 9,
   "metadata": {},
   "outputs": [],
   "source": [
    "\n",
    "# Ordeno el DataFrame por fecha para asegurar la correcta imputación\n",
    "df_temp_2024 = df_temp_2024.sort_values('fecha')\n",
    "\n",
    "# Selecciono las columnas a imputar \n",
    "columnas_a_imputar = ['tmed', 'tmin', 'tmax']\n",
    "\n",
    "# Se itera sobre las filas y las columnas a imputar\n",
    "for index, row in df_temp_2024.iterrows():\n",
    "    for columna in columnas_a_imputar:\n",
    "        if pd.isna(row[columna]):\n",
    "            # Buscar el valor del día anterior en la misma columna\n",
    "            valor_anterior = df_temp_2024.loc[index - 1, columna]\n",
    "            # Imputar si el valor anterior existe\n",
    "            if not pd.isna(valor_anterior):\n",
    "                df_temp_2024.loc[index, columna] = valor_anterior"
   ]
  },
  {
   "cell_type": "markdown",
   "metadata": {},
   "source": [
    "Compruebo que los valores ha sido imputados totalmente."
   ]
  },
  {
   "cell_type": "code",
   "execution_count": 10,
   "metadata": {},
   "outputs": [
    {
     "data": {
      "text/plain": [
       "fecha        0\n",
       "provincia    0\n",
       "tmed         0\n",
       "prec         0\n",
       "tmin         0\n",
       "tmax         0\n",
       "dtype: int64"
      ]
     },
     "execution_count": 10,
     "metadata": {},
     "output_type": "execute_result"
    }
   ],
   "source": [
    "df_temp_2024.isnull().sum()"
   ]
  },
  {
   "cell_type": "code",
   "execution_count": 11,
   "metadata": {},
   "outputs": [
    {
     "data": {
      "text/html": [
       "<div>\n",
       "<style scoped>\n",
       "    .dataframe tbody tr th:only-of-type {\n",
       "        vertical-align: middle;\n",
       "    }\n",
       "\n",
       "    .dataframe tbody tr th {\n",
       "        vertical-align: top;\n",
       "    }\n",
       "\n",
       "    .dataframe thead th {\n",
       "        text-align: right;\n",
       "    }\n",
       "</style>\n",
       "<table border=\"1\" class=\"dataframe\">\n",
       "  <thead>\n",
       "    <tr style=\"text-align: right;\">\n",
       "      <th></th>\n",
       "      <th>fecha</th>\n",
       "      <th>provincia</th>\n",
       "      <th>tmed</th>\n",
       "      <th>prec</th>\n",
       "      <th>tmin</th>\n",
       "      <th>tmax</th>\n",
       "    </tr>\n",
       "  </thead>\n",
       "  <tbody>\n",
       "    <tr>\n",
       "      <th>0</th>\n",
       "      <td>2024-01-01</td>\n",
       "      <td>BARCELONA</td>\n",
       "      <td>11.8</td>\n",
       "      <td>0.0</td>\n",
       "      <td>8.8</td>\n",
       "      <td>14.7</td>\n",
       "    </tr>\n",
       "    <tr>\n",
       "      <th>1</th>\n",
       "      <td>2024-01-02</td>\n",
       "      <td>BARCELONA</td>\n",
       "      <td>11.6</td>\n",
       "      <td>0.0</td>\n",
       "      <td>7.9</td>\n",
       "      <td>15.3</td>\n",
       "    </tr>\n",
       "    <tr>\n",
       "      <th>2</th>\n",
       "      <td>2024-01-03</td>\n",
       "      <td>BARCELONA</td>\n",
       "      <td>15.4</td>\n",
       "      <td>0.0</td>\n",
       "      <td>12.6</td>\n",
       "      <td>18.2</td>\n",
       "    </tr>\n",
       "    <tr>\n",
       "      <th>3</th>\n",
       "      <td>2024-01-04</td>\n",
       "      <td>BARCELONA</td>\n",
       "      <td>14.2</td>\n",
       "      <td>0.4</td>\n",
       "      <td>11.6</td>\n",
       "      <td>16.9</td>\n",
       "    </tr>\n",
       "    <tr>\n",
       "      <th>4</th>\n",
       "      <td>2024-01-05</td>\n",
       "      <td>BARCELONA</td>\n",
       "      <td>11.6</td>\n",
       "      <td>8.8</td>\n",
       "      <td>9.6</td>\n",
       "      <td>13.6</td>\n",
       "    </tr>\n",
       "  </tbody>\n",
       "</table>\n",
       "</div>"
      ],
      "text/plain": [
       "       fecha  provincia  tmed  prec  tmin  tmax\n",
       "0 2024-01-01  BARCELONA  11.8   0.0   8.8  14.7\n",
       "1 2024-01-02  BARCELONA  11.6   0.0   7.9  15.3\n",
       "2 2024-01-03  BARCELONA  15.4   0.0  12.6  18.2\n",
       "3 2024-01-04  BARCELONA  14.2   0.4  11.6  16.9\n",
       "4 2024-01-05  BARCELONA  11.6   8.8   9.6  13.6"
      ]
     },
     "execution_count": 11,
     "metadata": {},
     "output_type": "execute_result"
    }
   ],
   "source": [
    "df_temp_2024.head()"
   ]
  },
  {
   "cell_type": "markdown",
   "metadata": {},
   "source": [
    "- Renombro la columna `provincia` por `ciudad`."
   ]
  },
  {
   "cell_type": "code",
   "execution_count": 12,
   "metadata": {},
   "outputs": [
    {
     "data": {
      "text/html": [
       "<div>\n",
       "<style scoped>\n",
       "    .dataframe tbody tr th:only-of-type {\n",
       "        vertical-align: middle;\n",
       "    }\n",
       "\n",
       "    .dataframe tbody tr th {\n",
       "        vertical-align: top;\n",
       "    }\n",
       "\n",
       "    .dataframe thead th {\n",
       "        text-align: right;\n",
       "    }\n",
       "</style>\n",
       "<table border=\"1\" class=\"dataframe\">\n",
       "  <thead>\n",
       "    <tr style=\"text-align: right;\">\n",
       "      <th></th>\n",
       "      <th>fecha</th>\n",
       "      <th>ciudad</th>\n",
       "      <th>tmin</th>\n",
       "      <th>tmax</th>\n",
       "      <th>tmed</th>\n",
       "      <th>prec</th>\n",
       "    </tr>\n",
       "  </thead>\n",
       "  <tbody>\n",
       "    <tr>\n",
       "      <th>0</th>\n",
       "      <td>2024-01-01</td>\n",
       "      <td>BARCELONA</td>\n",
       "      <td>8.8</td>\n",
       "      <td>14.7</td>\n",
       "      <td>11.8</td>\n",
       "      <td>0.0</td>\n",
       "    </tr>\n",
       "    <tr>\n",
       "      <th>1</th>\n",
       "      <td>2024-01-02</td>\n",
       "      <td>BARCELONA</td>\n",
       "      <td>7.9</td>\n",
       "      <td>15.3</td>\n",
       "      <td>11.6</td>\n",
       "      <td>0.0</td>\n",
       "    </tr>\n",
       "    <tr>\n",
       "      <th>2</th>\n",
       "      <td>2024-01-03</td>\n",
       "      <td>BARCELONA</td>\n",
       "      <td>12.6</td>\n",
       "      <td>18.2</td>\n",
       "      <td>15.4</td>\n",
       "      <td>0.0</td>\n",
       "    </tr>\n",
       "    <tr>\n",
       "      <th>3</th>\n",
       "      <td>2024-01-04</td>\n",
       "      <td>BARCELONA</td>\n",
       "      <td>11.6</td>\n",
       "      <td>16.9</td>\n",
       "      <td>14.2</td>\n",
       "      <td>0.4</td>\n",
       "    </tr>\n",
       "    <tr>\n",
       "      <th>4</th>\n",
       "      <td>2024-01-05</td>\n",
       "      <td>BARCELONA</td>\n",
       "      <td>9.6</td>\n",
       "      <td>13.6</td>\n",
       "      <td>11.6</td>\n",
       "      <td>8.8</td>\n",
       "    </tr>\n",
       "  </tbody>\n",
       "</table>\n",
       "</div>"
      ],
      "text/plain": [
       "       fecha     ciudad  tmin  tmax  tmed  prec\n",
       "0 2024-01-01  BARCELONA   8.8  14.7  11.8   0.0\n",
       "1 2024-01-02  BARCELONA   7.9  15.3  11.6   0.0\n",
       "2 2024-01-03  BARCELONA  12.6  18.2  15.4   0.0\n",
       "3 2024-01-04  BARCELONA  11.6  16.9  14.2   0.4\n",
       "4 2024-01-05  BARCELONA   9.6  13.6  11.6   8.8"
      ]
     },
     "execution_count": 12,
     "metadata": {},
     "output_type": "execute_result"
    }
   ],
   "source": [
    "df_temp_2024= df_temp_2024.rename(columns={'provincia': 'ciudad'})\n",
    "df_temp_2024= df_temp_2024[['fecha', 'ciudad', 'tmin', 'tmax', 'tmed', 'prec']]\n",
    "df_temp_2024.head()\n"
   ]
  },
  {
   "cell_type": "markdown",
   "metadata": {},
   "source": [
    "Exporto el dataframe a un archivo de formato `csv`"
   ]
  },
  {
   "cell_type": "code",
   "execution_count": 13,
   "metadata": {},
   "outputs": [],
   "source": [
    "df_temp_2024.to_csv('temp_bcn_2024.csv', index= False)"
   ]
  },
  {
   "cell_type": "markdown",
   "metadata": {},
   "source": [
    "Resumen del dataframe creado:\n",
    "\n",
    "- Se eliminaron las columnas 'indicativo', 'nombre','hrMedia', 'hrMax', 'horaHrMax', 'hrMin', 'horaHrMin', 'altitud', 'dir', 'velmedia', 'racha', 'horaracha', 'horatmin', 'horatmax'.\n",
    "- Se realizaron transformaciones de tipo en las columnas 'tmed', 'prec', 'tmin', 'tmax'.\n",
    "- Se transformó la columna 'fecha' a tipo datetime\n",
    "- Se trataron los valores nulos mediante la imputación del registro del día anterior al faltante, buscando mantener la continuidad de la serie. No hay valores faltantes.\n",
    "- Se renombró la columna 'provincia' por 'ciudad'.\n",
    "- Se exporto el dataframe a un archivo en formato csv."
   ]
  }
 ],
 "metadata": {
  "kernelspec": {
   "display_name": "Python 3",
   "language": "python",
   "name": "python3"
  },
  "language_info": {
   "codemirror_mode": {
    "name": "ipython",
    "version": 3
   },
   "file_extension": ".py",
   "mimetype": "text/x-python",
   "name": "python",
   "nbconvert_exporter": "python",
   "pygments_lexer": "ipython3",
   "version": "3.12.4"
  }
 },
 "nbformat": 4,
 "nbformat_minor": 2
}
