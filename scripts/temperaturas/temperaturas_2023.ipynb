{
 "cells": [
  {
   "cell_type": "markdown",
   "metadata": {},
   "source": [
    "Cargo los datos sobre temperaturas durante el año 2023 de Barcelona desde la estación de Drassanes que tiene un criterio de temperatura a nivel ciudad."
   ]
  },
  {
   "cell_type": "code",
   "execution_count": 18,
   "metadata": {},
   "outputs": [
    {
     "data": {
      "text/html": [
       "<div>\n",
       "<style scoped>\n",
       "    .dataframe tbody tr th:only-of-type {\n",
       "        vertical-align: middle;\n",
       "    }\n",
       "\n",
       "    .dataframe tbody tr th {\n",
       "        vertical-align: top;\n",
       "    }\n",
       "\n",
       "    .dataframe thead th {\n",
       "        text-align: right;\n",
       "    }\n",
       "</style>\n",
       "<table border=\"1\" class=\"dataframe\">\n",
       "  <thead>\n",
       "    <tr style=\"text-align: right;\">\n",
       "      <th></th>\n",
       "      <th>fecha</th>\n",
       "      <th>indicativo</th>\n",
       "      <th>nombre</th>\n",
       "      <th>provincia</th>\n",
       "      <th>altitud</th>\n",
       "      <th>tmed</th>\n",
       "      <th>prec</th>\n",
       "      <th>tmin</th>\n",
       "      <th>horatmin</th>\n",
       "      <th>tmax</th>\n",
       "      <th>...</th>\n",
       "      <th>dir</th>\n",
       "      <th>velmedia</th>\n",
       "      <th>racha</th>\n",
       "      <th>horaracha</th>\n",
       "      <th>sol</th>\n",
       "      <th>presMax</th>\n",
       "      <th>horaPresMax</th>\n",
       "      <th>presMin</th>\n",
       "      <th>horaPresMin</th>\n",
       "      <th>hrMedia</th>\n",
       "    </tr>\n",
       "  </thead>\n",
       "  <tbody>\n",
       "    <tr>\n",
       "      <th>0</th>\n",
       "      <td>2023-01-01</td>\n",
       "      <td>0200E</td>\n",
       "      <td>BARCELONA, FABRA</td>\n",
       "      <td>BARCELONA</td>\n",
       "      <td>408</td>\n",
       "      <td>13,0</td>\n",
       "      <td>0,0</td>\n",
       "      <td>10,8</td>\n",
       "      <td>08:47</td>\n",
       "      <td>15,3</td>\n",
       "      <td>...</td>\n",
       "      <td>27</td>\n",
       "      <td>2,2</td>\n",
       "      <td>6,9</td>\n",
       "      <td>00:05</td>\n",
       "      <td>2,2</td>\n",
       "      <td>977,6</td>\n",
       "      <td>11</td>\n",
       "      <td>975,7</td>\n",
       "      <td>Varias</td>\n",
       "      <td>68.0</td>\n",
       "    </tr>\n",
       "    <tr>\n",
       "      <th>1</th>\n",
       "      <td>2023-01-02</td>\n",
       "      <td>0200E</td>\n",
       "      <td>BARCELONA, FABRA</td>\n",
       "      <td>BARCELONA</td>\n",
       "      <td>408</td>\n",
       "      <td>12,8</td>\n",
       "      <td>0,1</td>\n",
       "      <td>10,9</td>\n",
       "      <td>22:38</td>\n",
       "      <td>14,7</td>\n",
       "      <td>...</td>\n",
       "      <td>5</td>\n",
       "      <td>2,5</td>\n",
       "      <td>7,2</td>\n",
       "      <td>22:01</td>\n",
       "      <td>1,4</td>\n",
       "      <td>976,7</td>\n",
       "      <td>24</td>\n",
       "      <td>974,0</td>\n",
       "      <td>08</td>\n",
       "      <td>74.0</td>\n",
       "    </tr>\n",
       "    <tr>\n",
       "      <th>2</th>\n",
       "      <td>2023-01-03</td>\n",
       "      <td>0200E</td>\n",
       "      <td>BARCELONA, FABRA</td>\n",
       "      <td>BARCELONA</td>\n",
       "      <td>408</td>\n",
       "      <td>12,5</td>\n",
       "      <td>0,0</td>\n",
       "      <td>9,0</td>\n",
       "      <td>Varias</td>\n",
       "      <td>16,0</td>\n",
       "      <td>...</td>\n",
       "      <td>33</td>\n",
       "      <td>2,2</td>\n",
       "      <td>10,3</td>\n",
       "      <td>21:13</td>\n",
       "      <td>4,6</td>\n",
       "      <td>981,7</td>\n",
       "      <td>Varias</td>\n",
       "      <td>976,7</td>\n",
       "      <td>00</td>\n",
       "      <td>72.0</td>\n",
       "    </tr>\n",
       "    <tr>\n",
       "      <th>3</th>\n",
       "      <td>2023-01-04</td>\n",
       "      <td>0200E</td>\n",
       "      <td>BARCELONA, FABRA</td>\n",
       "      <td>BARCELONA</td>\n",
       "      <td>408</td>\n",
       "      <td>13,4</td>\n",
       "      <td>0,0</td>\n",
       "      <td>9,1</td>\n",
       "      <td>06:06</td>\n",
       "      <td>17,7</td>\n",
       "      <td>...</td>\n",
       "      <td>34</td>\n",
       "      <td>3,9</td>\n",
       "      <td>7,8</td>\n",
       "      <td>00:10</td>\n",
       "      <td>9,1</td>\n",
       "      <td>983,7</td>\n",
       "      <td>10</td>\n",
       "      <td>981,6</td>\n",
       "      <td>Varias</td>\n",
       "      <td>63.0</td>\n",
       "    </tr>\n",
       "    <tr>\n",
       "      <th>4</th>\n",
       "      <td>2023-01-05</td>\n",
       "      <td>0200E</td>\n",
       "      <td>BARCELONA, FABRA</td>\n",
       "      <td>BARCELONA</td>\n",
       "      <td>408</td>\n",
       "      <td>12,7</td>\n",
       "      <td>0,0</td>\n",
       "      <td>8,9</td>\n",
       "      <td>23:44</td>\n",
       "      <td>16,5</td>\n",
       "      <td>...</td>\n",
       "      <td>30</td>\n",
       "      <td>4,2</td>\n",
       "      <td>9,2</td>\n",
       "      <td>23:33</td>\n",
       "      <td>9,1</td>\n",
       "      <td>982,2</td>\n",
       "      <td>00</td>\n",
       "      <td>975,7</td>\n",
       "      <td>24</td>\n",
       "      <td>53.0</td>\n",
       "    </tr>\n",
       "  </tbody>\n",
       "</table>\n",
       "<p>5 rows × 21 columns</p>\n",
       "</div>"
      ],
      "text/plain": [
       "        fecha indicativo            nombre  provincia  altitud  tmed prec  \\\n",
       "0  2023-01-01      0200E  BARCELONA, FABRA  BARCELONA      408  13,0  0,0   \n",
       "1  2023-01-02      0200E  BARCELONA, FABRA  BARCELONA      408  12,8  0,1   \n",
       "2  2023-01-03      0200E  BARCELONA, FABRA  BARCELONA      408  12,5  0,0   \n",
       "3  2023-01-04      0200E  BARCELONA, FABRA  BARCELONA      408  13,4  0,0   \n",
       "4  2023-01-05      0200E  BARCELONA, FABRA  BARCELONA      408  12,7  0,0   \n",
       "\n",
       "   tmin horatmin  tmax  ... dir  velmedia racha horaracha  sol presMax  \\\n",
       "0  10,8    08:47  15,3  ...  27       2,2   6,9     00:05  2,2   977,6   \n",
       "1  10,9    22:38  14,7  ...   5       2,5   7,2     22:01  1,4   976,7   \n",
       "2   9,0   Varias  16,0  ...  33       2,2  10,3     21:13  4,6   981,7   \n",
       "3   9,1    06:06  17,7  ...  34       3,9   7,8     00:10  9,1   983,7   \n",
       "4   8,9    23:44  16,5  ...  30       4,2   9,2     23:33  9,1   982,2   \n",
       "\n",
       "  horaPresMax presMin horaPresMin hrMedia  \n",
       "0          11   975,7      Varias    68.0  \n",
       "1          24   974,0          08    74.0  \n",
       "2      Varias   976,7          00    72.0  \n",
       "3          10   981,6      Varias    63.0  \n",
       "4          00   975,7          24    53.0  \n",
       "\n",
       "[5 rows x 21 columns]"
      ]
     },
     "execution_count": 18,
     "metadata": {},
     "output_type": "execute_result"
    }
   ],
   "source": [
    "import pandas as pd\n",
    "\n",
    "# Cargo los archivos CSV\n",
    "df1 = pd.read_csv('temp_012023_062023.csv')\n",
    "df2 = pd.read_csv('temp_072023_122023.csv')\n",
    "\n",
    "# Concateno los DataFrames por filas\n",
    "df_temp_2023 = pd.concat([df1, df2], axis=0, ignore_index=True)\n",
    "\n",
    "df_temp_2023.head()"
   ]
  },
  {
   "cell_type": "markdown",
   "metadata": {},
   "source": [
    "El dataframe está compuesto por 365 filas y 20 columnas"
   ]
  },
  {
   "cell_type": "code",
   "execution_count": 19,
   "metadata": {},
   "outputs": [
    {
     "data": {
      "text/plain": [
       "(365, 21)"
      ]
     },
     "execution_count": 19,
     "metadata": {},
     "output_type": "execute_result"
    }
   ],
   "source": [
    "df_temp_2023.shape "
   ]
  },
  {
   "cell_type": "markdown",
   "metadata": {},
   "source": [
    "Hay columnas que no contemplo utilizar por lo que decido eliminarlas para aligerar el dataframe."
   ]
  },
  {
   "cell_type": "code",
   "execution_count": 20,
   "metadata": {},
   "outputs": [
    {
     "data": {
      "text/html": [
       "<div>\n",
       "<style scoped>\n",
       "    .dataframe tbody tr th:only-of-type {\n",
       "        vertical-align: middle;\n",
       "    }\n",
       "\n",
       "    .dataframe tbody tr th {\n",
       "        vertical-align: top;\n",
       "    }\n",
       "\n",
       "    .dataframe thead th {\n",
       "        text-align: right;\n",
       "    }\n",
       "</style>\n",
       "<table border=\"1\" class=\"dataframe\">\n",
       "  <thead>\n",
       "    <tr style=\"text-align: right;\">\n",
       "      <th></th>\n",
       "      <th>fecha</th>\n",
       "      <th>provincia</th>\n",
       "      <th>tmed</th>\n",
       "      <th>prec</th>\n",
       "      <th>tmin</th>\n",
       "      <th>tmax</th>\n",
       "      <th>velmedia</th>\n",
       "      <th>hrMedia</th>\n",
       "    </tr>\n",
       "  </thead>\n",
       "  <tbody>\n",
       "    <tr>\n",
       "      <th>0</th>\n",
       "      <td>2023-01-01</td>\n",
       "      <td>BARCELONA</td>\n",
       "      <td>13,0</td>\n",
       "      <td>0,0</td>\n",
       "      <td>10,8</td>\n",
       "      <td>15,3</td>\n",
       "      <td>2,2</td>\n",
       "      <td>68.0</td>\n",
       "    </tr>\n",
       "    <tr>\n",
       "      <th>1</th>\n",
       "      <td>2023-01-02</td>\n",
       "      <td>BARCELONA</td>\n",
       "      <td>12,8</td>\n",
       "      <td>0,1</td>\n",
       "      <td>10,9</td>\n",
       "      <td>14,7</td>\n",
       "      <td>2,5</td>\n",
       "      <td>74.0</td>\n",
       "    </tr>\n",
       "    <tr>\n",
       "      <th>2</th>\n",
       "      <td>2023-01-03</td>\n",
       "      <td>BARCELONA</td>\n",
       "      <td>12,5</td>\n",
       "      <td>0,0</td>\n",
       "      <td>9,0</td>\n",
       "      <td>16,0</td>\n",
       "      <td>2,2</td>\n",
       "      <td>72.0</td>\n",
       "    </tr>\n",
       "    <tr>\n",
       "      <th>3</th>\n",
       "      <td>2023-01-04</td>\n",
       "      <td>BARCELONA</td>\n",
       "      <td>13,4</td>\n",
       "      <td>0,0</td>\n",
       "      <td>9,1</td>\n",
       "      <td>17,7</td>\n",
       "      <td>3,9</td>\n",
       "      <td>63.0</td>\n",
       "    </tr>\n",
       "    <tr>\n",
       "      <th>4</th>\n",
       "      <td>2023-01-05</td>\n",
       "      <td>BARCELONA</td>\n",
       "      <td>12,7</td>\n",
       "      <td>0,0</td>\n",
       "      <td>8,9</td>\n",
       "      <td>16,5</td>\n",
       "      <td>4,2</td>\n",
       "      <td>53.0</td>\n",
       "    </tr>\n",
       "  </tbody>\n",
       "</table>\n",
       "</div>"
      ],
      "text/plain": [
       "        fecha  provincia  tmed prec  tmin  tmax velmedia  hrMedia\n",
       "0  2023-01-01  BARCELONA  13,0  0,0  10,8  15,3      2,2     68.0\n",
       "1  2023-01-02  BARCELONA  12,8  0,1  10,9  14,7      2,5     74.0\n",
       "2  2023-01-03  BARCELONA  12,5  0,0   9,0  16,0      2,2     72.0\n",
       "3  2023-01-04  BARCELONA  13,4  0,0   9,1  17,7      3,9     63.0\n",
       "4  2023-01-05  BARCELONA  12,7  0,0   8,9  16,5      4,2     53.0"
      ]
     },
     "execution_count": 20,
     "metadata": {},
     "output_type": "execute_result"
    }
   ],
   "source": [
    "df_temp_2023= df_temp_2023.drop(columns=['indicativo', 'nombre', 'altitud', 'dir', 'racha', 'horaracha', 'horatmin', 'horatmax', 'sol','presMax', 'horaPresMax', 'presMin', 'horaPresMin' ])\n",
    "\n",
    "df_temp_2023.head()"
   ]
  },
  {
   "cell_type": "markdown",
   "metadata": {},
   "source": [
    "Reviso las características de cada columna, observo varios detalles sobre ellas que considero tratar:\n",
    "\n",
    "* `fecha` es del tipo `object` y el formato debería ser `datetime`\n",
    "* Hay varias columas que aparecen como tipo `object` al utiizar una coma como decimal y las transformaré como float con punto.\n"
   ]
  },
  {
   "cell_type": "code",
   "execution_count": 21,
   "metadata": {},
   "outputs": [
    {
     "name": "stdout",
     "output_type": "stream",
     "text": [
      "<class 'pandas.core.frame.DataFrame'>\n",
      "RangeIndex: 365 entries, 0 to 364\n",
      "Data columns (total 8 columns):\n",
      " #   Column     Non-Null Count  Dtype  \n",
      "---  ------     --------------  -----  \n",
      " 0   fecha      365 non-null    object \n",
      " 1   provincia  365 non-null    object \n",
      " 2   tmed       365 non-null    object \n",
      " 3   prec       365 non-null    object \n",
      " 4   tmin       365 non-null    object \n",
      " 5   tmax       365 non-null    object \n",
      " 6   velmedia   365 non-null    object \n",
      " 7   hrMedia    361 non-null    float64\n",
      "dtypes: float64(1), object(7)\n",
      "memory usage: 22.9+ KB\n"
     ]
    }
   ],
   "source": [
    "df_temp_2023.info()"
   ]
  },
  {
   "cell_type": "markdown",
   "metadata": {},
   "source": [
    "Realizo la transformación de la columna `fecha` al tipo `datetime`"
   ]
  },
  {
   "cell_type": "code",
   "execution_count": 22,
   "metadata": {},
   "outputs": [
    {
     "name": "stdout",
     "output_type": "stream",
     "text": [
      "fecha        datetime64[ns]\n",
      "provincia            object\n",
      "tmed                 object\n",
      "prec                 object\n",
      "tmin                 object\n",
      "tmax                 object\n",
      "velmedia             object\n",
      "hrMedia             float64\n",
      "dtype: object\n"
     ]
    }
   ],
   "source": [
    "df_temp_2023['fecha']= pd.to_datetime(df_temp_2023['fecha'], format='%Y-%m-%d')\n",
    "print(df_temp_2023.dtypes)"
   ]
  },
  {
   "cell_type": "markdown",
   "metadata": {},
   "source": [
    "He encontrado un error al intentar cambiar las columnas a `float`, en el dataframe existe una columna con el valor `Ip` que me impide realizarlo, realizo la siguiente tarea para encontrarla."
   ]
  },
  {
   "cell_type": "code",
   "execution_count": 23,
   "metadata": {},
   "outputs": [
    {
     "name": "stdout",
     "output_type": "stream",
     "text": [
      "['prec']\n"
     ]
    }
   ],
   "source": [
    "columnas_con_ip = df_temp_2023.columns[df_temp_2023.apply(lambda col: \"Ip\" in col.values)].tolist()\n",
    "\n",
    "print(columnas_con_ip)"
   ]
  },
  {
   "cell_type": "markdown",
   "metadata": {},
   "source": [
    "Reviso la cantidad de registros con ese valor"
   ]
  },
  {
   "cell_type": "code",
   "execution_count": 24,
   "metadata": {},
   "outputs": [
    {
     "data": {
      "text/plain": [
       "prec\n",
       "0,0     266\n",
       "Ip       36\n",
       "0,2      11\n",
       "0,6       5\n",
       "0,1       5\n",
       "0,8       3\n",
       "0,5       2\n",
       "1,3       2\n",
       "1,0       2\n",
       "1,1       2\n",
       "2,0       1\n",
       "33,7      1\n",
       "3,8       1\n",
       "2,9       1\n",
       "32,4      1\n",
       "19,0      1\n",
       "22,0      1\n",
       "4,7       1\n",
       "17,8      1\n",
       "16,9      1\n",
       "8,3       1\n",
       "2,6       1\n",
       "0,4       1\n",
       "3,2       1\n",
       "3,1       1\n",
       "9,1       1\n",
       "9,7       1\n",
       "7,4       1\n",
       "3,5       1\n",
       "3,9       1\n",
       "1,9       1\n",
       "1,6       1\n",
       "28,1      1\n",
       "7,5       1\n",
       "0,7       1\n",
       "0,3       1\n",
       "19,7      1\n",
       "4,3       1\n",
       "15,6      1\n",
       "6,3       1\n",
       "1,2       1\n",
       "Name: count, dtype: int64"
      ]
     },
     "execution_count": 24,
     "metadata": {},
     "output_type": "execute_result"
    }
   ],
   "source": [
    "df_temp_2023['prec'].value_counts()"
   ]
  },
  {
   "cell_type": "code",
   "execution_count": 25,
   "metadata": {},
   "outputs": [],
   "source": [
    "import numpy as np\n",
    "\n",
    "# Ordeno el dataframe por fecha\n",
    "df_temp_2023 = df_temp_2023.sort_values('fecha')\n",
    "\n",
    "# Primero de convierten los valores \"Ip\" a NaN\n",
    "df_temp_2023['prec'] = df_temp_2023['prec'].replace('Ip', np.nan)\n",
    "\n",
    "# Se imputan los valores NaN con el valor numérico anterior usando ffill()\n",
    "df_temp_2023['prec'] = df_temp_2023['prec'].ffill()"
   ]
  },
  {
   "cell_type": "markdown",
   "metadata": {},
   "source": [
    "Transformo las columnas 'tmed', 'prec', 'tmin', 'tmax' al tipo float, modificando el símbolo de coma por punto."
   ]
  },
  {
   "cell_type": "code",
   "execution_count": 26,
   "metadata": {},
   "outputs": [
    {
     "name": "stdout",
     "output_type": "stream",
     "text": [
      "fecha        datetime64[ns]\n",
      "provincia            object\n",
      "tmed                float64\n",
      "prec                float64\n",
      "tmin                float64\n",
      "tmax                float64\n",
      "velmedia            float64\n",
      "hrMedia             float64\n",
      "dtype: object\n"
     ]
    }
   ],
   "source": [
    "columnas_a_float = ['tmed', 'prec', 'tmin', 'tmax', 'velmedia']\n",
    "\n",
    "# Reemplazo las comas por puntos para que pueda realizarse el cambio al tipo float\n",
    "for col in columnas_a_float:\n",
    "    df_temp_2023[col] = df_temp_2023[col].str.replace(',', '.')  \n",
    "\n",
    "df_temp_2023[columnas_a_float] = df_temp_2023[columnas_a_float].astype(float)\n",
    "\n",
    "print(df_temp_2023.dtypes)"
   ]
  },
  {
   "cell_type": "code",
   "execution_count": 27,
   "metadata": {},
   "outputs": [
    {
     "data": {
      "text/plain": [
       "fecha        0\n",
       "provincia    0\n",
       "tmed         0\n",
       "prec         0\n",
       "tmin         0\n",
       "tmax         0\n",
       "velmedia     0\n",
       "hrMedia      4\n",
       "dtype: int64"
      ]
     },
     "execution_count": 27,
     "metadata": {},
     "output_type": "execute_result"
    }
   ],
   "source": [
    "df_temp_2023.isnull().sum()"
   ]
  },
  {
   "cell_type": "markdown",
   "metadata": {},
   "source": [
    "Analizo los valores nulos de la variable `tmed`; observo que aparecen varias columnas en ese registros con valores faltantes."
   ]
  },
  {
   "cell_type": "code",
   "execution_count": 28,
   "metadata": {},
   "outputs": [
    {
     "data": {
      "text/html": [
       "<div>\n",
       "<style scoped>\n",
       "    .dataframe tbody tr th:only-of-type {\n",
       "        vertical-align: middle;\n",
       "    }\n",
       "\n",
       "    .dataframe tbody tr th {\n",
       "        vertical-align: top;\n",
       "    }\n",
       "\n",
       "    .dataframe thead th {\n",
       "        text-align: right;\n",
       "    }\n",
       "</style>\n",
       "<table border=\"1\" class=\"dataframe\">\n",
       "  <thead>\n",
       "    <tr style=\"text-align: right;\">\n",
       "      <th></th>\n",
       "      <th>fecha</th>\n",
       "      <th>provincia</th>\n",
       "      <th>tmed</th>\n",
       "      <th>prec</th>\n",
       "      <th>tmin</th>\n",
       "      <th>tmax</th>\n",
       "      <th>velmedia</th>\n",
       "      <th>hrMedia</th>\n",
       "    </tr>\n",
       "  </thead>\n",
       "  <tbody>\n",
       "    <tr>\n",
       "      <th>12</th>\n",
       "      <td>2023-01-13</td>\n",
       "      <td>BARCELONA</td>\n",
       "      <td>11.6</td>\n",
       "      <td>0.0</td>\n",
       "      <td>7.8</td>\n",
       "      <td>15.4</td>\n",
       "      <td>3.9</td>\n",
       "      <td>NaN</td>\n",
       "    </tr>\n",
       "    <tr>\n",
       "      <th>53</th>\n",
       "      <td>2023-02-23</td>\n",
       "      <td>BARCELONA</td>\n",
       "      <td>10.0</td>\n",
       "      <td>4.3</td>\n",
       "      <td>8.5</td>\n",
       "      <td>11.5</td>\n",
       "      <td>1.7</td>\n",
       "      <td>NaN</td>\n",
       "    </tr>\n",
       "    <tr>\n",
       "      <th>75</th>\n",
       "      <td>2023-03-17</td>\n",
       "      <td>BARCELONA</td>\n",
       "      <td>12.2</td>\n",
       "      <td>0.0</td>\n",
       "      <td>9.8</td>\n",
       "      <td>14.5</td>\n",
       "      <td>3.6</td>\n",
       "      <td>NaN</td>\n",
       "    </tr>\n",
       "    <tr>\n",
       "      <th>232</th>\n",
       "      <td>2023-08-21</td>\n",
       "      <td>BARCELONA</td>\n",
       "      <td>32.2</td>\n",
       "      <td>0.0</td>\n",
       "      <td>27.6</td>\n",
       "      <td>36.8</td>\n",
       "      <td>2.2</td>\n",
       "      <td>NaN</td>\n",
       "    </tr>\n",
       "  </tbody>\n",
       "</table>\n",
       "</div>"
      ],
      "text/plain": [
       "         fecha  provincia  tmed  prec  tmin  tmax  velmedia  hrMedia\n",
       "12  2023-01-13  BARCELONA  11.6   0.0   7.8  15.4       3.9      NaN\n",
       "53  2023-02-23  BARCELONA  10.0   4.3   8.5  11.5       1.7      NaN\n",
       "75  2023-03-17  BARCELONA  12.2   0.0   9.8  14.5       3.6      NaN\n",
       "232 2023-08-21  BARCELONA  32.2   0.0  27.6  36.8       2.2      NaN"
      ]
     },
     "execution_count": 28,
     "metadata": {},
     "output_type": "execute_result"
    }
   ],
   "source": [
    "nulos_hrmed = df_temp_2023['hrMedia'].isnull()\n",
    "df_temp_2023[nulos_hrmed]"
   ]
  },
  {
   "cell_type": "markdown",
   "metadata": {},
   "source": [
    "La idea de la imputación en este caso es mantener la continuidad de la serie. Imputo los valores faltantes utilizando una función, que en caso de que encuentre un valor nulo en una columna, buscará el valor correspondiente en la fila anterior (día anterior). Si el valor anterior existe, se utiliza para reemplazar el valor nulo. "
   ]
  },
  {
   "cell_type": "code",
   "execution_count": 29,
   "metadata": {},
   "outputs": [],
   "source": [
    "# Ordeno el DataFrame por fecha para asegurar la correcta imputación\n",
    "df_temp_2023 = df_temp_2023.sort_values('fecha')\n",
    "\n",
    "# Selecciono las columnas a imputar \n",
    "columnas_a_imputar = ['hrMedia']\n",
    "\n",
    "# Se itera sobre las filas y las columnas a imputar\n",
    "for index, row in df_temp_2023.iterrows():\n",
    "    for columna in columnas_a_imputar:\n",
    "        if pd.isna(row[columna]):\n",
    "            # Buscar el valor del día anterior en la misma columna\n",
    "            valor_anterior = df_temp_2023.loc[index - 1, columna]\n",
    "            # Imputar si el valor anterior existe\n",
    "            if not pd.isna(valor_anterior):\n",
    "                df_temp_2023.loc[index, columna] = valor_anterior"
   ]
  },
  {
   "cell_type": "markdown",
   "metadata": {},
   "source": [
    "Compruebo que los valores ha sido imputados totalmente."
   ]
  },
  {
   "cell_type": "code",
   "execution_count": 30,
   "metadata": {},
   "outputs": [
    {
     "data": {
      "text/plain": [
       "fecha        0\n",
       "provincia    0\n",
       "tmed         0\n",
       "prec         0\n",
       "tmin         0\n",
       "tmax         0\n",
       "velmedia     0\n",
       "hrMedia      0\n",
       "dtype: int64"
      ]
     },
     "execution_count": 30,
     "metadata": {},
     "output_type": "execute_result"
    }
   ],
   "source": [
    "df_temp_2023.isnull().sum()"
   ]
  },
  {
   "cell_type": "markdown",
   "metadata": {},
   "source": [
    "- Renombro las columna `provincia` por `ciudad`."
   ]
  },
  {
   "cell_type": "code",
   "execution_count": 31,
   "metadata": {},
   "outputs": [
    {
     "data": {
      "text/html": [
       "<div>\n",
       "<style scoped>\n",
       "    .dataframe tbody tr th:only-of-type {\n",
       "        vertical-align: middle;\n",
       "    }\n",
       "\n",
       "    .dataframe tbody tr th {\n",
       "        vertical-align: top;\n",
       "    }\n",
       "\n",
       "    .dataframe thead th {\n",
       "        text-align: right;\n",
       "    }\n",
       "</style>\n",
       "<table border=\"1\" class=\"dataframe\">\n",
       "  <thead>\n",
       "    <tr style=\"text-align: right;\">\n",
       "      <th></th>\n",
       "      <th>fecha</th>\n",
       "      <th>ciudad</th>\n",
       "      <th>tmin</th>\n",
       "      <th>tmax</th>\n",
       "      <th>tmed</th>\n",
       "      <th>prec</th>\n",
       "      <th>hrmedia</th>\n",
       "      <th>velmedia</th>\n",
       "    </tr>\n",
       "  </thead>\n",
       "  <tbody>\n",
       "    <tr>\n",
       "      <th>0</th>\n",
       "      <td>2023-01-01</td>\n",
       "      <td>BARCELONA</td>\n",
       "      <td>10.8</td>\n",
       "      <td>15.3</td>\n",
       "      <td>13.0</td>\n",
       "      <td>0.0</td>\n",
       "      <td>68.0</td>\n",
       "      <td>2.2</td>\n",
       "    </tr>\n",
       "    <tr>\n",
       "      <th>1</th>\n",
       "      <td>2023-01-02</td>\n",
       "      <td>BARCELONA</td>\n",
       "      <td>10.9</td>\n",
       "      <td>14.7</td>\n",
       "      <td>12.8</td>\n",
       "      <td>0.1</td>\n",
       "      <td>74.0</td>\n",
       "      <td>2.5</td>\n",
       "    </tr>\n",
       "    <tr>\n",
       "      <th>2</th>\n",
       "      <td>2023-01-03</td>\n",
       "      <td>BARCELONA</td>\n",
       "      <td>9.0</td>\n",
       "      <td>16.0</td>\n",
       "      <td>12.5</td>\n",
       "      <td>0.0</td>\n",
       "      <td>72.0</td>\n",
       "      <td>2.2</td>\n",
       "    </tr>\n",
       "    <tr>\n",
       "      <th>3</th>\n",
       "      <td>2023-01-04</td>\n",
       "      <td>BARCELONA</td>\n",
       "      <td>9.1</td>\n",
       "      <td>17.7</td>\n",
       "      <td>13.4</td>\n",
       "      <td>0.0</td>\n",
       "      <td>63.0</td>\n",
       "      <td>3.9</td>\n",
       "    </tr>\n",
       "    <tr>\n",
       "      <th>4</th>\n",
       "      <td>2023-01-05</td>\n",
       "      <td>BARCELONA</td>\n",
       "      <td>8.9</td>\n",
       "      <td>16.5</td>\n",
       "      <td>12.7</td>\n",
       "      <td>0.0</td>\n",
       "      <td>53.0</td>\n",
       "      <td>4.2</td>\n",
       "    </tr>\n",
       "  </tbody>\n",
       "</table>\n",
       "</div>"
      ],
      "text/plain": [
       "       fecha     ciudad  tmin  tmax  tmed  prec  hrmedia  velmedia\n",
       "0 2023-01-01  BARCELONA  10.8  15.3  13.0   0.0     68.0       2.2\n",
       "1 2023-01-02  BARCELONA  10.9  14.7  12.8   0.1     74.0       2.5\n",
       "2 2023-01-03  BARCELONA   9.0  16.0  12.5   0.0     72.0       2.2\n",
       "3 2023-01-04  BARCELONA   9.1  17.7  13.4   0.0     63.0       3.9\n",
       "4 2023-01-05  BARCELONA   8.9  16.5  12.7   0.0     53.0       4.2"
      ]
     },
     "execution_count": 31,
     "metadata": {},
     "output_type": "execute_result"
    }
   ],
   "source": [
    "df_temp_2023= df_temp_2023.rename(columns={'provincia': 'ciudad', 'hrMedia': 'hrmedia'})\n",
    "df_temp_2023= df_temp_2023[['fecha', 'ciudad', 'tmin', 'tmax', 'tmed', 'prec','hrmedia', 'velmedia']]\n",
    "df_temp_2023.head()\n"
   ]
  },
  {
   "cell_type": "markdown",
   "metadata": {},
   "source": [
    "Codifico la columna `ciudad` utilizando el valor `1` para poder relacionarlo en la base de datos con la tabla que corresponda a las ciudades"
   ]
  },
  {
   "cell_type": "code",
   "execution_count": 32,
   "metadata": {},
   "outputs": [
    {
     "data": {
      "text/html": [
       "<div>\n",
       "<style scoped>\n",
       "    .dataframe tbody tr th:only-of-type {\n",
       "        vertical-align: middle;\n",
       "    }\n",
       "\n",
       "    .dataframe tbody tr th {\n",
       "        vertical-align: top;\n",
       "    }\n",
       "\n",
       "    .dataframe thead th {\n",
       "        text-align: right;\n",
       "    }\n",
       "</style>\n",
       "<table border=\"1\" class=\"dataframe\">\n",
       "  <thead>\n",
       "    <tr style=\"text-align: right;\">\n",
       "      <th></th>\n",
       "      <th>fecha</th>\n",
       "      <th>ciudad</th>\n",
       "      <th>tmin</th>\n",
       "      <th>tmax</th>\n",
       "      <th>tmed</th>\n",
       "      <th>prec</th>\n",
       "      <th>hrmedia</th>\n",
       "      <th>velmedia</th>\n",
       "    </tr>\n",
       "  </thead>\n",
       "  <tbody>\n",
       "    <tr>\n",
       "      <th>0</th>\n",
       "      <td>2023-01-01</td>\n",
       "      <td>1</td>\n",
       "      <td>10.8</td>\n",
       "      <td>15.3</td>\n",
       "      <td>13.0</td>\n",
       "      <td>0.0</td>\n",
       "      <td>68.0</td>\n",
       "      <td>2.2</td>\n",
       "    </tr>\n",
       "    <tr>\n",
       "      <th>1</th>\n",
       "      <td>2023-01-02</td>\n",
       "      <td>1</td>\n",
       "      <td>10.9</td>\n",
       "      <td>14.7</td>\n",
       "      <td>12.8</td>\n",
       "      <td>0.1</td>\n",
       "      <td>74.0</td>\n",
       "      <td>2.5</td>\n",
       "    </tr>\n",
       "    <tr>\n",
       "      <th>2</th>\n",
       "      <td>2023-01-03</td>\n",
       "      <td>1</td>\n",
       "      <td>9.0</td>\n",
       "      <td>16.0</td>\n",
       "      <td>12.5</td>\n",
       "      <td>0.0</td>\n",
       "      <td>72.0</td>\n",
       "      <td>2.2</td>\n",
       "    </tr>\n",
       "    <tr>\n",
       "      <th>3</th>\n",
       "      <td>2023-01-04</td>\n",
       "      <td>1</td>\n",
       "      <td>9.1</td>\n",
       "      <td>17.7</td>\n",
       "      <td>13.4</td>\n",
       "      <td>0.0</td>\n",
       "      <td>63.0</td>\n",
       "      <td>3.9</td>\n",
       "    </tr>\n",
       "    <tr>\n",
       "      <th>4</th>\n",
       "      <td>2023-01-05</td>\n",
       "      <td>1</td>\n",
       "      <td>8.9</td>\n",
       "      <td>16.5</td>\n",
       "      <td>12.7</td>\n",
       "      <td>0.0</td>\n",
       "      <td>53.0</td>\n",
       "      <td>4.2</td>\n",
       "    </tr>\n",
       "  </tbody>\n",
       "</table>\n",
       "</div>"
      ],
      "text/plain": [
       "       fecha ciudad  tmin  tmax  tmed  prec  hrmedia  velmedia\n",
       "0 2023-01-01      1  10.8  15.3  13.0   0.0     68.0       2.2\n",
       "1 2023-01-02      1  10.9  14.7  12.8   0.1     74.0       2.5\n",
       "2 2023-01-03      1   9.0  16.0  12.5   0.0     72.0       2.2\n",
       "3 2023-01-04      1   9.1  17.7  13.4   0.0     63.0       3.9\n",
       "4 2023-01-05      1   8.9  16.5  12.7   0.0     53.0       4.2"
      ]
     },
     "execution_count": 32,
     "metadata": {},
     "output_type": "execute_result"
    }
   ],
   "source": [
    "mapeo_ciudad= {\"BARCELONA\": \"1\"}\n",
    "\n",
    "df_temp_2023['ciudad']= df_temp_2023['ciudad'].map(mapeo_ciudad)\n",
    "df_temp_2023.head()"
   ]
  },
  {
   "cell_type": "markdown",
   "metadata": {},
   "source": [
    "Exporto el dataframe a un archivo en formato `csv`"
   ]
  },
  {
   "cell_type": "code",
   "execution_count": 33,
   "metadata": {},
   "outputs": [],
   "source": [
    "df_temp_2023.to_csv('temp_bcn_2023.csv', index= False, encoding='utf-8')"
   ]
  },
  {
   "cell_type": "markdown",
   "metadata": {},
   "source": [
    "Resumen del dataframe creado:\n",
    "\n",
    "- Se eliminaron las columnas 'indicativo', 'nombre', 'hrMax', 'horaHrMax', 'hrMin', 'horaHrMin', 'altitud', 'dir', 'racha', 'horaracha', 'horatmin', 'horatmax'.\n",
    "- Se identificó la columna con el valor `Ip` que impedía cambiar el tipo `float` en las columnas que lo necesitan\n",
    "- Se realizaron transformaciones de tipo en las columnas 'tmed', 'prec', 'tmin', 'tmax', 'velmedia'.\n",
    "- Se transformó la columna 'fecha' a tipo datetime\n",
    "- Se trataron los valores nulos mediante la imputación del registro del día anterior al faltante, buscando mantener la continuidad de la serie. No hay valores faltantes.\n",
    "- Se renombró la columna 'provincia' por 'ciudad' y se asignó el valor 1 para que sea utilizado en un modelo de tablas relaciones como identificador(id).\n",
    "- Se exporto el dataframe a un archivo en formato csv."
   ]
  }
 ],
 "metadata": {
  "kernelspec": {
   "display_name": "Python 3",
   "language": "python",
   "name": "python3"
  },
  "language_info": {
   "codemirror_mode": {
    "name": "ipython",
    "version": 3
   },
   "file_extension": ".py",
   "mimetype": "text/x-python",
   "name": "python",
   "nbconvert_exporter": "python",
   "pygments_lexer": "ipython3",
   "version": "3.12.4"
  }
 },
 "nbformat": 4,
 "nbformat_minor": 2
}
