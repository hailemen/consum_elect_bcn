{
 "cells": [
  {
   "cell_type": "markdown",
   "metadata": {},
   "source": [
    "Cargo los datos sobre temperaturas durante el año 2024 de Barcelona desde la estación de Drassanes que tiene un criterio de temperatura a nivel ciudad, aunque en el caso de los datos existentes en este año esta estación no contiene los relacionados con la velocidad media del viento, por lo que busco la estación más cercana a Drassanes que si los contenga y encuentro la del Observatorio Fabra."
   ]
  },
  {
   "cell_type": "code",
   "execution_count": 1,
   "metadata": {},
   "outputs": [
    {
     "data": {
      "text/html": [
       "<div>\n",
       "<style scoped>\n",
       "    .dataframe tbody tr th:only-of-type {\n",
       "        vertical-align: middle;\n",
       "    }\n",
       "\n",
       "    .dataframe tbody tr th {\n",
       "        vertical-align: top;\n",
       "    }\n",
       "\n",
       "    .dataframe thead th {\n",
       "        text-align: right;\n",
       "    }\n",
       "</style>\n",
       "<table border=\"1\" class=\"dataframe\">\n",
       "  <thead>\n",
       "    <tr style=\"text-align: right;\">\n",
       "      <th></th>\n",
       "      <th>fecha</th>\n",
       "      <th>indicativo</th>\n",
       "      <th>nombre</th>\n",
       "      <th>provincia</th>\n",
       "      <th>altitud</th>\n",
       "      <th>tmed</th>\n",
       "      <th>prec</th>\n",
       "      <th>tmin</th>\n",
       "      <th>horatmin</th>\n",
       "      <th>tmax</th>\n",
       "      <th>horatmax</th>\n",
       "      <th>hrMedia</th>\n",
       "      <th>hrMax</th>\n",
       "      <th>horaHrMax</th>\n",
       "      <th>hrMin</th>\n",
       "      <th>horaHrMin</th>\n",
       "    </tr>\n",
       "  </thead>\n",
       "  <tbody>\n",
       "    <tr>\n",
       "      <th>0</th>\n",
       "      <td>2025-07-01</td>\n",
       "      <td>0201X</td>\n",
       "      <td>BARCELONA, DRASSANES</td>\n",
       "      <td>BARCELONA</td>\n",
       "      <td>11</td>\n",
       "      <td>28,7</td>\n",
       "      <td>0,2</td>\n",
       "      <td>25,7</td>\n",
       "      <td>05:42</td>\n",
       "      <td>31,7</td>\n",
       "      <td>11:14</td>\n",
       "      <td>61.0</td>\n",
       "      <td>74</td>\n",
       "      <td>16:50</td>\n",
       "      <td>32</td>\n",
       "      <td>20:40</td>\n",
       "    </tr>\n",
       "    <tr>\n",
       "      <th>1</th>\n",
       "      <td>2025-07-02</td>\n",
       "      <td>0201X</td>\n",
       "      <td>BARCELONA, DRASSANES</td>\n",
       "      <td>BARCELONA</td>\n",
       "      <td>11</td>\n",
       "      <td>28,6</td>\n",
       "      <td>0,0</td>\n",
       "      <td>24,6</td>\n",
       "      <td>05:25</td>\n",
       "      <td>32,5</td>\n",
       "      <td>15:16</td>\n",
       "      <td>58.0</td>\n",
       "      <td>82</td>\n",
       "      <td>22:50</td>\n",
       "      <td>37</td>\n",
       "      <td>Varias</td>\n",
       "    </tr>\n",
       "    <tr>\n",
       "      <th>2</th>\n",
       "      <td>2025-07-03</td>\n",
       "      <td>0201X</td>\n",
       "      <td>BARCELONA, DRASSANES</td>\n",
       "      <td>BARCELONA</td>\n",
       "      <td>11</td>\n",
       "      <td>28,8</td>\n",
       "      <td>0,0</td>\n",
       "      <td>26,0</td>\n",
       "      <td>05:31</td>\n",
       "      <td>31,5</td>\n",
       "      <td>14:49</td>\n",
       "      <td>64.0</td>\n",
       "      <td>81</td>\n",
       "      <td>00:00</td>\n",
       "      <td>41</td>\n",
       "      <td>17:20</td>\n",
       "    </tr>\n",
       "    <tr>\n",
       "      <th>3</th>\n",
       "      <td>2025-07-04</td>\n",
       "      <td>0201X</td>\n",
       "      <td>BARCELONA, DRASSANES</td>\n",
       "      <td>BARCELONA</td>\n",
       "      <td>11</td>\n",
       "      <td>28,6</td>\n",
       "      <td>0,0</td>\n",
       "      <td>25,4</td>\n",
       "      <td>05:20</td>\n",
       "      <td>31,8</td>\n",
       "      <td>14:35</td>\n",
       "      <td>58.0</td>\n",
       "      <td>68</td>\n",
       "      <td>12:50</td>\n",
       "      <td>42</td>\n",
       "      <td>19:40</td>\n",
       "    </tr>\n",
       "    <tr>\n",
       "      <th>4</th>\n",
       "      <td>2025-07-05</td>\n",
       "      <td>0201X</td>\n",
       "      <td>BARCELONA, DRASSANES</td>\n",
       "      <td>BARCELONA</td>\n",
       "      <td>11</td>\n",
       "      <td>28,7</td>\n",
       "      <td>0,0</td>\n",
       "      <td>25,2</td>\n",
       "      <td>05:22</td>\n",
       "      <td>32,2</td>\n",
       "      <td>15:29</td>\n",
       "      <td>58.0</td>\n",
       "      <td>68</td>\n",
       "      <td>23:59</td>\n",
       "      <td>45</td>\n",
       "      <td>09:30</td>\n",
       "    </tr>\n",
       "  </tbody>\n",
       "</table>\n",
       "</div>"
      ],
      "text/plain": [
       "        fecha indicativo                nombre  provincia  altitud  tmed prec  \\\n",
       "0  2025-07-01      0201X  BARCELONA, DRASSANES  BARCELONA       11  28,7  0,2   \n",
       "1  2025-07-02      0201X  BARCELONA, DRASSANES  BARCELONA       11  28,6  0,0   \n",
       "2  2025-07-03      0201X  BARCELONA, DRASSANES  BARCELONA       11  28,8  0,0   \n",
       "3  2025-07-04      0201X  BARCELONA, DRASSANES  BARCELONA       11  28,6  0,0   \n",
       "4  2025-07-05      0201X  BARCELONA, DRASSANES  BARCELONA       11  28,7  0,0   \n",
       "\n",
       "   tmin horatmin  tmax horatmax  hrMedia  hrMax horaHrMax  hrMin horaHrMin  \n",
       "0  25,7    05:42  31,7    11:14     61.0     74     16:50     32     20:40  \n",
       "1  24,6    05:25  32,5    15:16     58.0     82     22:50     37    Varias  \n",
       "2  26,0    05:31  31,5    14:49     64.0     81     00:00     41     17:20  \n",
       "3  25,4    05:20  31,8    14:35     58.0     68     12:50     42     19:40  \n",
       "4  25,2    05:22  32,2    15:29     58.0     68     23:59     45     09:30  "
      ]
     },
     "execution_count": 1,
     "metadata": {},
     "output_type": "execute_result"
    }
   ],
   "source": [
    "import pandas as pd\n",
    "\n",
    "# Cargo los archivos CSV\n",
    "df_temp_2025 = pd.read_csv('temp_072025.csv')\n",
    "#df2 = pd.read_csv('temp_072024_122024.csv')\n",
    "df3 = pd.read_csv('temp_072025_PO.csv')\n",
    "#df4 = pd.read_csv('fabra2.csv')\n",
    "\n",
    "# Concateno los DataFrames por filas\n",
    "#df_temp_2025 = pd.concat([df1, df2], axis=0, ignore_index=True)\n",
    "#df_B = pd.concat([df3, df4], axis=0, ignore_index=True)\n",
    "\n",
    "df_temp_2025.head()"
   ]
  },
  {
   "cell_type": "markdown",
   "metadata": {},
   "source": [
    "El dataframe A está compuesto por 39 filas y 16 columnas"
   ]
  },
  {
   "cell_type": "code",
   "execution_count": 2,
   "metadata": {},
   "outputs": [
    {
     "data": {
      "text/plain": [
       "(31, 16)"
      ]
     },
     "execution_count": 2,
     "metadata": {},
     "output_type": "execute_result"
    }
   ],
   "source": [
    "df_temp_2025.shape"
   ]
  },
  {
   "cell_type": "markdown",
   "metadata": {},
   "source": [
    "Hay columnas que no contemplo utilizar por lo que decido eliminarlas para aligerar el dataframe."
   ]
  },
  {
   "cell_type": "code",
   "execution_count": 3,
   "metadata": {},
   "outputs": [
    {
     "data": {
      "text/html": [
       "<div>\n",
       "<style scoped>\n",
       "    .dataframe tbody tr th:only-of-type {\n",
       "        vertical-align: middle;\n",
       "    }\n",
       "\n",
       "    .dataframe tbody tr th {\n",
       "        vertical-align: top;\n",
       "    }\n",
       "\n",
       "    .dataframe thead th {\n",
       "        text-align: right;\n",
       "    }\n",
       "</style>\n",
       "<table border=\"1\" class=\"dataframe\">\n",
       "  <thead>\n",
       "    <tr style=\"text-align: right;\">\n",
       "      <th></th>\n",
       "      <th>fecha</th>\n",
       "      <th>provincia</th>\n",
       "      <th>tmed</th>\n",
       "      <th>prec</th>\n",
       "      <th>tmin</th>\n",
       "      <th>tmax</th>\n",
       "      <th>hrMedia</th>\n",
       "    </tr>\n",
       "  </thead>\n",
       "  <tbody>\n",
       "    <tr>\n",
       "      <th>0</th>\n",
       "      <td>2025-07-01</td>\n",
       "      <td>BARCELONA</td>\n",
       "      <td>28,7</td>\n",
       "      <td>0,2</td>\n",
       "      <td>25,7</td>\n",
       "      <td>31,7</td>\n",
       "      <td>61.0</td>\n",
       "    </tr>\n",
       "    <tr>\n",
       "      <th>1</th>\n",
       "      <td>2025-07-02</td>\n",
       "      <td>BARCELONA</td>\n",
       "      <td>28,6</td>\n",
       "      <td>0,0</td>\n",
       "      <td>24,6</td>\n",
       "      <td>32,5</td>\n",
       "      <td>58.0</td>\n",
       "    </tr>\n",
       "    <tr>\n",
       "      <th>2</th>\n",
       "      <td>2025-07-03</td>\n",
       "      <td>BARCELONA</td>\n",
       "      <td>28,8</td>\n",
       "      <td>0,0</td>\n",
       "      <td>26,0</td>\n",
       "      <td>31,5</td>\n",
       "      <td>64.0</td>\n",
       "    </tr>\n",
       "    <tr>\n",
       "      <th>3</th>\n",
       "      <td>2025-07-04</td>\n",
       "      <td>BARCELONA</td>\n",
       "      <td>28,6</td>\n",
       "      <td>0,0</td>\n",
       "      <td>25,4</td>\n",
       "      <td>31,8</td>\n",
       "      <td>58.0</td>\n",
       "    </tr>\n",
       "    <tr>\n",
       "      <th>4</th>\n",
       "      <td>2025-07-05</td>\n",
       "      <td>BARCELONA</td>\n",
       "      <td>28,7</td>\n",
       "      <td>0,0</td>\n",
       "      <td>25,2</td>\n",
       "      <td>32,2</td>\n",
       "      <td>58.0</td>\n",
       "    </tr>\n",
       "  </tbody>\n",
       "</table>\n",
       "</div>"
      ],
      "text/plain": [
       "        fecha  provincia  tmed prec  tmin  tmax  hrMedia\n",
       "0  2025-07-01  BARCELONA  28,7  0,2  25,7  31,7     61.0\n",
       "1  2025-07-02  BARCELONA  28,6  0,0  24,6  32,5     58.0\n",
       "2  2025-07-03  BARCELONA  28,8  0,0  26,0  31,5     64.0\n",
       "3  2025-07-04  BARCELONA  28,6  0,0  25,4  31,8     58.0\n",
       "4  2025-07-05  BARCELONA  28,7  0,0  25,2  32,2     58.0"
      ]
     },
     "execution_count": 3,
     "metadata": {},
     "output_type": "execute_result"
    }
   ],
   "source": [
    "df_temp_2025= df_temp_2025.drop(columns=['indicativo', 'nombre','altitud', 'horatmin', 'horatmax', 'hrMax', 'hrMin', 'horaHrMin', 'horaHrMax'])\n",
    "\n",
    "df_temp_2025.head()"
   ]
  },
  {
   "cell_type": "markdown",
   "metadata": {},
   "source": [
    "El dataframe con los datos de viento del Observatorio Fabra contiene 181 filas y 21 columnas."
   ]
  },
  {
   "cell_type": "code",
   "execution_count": 4,
   "metadata": {},
   "outputs": [
    {
     "name": "stdout",
     "output_type": "stream",
     "text": [
      "<class 'pandas.core.frame.DataFrame'>\n",
      "RangeIndex: 31 entries, 0 to 30\n",
      "Data columns (total 20 columns):\n",
      " #   Column      Non-Null Count  Dtype \n",
      "---  ------      --------------  ----- \n",
      " 0   fecha       31 non-null     object\n",
      " 1   indicativo  31 non-null     object\n",
      " 2   nombre      31 non-null     object\n",
      " 3   provincia   31 non-null     object\n",
      " 4   altitud     31 non-null     int64 \n",
      " 5   tmed        31 non-null     object\n",
      " 6   prec        31 non-null     object\n",
      " 7   tmin        31 non-null     object\n",
      " 8   horatmin    31 non-null     object\n",
      " 9   tmax        31 non-null     object\n",
      " 10  horatmax    31 non-null     object\n",
      " 11  dir         31 non-null     int64 \n",
      " 12  velmedia    31 non-null     object\n",
      " 13  racha       31 non-null     object\n",
      " 14  horaracha   31 non-null     object\n",
      " 15  hrMedia     31 non-null     int64 \n",
      " 16  hrMax       31 non-null     int64 \n",
      " 17  horaHrMax   31 non-null     object\n",
      " 18  hrMin       31 non-null     int64 \n",
      " 19  horaHrMin   31 non-null     object\n",
      "dtypes: int64(5), object(15)\n",
      "memory usage: 5.0+ KB\n"
     ]
    }
   ],
   "source": [
    "df3.info()"
   ]
  },
  {
   "cell_type": "markdown",
   "metadata": {},
   "source": [
    "Observo el detalle de las columnas existentes."
   ]
  },
  {
   "cell_type": "code",
   "execution_count": 5,
   "metadata": {},
   "outputs": [
    {
     "data": {
      "text/html": [
       "<div>\n",
       "<style scoped>\n",
       "    .dataframe tbody tr th:only-of-type {\n",
       "        vertical-align: middle;\n",
       "    }\n",
       "\n",
       "    .dataframe tbody tr th {\n",
       "        vertical-align: top;\n",
       "    }\n",
       "\n",
       "    .dataframe thead th {\n",
       "        text-align: right;\n",
       "    }\n",
       "</style>\n",
       "<table border=\"1\" class=\"dataframe\">\n",
       "  <thead>\n",
       "    <tr style=\"text-align: right;\">\n",
       "      <th></th>\n",
       "      <th>fecha</th>\n",
       "      <th>indicativo</th>\n",
       "      <th>nombre</th>\n",
       "      <th>provincia</th>\n",
       "      <th>altitud</th>\n",
       "      <th>tmed</th>\n",
       "      <th>prec</th>\n",
       "      <th>tmin</th>\n",
       "      <th>horatmin</th>\n",
       "      <th>tmax</th>\n",
       "      <th>horatmax</th>\n",
       "      <th>dir</th>\n",
       "      <th>velmedia</th>\n",
       "      <th>racha</th>\n",
       "      <th>horaracha</th>\n",
       "      <th>hrMedia</th>\n",
       "      <th>hrMax</th>\n",
       "      <th>horaHrMax</th>\n",
       "      <th>hrMin</th>\n",
       "      <th>horaHrMin</th>\n",
       "    </tr>\n",
       "  </thead>\n",
       "  <tbody>\n",
       "    <tr>\n",
       "      <th>0</th>\n",
       "      <td>2025-07-01</td>\n",
       "      <td>0201D</td>\n",
       "      <td>BARCELONA, PORT OLÍMPIC</td>\n",
       "      <td>BARCELONA</td>\n",
       "      <td>26</td>\n",
       "      <td>29,0</td>\n",
       "      <td>0,0</td>\n",
       "      <td>26,3</td>\n",
       "      <td>00:50</td>\n",
       "      <td>31,7</td>\n",
       "      <td>09:20</td>\n",
       "      <td>34</td>\n",
       "      <td>3,3</td>\n",
       "      <td>7,5</td>\n",
       "      <td>20:10</td>\n",
       "      <td>75</td>\n",
       "      <td>92</td>\n",
       "      <td>18:30</td>\n",
       "      <td>38</td>\n",
       "      <td>23:00</td>\n",
       "    </tr>\n",
       "    <tr>\n",
       "      <th>1</th>\n",
       "      <td>2025-07-02</td>\n",
       "      <td>0201D</td>\n",
       "      <td>BARCELONA, PORT OLÍMPIC</td>\n",
       "      <td>BARCELONA</td>\n",
       "      <td>26</td>\n",
       "      <td>28,5</td>\n",
       "      <td>0,0</td>\n",
       "      <td>25,5</td>\n",
       "      <td>04:30</td>\n",
       "      <td>31,5</td>\n",
       "      <td>15:10</td>\n",
       "      <td>9</td>\n",
       "      <td>1,9</td>\n",
       "      <td>5,0</td>\n",
       "      <td>11:20</td>\n",
       "      <td>69</td>\n",
       "      <td>92</td>\n",
       "      <td>Varias</td>\n",
       "      <td>44</td>\n",
       "      <td>07:40</td>\n",
       "    </tr>\n",
       "    <tr>\n",
       "      <th>2</th>\n",
       "      <td>2025-07-03</td>\n",
       "      <td>0201D</td>\n",
       "      <td>BARCELONA, PORT OLÍMPIC</td>\n",
       "      <td>BARCELONA</td>\n",
       "      <td>26</td>\n",
       "      <td>28,0</td>\n",
       "      <td>0,0</td>\n",
       "      <td>25,7</td>\n",
       "      <td>01:30</td>\n",
       "      <td>30,4</td>\n",
       "      <td>16:00</td>\n",
       "      <td>22</td>\n",
       "      <td>2,8</td>\n",
       "      <td>10,3</td>\n",
       "      <td>14:00</td>\n",
       "      <td>71</td>\n",
       "      <td>92</td>\n",
       "      <td>Varias</td>\n",
       "      <td>48</td>\n",
       "      <td>Varias</td>\n",
       "    </tr>\n",
       "    <tr>\n",
       "      <th>3</th>\n",
       "      <td>2025-07-04</td>\n",
       "      <td>0201D</td>\n",
       "      <td>BARCELONA, PORT OLÍMPIC</td>\n",
       "      <td>BARCELONA</td>\n",
       "      <td>26</td>\n",
       "      <td>28,0</td>\n",
       "      <td>0,0</td>\n",
       "      <td>25,4</td>\n",
       "      <td>04:00</td>\n",
       "      <td>30,7</td>\n",
       "      <td>09:30</td>\n",
       "      <td>22</td>\n",
       "      <td>3,3</td>\n",
       "      <td>8,3</td>\n",
       "      <td>16:40</td>\n",
       "      <td>72</td>\n",
       "      <td>88</td>\n",
       "      <td>13:40</td>\n",
       "      <td>51</td>\n",
       "      <td>19:40</td>\n",
       "    </tr>\n",
       "    <tr>\n",
       "      <th>4</th>\n",
       "      <td>2025-07-05</td>\n",
       "      <td>0201D</td>\n",
       "      <td>BARCELONA, PORT OLÍMPIC</td>\n",
       "      <td>BARCELONA</td>\n",
       "      <td>26</td>\n",
       "      <td>28,8</td>\n",
       "      <td>0,0</td>\n",
       "      <td>25,7</td>\n",
       "      <td>04:30</td>\n",
       "      <td>31,9</td>\n",
       "      <td>10:30</td>\n",
       "      <td>10</td>\n",
       "      <td>2,8</td>\n",
       "      <td>7,2</td>\n",
       "      <td>17:30</td>\n",
       "      <td>70</td>\n",
       "      <td>85</td>\n",
       "      <td>16:30</td>\n",
       "      <td>52</td>\n",
       "      <td>07:30</td>\n",
       "    </tr>\n",
       "  </tbody>\n",
       "</table>\n",
       "</div>"
      ],
      "text/plain": [
       "        fecha indicativo                   nombre  provincia  altitud  tmed  \\\n",
       "0  2025-07-01      0201D  BARCELONA, PORT OLÍMPIC  BARCELONA       26  29,0   \n",
       "1  2025-07-02      0201D  BARCELONA, PORT OLÍMPIC  BARCELONA       26  28,5   \n",
       "2  2025-07-03      0201D  BARCELONA, PORT OLÍMPIC  BARCELONA       26  28,0   \n",
       "3  2025-07-04      0201D  BARCELONA, PORT OLÍMPIC  BARCELONA       26  28,0   \n",
       "4  2025-07-05      0201D  BARCELONA, PORT OLÍMPIC  BARCELONA       26  28,8   \n",
       "\n",
       "  prec  tmin horatmin  tmax horatmax  dir velmedia racha horaracha  hrMedia  \\\n",
       "0  0,0  26,3    00:50  31,7    09:20   34      3,3   7,5     20:10       75   \n",
       "1  0,0  25,5    04:30  31,5    15:10    9      1,9   5,0     11:20       69   \n",
       "2  0,0  25,7    01:30  30,4    16:00   22      2,8  10,3     14:00       71   \n",
       "3  0,0  25,4    04:00  30,7    09:30   22      3,3   8,3     16:40       72   \n",
       "4  0,0  25,7    04:30  31,9    10:30   10      2,8   7,2     17:30       70   \n",
       "\n",
       "   hrMax horaHrMax  hrMin horaHrMin  \n",
       "0     92     18:30     38     23:00  \n",
       "1     92    Varias     44     07:40  \n",
       "2     92    Varias     48    Varias  \n",
       "3     88     13:40     51     19:40  \n",
       "4     85     16:30     52     07:30  "
      ]
     },
     "execution_count": 5,
     "metadata": {},
     "output_type": "execute_result"
    }
   ],
   "source": [
    "df3.head()"
   ]
  },
  {
   "cell_type": "markdown",
   "metadata": {},
   "source": [
    "Elimino la mayoría de las columnas, manteniendo únicamente la velocidad del viento, lal cual agregaré al primer dataframe."
   ]
  },
  {
   "cell_type": "code",
   "execution_count": 6,
   "metadata": {},
   "outputs": [
    {
     "data": {
      "text/html": [
       "<div>\n",
       "<style scoped>\n",
       "    .dataframe tbody tr th:only-of-type {\n",
       "        vertical-align: middle;\n",
       "    }\n",
       "\n",
       "    .dataframe tbody tr th {\n",
       "        vertical-align: top;\n",
       "    }\n",
       "\n",
       "    .dataframe thead th {\n",
       "        text-align: right;\n",
       "    }\n",
       "</style>\n",
       "<table border=\"1\" class=\"dataframe\">\n",
       "  <thead>\n",
       "    <tr style=\"text-align: right;\">\n",
       "      <th></th>\n",
       "      <th>velmedia</th>\n",
       "    </tr>\n",
       "  </thead>\n",
       "  <tbody>\n",
       "    <tr>\n",
       "      <th>0</th>\n",
       "      <td>3,3</td>\n",
       "    </tr>\n",
       "    <tr>\n",
       "      <th>1</th>\n",
       "      <td>1,9</td>\n",
       "    </tr>\n",
       "    <tr>\n",
       "      <th>2</th>\n",
       "      <td>2,8</td>\n",
       "    </tr>\n",
       "    <tr>\n",
       "      <th>3</th>\n",
       "      <td>3,3</td>\n",
       "    </tr>\n",
       "    <tr>\n",
       "      <th>4</th>\n",
       "      <td>2,8</td>\n",
       "    </tr>\n",
       "  </tbody>\n",
       "</table>\n",
       "</div>"
      ],
      "text/plain": [
       "  velmedia\n",
       "0      3,3\n",
       "1      1,9\n",
       "2      2,8\n",
       "3      3,3\n",
       "4      2,8"
      ]
     },
     "execution_count": 6,
     "metadata": {},
     "output_type": "execute_result"
    }
   ],
   "source": [
    "df3= df3.drop(columns=['fecha', 'provincia', 'indicativo', 'nombre', 'altitud', 'tmed', 'prec', 'tmin','horatmin', 'tmax', 'horatmax', 'dir', 'racha', 'horaracha', 'hrMedia', 'hrMax', 'horaHrMax', 'hrMin', 'horaHrMin'])\n",
    "\n",
    "df3.head()"
   ]
  },
  {
   "cell_type": "code",
   "execution_count": 7,
   "metadata": {},
   "outputs": [
    {
     "data": {
      "text/html": [
       "<div>\n",
       "<style scoped>\n",
       "    .dataframe tbody tr th:only-of-type {\n",
       "        vertical-align: middle;\n",
       "    }\n",
       "\n",
       "    .dataframe tbody tr th {\n",
       "        vertical-align: top;\n",
       "    }\n",
       "\n",
       "    .dataframe thead th {\n",
       "        text-align: right;\n",
       "    }\n",
       "</style>\n",
       "<table border=\"1\" class=\"dataframe\">\n",
       "  <thead>\n",
       "    <tr style=\"text-align: right;\">\n",
       "      <th></th>\n",
       "      <th>fecha</th>\n",
       "      <th>provincia</th>\n",
       "      <th>tmed</th>\n",
       "      <th>prec</th>\n",
       "      <th>tmin</th>\n",
       "      <th>tmax</th>\n",
       "      <th>hrMedia</th>\n",
       "      <th>velmedia</th>\n",
       "    </tr>\n",
       "  </thead>\n",
       "  <tbody>\n",
       "    <tr>\n",
       "      <th>0</th>\n",
       "      <td>2025-07-01</td>\n",
       "      <td>BARCELONA</td>\n",
       "      <td>28,7</td>\n",
       "      <td>0,2</td>\n",
       "      <td>25,7</td>\n",
       "      <td>31,7</td>\n",
       "      <td>61.0</td>\n",
       "      <td>3,3</td>\n",
       "    </tr>\n",
       "    <tr>\n",
       "      <th>1</th>\n",
       "      <td>2025-07-02</td>\n",
       "      <td>BARCELONA</td>\n",
       "      <td>28,6</td>\n",
       "      <td>0,0</td>\n",
       "      <td>24,6</td>\n",
       "      <td>32,5</td>\n",
       "      <td>58.0</td>\n",
       "      <td>1,9</td>\n",
       "    </tr>\n",
       "    <tr>\n",
       "      <th>2</th>\n",
       "      <td>2025-07-03</td>\n",
       "      <td>BARCELONA</td>\n",
       "      <td>28,8</td>\n",
       "      <td>0,0</td>\n",
       "      <td>26,0</td>\n",
       "      <td>31,5</td>\n",
       "      <td>64.0</td>\n",
       "      <td>2,8</td>\n",
       "    </tr>\n",
       "    <tr>\n",
       "      <th>3</th>\n",
       "      <td>2025-07-04</td>\n",
       "      <td>BARCELONA</td>\n",
       "      <td>28,6</td>\n",
       "      <td>0,0</td>\n",
       "      <td>25,4</td>\n",
       "      <td>31,8</td>\n",
       "      <td>58.0</td>\n",
       "      <td>3,3</td>\n",
       "    </tr>\n",
       "    <tr>\n",
       "      <th>4</th>\n",
       "      <td>2025-07-05</td>\n",
       "      <td>BARCELONA</td>\n",
       "      <td>28,7</td>\n",
       "      <td>0,0</td>\n",
       "      <td>25,2</td>\n",
       "      <td>32,2</td>\n",
       "      <td>58.0</td>\n",
       "      <td>2,8</td>\n",
       "    </tr>\n",
       "  </tbody>\n",
       "</table>\n",
       "</div>"
      ],
      "text/plain": [
       "        fecha  provincia  tmed prec  tmin  tmax  hrMedia velmedia\n",
       "0  2025-07-01  BARCELONA  28,7  0,2  25,7  31,7     61.0      3,3\n",
       "1  2025-07-02  BARCELONA  28,6  0,0  24,6  32,5     58.0      1,9\n",
       "2  2025-07-03  BARCELONA  28,8  0,0  26,0  31,5     64.0      2,8\n",
       "3  2025-07-04  BARCELONA  28,6  0,0  25,4  31,8     58.0      3,3\n",
       "4  2025-07-05  BARCELONA  28,7  0,0  25,2  32,2     58.0      2,8"
      ]
     },
     "execution_count": 7,
     "metadata": {},
     "output_type": "execute_result"
    }
   ],
   "source": [
    "df_temp_2025['velmedia']= df3['velmedia']\n",
    "df_temp_2025.head()"
   ]
  },
  {
   "cell_type": "markdown",
   "metadata": {},
   "source": [
    "Reviso las características de cada columna, observo varios detalles sobre ellas que considero tratar:\n",
    "\n",
    "* `fecha` es del tipo `object` y el formato debería ser `datetime`\n",
    "* Hay varias columas que aparecen como tipo `object` al utiizar una coma como decimal y las transformaré como float con punto.\n"
   ]
  },
  {
   "cell_type": "code",
   "execution_count": 8,
   "metadata": {},
   "outputs": [
    {
     "name": "stdout",
     "output_type": "stream",
     "text": [
      "<class 'pandas.core.frame.DataFrame'>\n",
      "RangeIndex: 31 entries, 0 to 30\n",
      "Data columns (total 8 columns):\n",
      " #   Column     Non-Null Count  Dtype  \n",
      "---  ------     --------------  -----  \n",
      " 0   fecha      31 non-null     object \n",
      " 1   provincia  31 non-null     object \n",
      " 2   tmed       31 non-null     object \n",
      " 3   prec       31 non-null     object \n",
      " 4   tmin       31 non-null     object \n",
      " 5   tmax       31 non-null     object \n",
      " 6   hrMedia    30 non-null     float64\n",
      " 7   velmedia   31 non-null     object \n",
      "dtypes: float64(1), object(7)\n",
      "memory usage: 2.1+ KB\n"
     ]
    }
   ],
   "source": [
    "df_temp_2025.info()"
   ]
  },
  {
   "cell_type": "markdown",
   "metadata": {},
   "source": [
    "Realizo la transformación de la columna `fecha` al tipo `datetime`"
   ]
  },
  {
   "cell_type": "code",
   "execution_count": 9,
   "metadata": {},
   "outputs": [
    {
     "name": "stdout",
     "output_type": "stream",
     "text": [
      "fecha        datetime64[ns]\n",
      "provincia            object\n",
      "tmed                 object\n",
      "prec                 object\n",
      "tmin                 object\n",
      "tmax                 object\n",
      "hrMedia             float64\n",
      "velmedia             object\n",
      "dtype: object\n"
     ]
    }
   ],
   "source": [
    "df_temp_2025['fecha']= pd.to_datetime(df_temp_2025['fecha'], format='%Y-%m-%d')\n",
    "print(df_temp_2025.dtypes)"
   ]
  },
  {
   "cell_type": "code",
   "execution_count": null,
   "metadata": {},
   "outputs": [],
   "source": []
  },
  {
   "cell_type": "markdown",
   "metadata": {},
   "source": [
    "Transformo las columnas 'tmed', 'prec', 'tmin', 'tmax' al tipo float, modificando el símbolo de coma por punto."
   ]
  },
  {
   "cell_type": "code",
   "execution_count": 10,
   "metadata": {},
   "outputs": [
    {
     "name": "stdout",
     "output_type": "stream",
     "text": [
      "fecha        datetime64[ns]\n",
      "provincia            object\n",
      "tmed                float64\n",
      "prec                float64\n",
      "tmin                float64\n",
      "tmax                float64\n",
      "hrMedia             float64\n",
      "velmedia            float64\n",
      "dtype: object\n"
     ]
    }
   ],
   "source": [
    "columnas_a_float = ['tmed', 'prec', 'tmin', 'tmax', 'velmedia']\n",
    "\n",
    "# Reemplazo las comas por puntos para que pueda realizarse el cambio al tipo float\n",
    "for col in columnas_a_float:\n",
    "    df_temp_2025[col] = df_temp_2025[col].str.replace(',', '.')  \n",
    "\n",
    "df_temp_2025[columnas_a_float] = df_temp_2025[columnas_a_float].astype(float)\n",
    "\n",
    "print(df_temp_2025.dtypes)"
   ]
  },
  {
   "cell_type": "markdown",
   "metadata": {},
   "source": [
    "Compruebo la existencia de valores nulos"
   ]
  },
  {
   "cell_type": "code",
   "execution_count": 11,
   "metadata": {},
   "outputs": [
    {
     "data": {
      "text/plain": [
       "fecha        0\n",
       "provincia    0\n",
       "tmed         0\n",
       "prec         0\n",
       "tmin         0\n",
       "tmax         0\n",
       "hrMedia      1\n",
       "velmedia     0\n",
       "dtype: int64"
      ]
     },
     "execution_count": 11,
     "metadata": {},
     "output_type": "execute_result"
    }
   ],
   "source": [
    "#df_temp_2025.head()\n",
    "df_temp_2025.isnull().sum()"
   ]
  },
  {
   "cell_type": "markdown",
   "metadata": {},
   "source": [
    "Analizo los valores nulos de la variable `tmed`; observo que aparecen varias columnas en ese registro con valores faltantes."
   ]
  },
  {
   "cell_type": "code",
   "execution_count": 12,
   "metadata": {},
   "outputs": [
    {
     "data": {
      "text/html": [
       "<div>\n",
       "<style scoped>\n",
       "    .dataframe tbody tr th:only-of-type {\n",
       "        vertical-align: middle;\n",
       "    }\n",
       "\n",
       "    .dataframe tbody tr th {\n",
       "        vertical-align: top;\n",
       "    }\n",
       "\n",
       "    .dataframe thead th {\n",
       "        text-align: right;\n",
       "    }\n",
       "</style>\n",
       "<table border=\"1\" class=\"dataframe\">\n",
       "  <thead>\n",
       "    <tr style=\"text-align: right;\">\n",
       "      <th></th>\n",
       "      <th>fecha</th>\n",
       "      <th>provincia</th>\n",
       "      <th>tmed</th>\n",
       "      <th>prec</th>\n",
       "      <th>tmin</th>\n",
       "      <th>tmax</th>\n",
       "      <th>hrMedia</th>\n",
       "      <th>velmedia</th>\n",
       "    </tr>\n",
       "  </thead>\n",
       "  <tbody>\n",
       "    <tr>\n",
       "      <th>9</th>\n",
       "      <td>2025-07-10</td>\n",
       "      <td>BARCELONA</td>\n",
       "      <td>26.4</td>\n",
       "      <td>0.0</td>\n",
       "      <td>24.4</td>\n",
       "      <td>28.5</td>\n",
       "      <td>NaN</td>\n",
       "      <td>3.6</td>\n",
       "    </tr>\n",
       "  </tbody>\n",
       "</table>\n",
       "</div>"
      ],
      "text/plain": [
       "       fecha  provincia  tmed  prec  tmin  tmax  hrMedia  velmedia\n",
       "9 2025-07-10  BARCELONA  26.4   0.0  24.4  28.5      NaN       3.6"
      ]
     },
     "execution_count": 12,
     "metadata": {},
     "output_type": "execute_result"
    }
   ],
   "source": [
    "nulos_hrmed = df_temp_2025['hrMedia'].isnull()\n",
    "df_temp_2025[nulos_hrmed]"
   ]
  },
  {
   "cell_type": "markdown",
   "metadata": {},
   "source": [
    "La idea de la imputación en este caso es mantener la continuidad de la serie. Imputo los valores faltantes utilizando una función, que en caso de que encuentre un valor nulo en una columna, buscará el valor correspondiente en la fila anterior (día anterior). Si el valor anterior existe, se utiliza para reemplazar el valor nulo. "
   ]
  },
  {
   "cell_type": "code",
   "execution_count": 13,
   "metadata": {},
   "outputs": [],
   "source": [
    "# Ordeno el DataFrame por fecha para asegurar la correcta imputación\n",
    "df_temp_2025 = df_temp_2025.sort_values('fecha')\n",
    "\n",
    "# Selecciono las columnas a imputar \n",
    "columnas_a_imputar = ['hrMedia']\n",
    "\n",
    "# Se itera sobre las filas y las columnas a imputar\n",
    "for index, row in df_temp_2025.iterrows():\n",
    "    for columna in columnas_a_imputar:\n",
    "        if pd.isna(row[columna]):\n",
    "            # Buscar el valor del día anterior en la misma columna\n",
    "            valor_anterior = df_temp_2025.loc[index - 1, columna]\n",
    "            # Imputar si el valor anterior existe\n",
    "            if not pd.isna(valor_anterior):\n",
    "                df_temp_2025.loc[index, columna] = valor_anterior"
   ]
  },
  {
   "cell_type": "markdown",
   "metadata": {},
   "source": [
    "Compruebo que los valores ha sido imputados totalmente."
   ]
  },
  {
   "cell_type": "code",
   "execution_count": 14,
   "metadata": {},
   "outputs": [
    {
     "data": {
      "text/plain": [
       "fecha        0\n",
       "provincia    0\n",
       "tmed         0\n",
       "prec         0\n",
       "tmin         0\n",
       "tmax         0\n",
       "hrMedia      0\n",
       "velmedia     0\n",
       "dtype: int64"
      ]
     },
     "execution_count": 14,
     "metadata": {},
     "output_type": "execute_result"
    }
   ],
   "source": [
    "df_temp_2025.isnull().sum()"
   ]
  },
  {
   "cell_type": "markdown",
   "metadata": {},
   "source": [
    "- Renombro las columna `provincia` por `ciudad`."
   ]
  },
  {
   "cell_type": "code",
   "execution_count": 15,
   "metadata": {},
   "outputs": [
    {
     "data": {
      "text/html": [
       "<div>\n",
       "<style scoped>\n",
       "    .dataframe tbody tr th:only-of-type {\n",
       "        vertical-align: middle;\n",
       "    }\n",
       "\n",
       "    .dataframe tbody tr th {\n",
       "        vertical-align: top;\n",
       "    }\n",
       "\n",
       "    .dataframe thead th {\n",
       "        text-align: right;\n",
       "    }\n",
       "</style>\n",
       "<table border=\"1\" class=\"dataframe\">\n",
       "  <thead>\n",
       "    <tr style=\"text-align: right;\">\n",
       "      <th></th>\n",
       "      <th>fecha</th>\n",
       "      <th>ciudad</th>\n",
       "      <th>tmin</th>\n",
       "      <th>tmax</th>\n",
       "      <th>tmed</th>\n",
       "      <th>prec</th>\n",
       "      <th>hrmedia</th>\n",
       "      <th>velmedia</th>\n",
       "    </tr>\n",
       "  </thead>\n",
       "  <tbody>\n",
       "    <tr>\n",
       "      <th>0</th>\n",
       "      <td>2025-07-01</td>\n",
       "      <td>BARCELONA</td>\n",
       "      <td>25.7</td>\n",
       "      <td>31.7</td>\n",
       "      <td>28.7</td>\n",
       "      <td>0.2</td>\n",
       "      <td>61.0</td>\n",
       "      <td>3.3</td>\n",
       "    </tr>\n",
       "    <tr>\n",
       "      <th>1</th>\n",
       "      <td>2025-07-02</td>\n",
       "      <td>BARCELONA</td>\n",
       "      <td>24.6</td>\n",
       "      <td>32.5</td>\n",
       "      <td>28.6</td>\n",
       "      <td>0.0</td>\n",
       "      <td>58.0</td>\n",
       "      <td>1.9</td>\n",
       "    </tr>\n",
       "    <tr>\n",
       "      <th>2</th>\n",
       "      <td>2025-07-03</td>\n",
       "      <td>BARCELONA</td>\n",
       "      <td>26.0</td>\n",
       "      <td>31.5</td>\n",
       "      <td>28.8</td>\n",
       "      <td>0.0</td>\n",
       "      <td>64.0</td>\n",
       "      <td>2.8</td>\n",
       "    </tr>\n",
       "    <tr>\n",
       "      <th>3</th>\n",
       "      <td>2025-07-04</td>\n",
       "      <td>BARCELONA</td>\n",
       "      <td>25.4</td>\n",
       "      <td>31.8</td>\n",
       "      <td>28.6</td>\n",
       "      <td>0.0</td>\n",
       "      <td>58.0</td>\n",
       "      <td>3.3</td>\n",
       "    </tr>\n",
       "    <tr>\n",
       "      <th>4</th>\n",
       "      <td>2025-07-05</td>\n",
       "      <td>BARCELONA</td>\n",
       "      <td>25.2</td>\n",
       "      <td>32.2</td>\n",
       "      <td>28.7</td>\n",
       "      <td>0.0</td>\n",
       "      <td>58.0</td>\n",
       "      <td>2.8</td>\n",
       "    </tr>\n",
       "  </tbody>\n",
       "</table>\n",
       "</div>"
      ],
      "text/plain": [
       "       fecha     ciudad  tmin  tmax  tmed  prec  hrmedia  velmedia\n",
       "0 2025-07-01  BARCELONA  25.7  31.7  28.7   0.2     61.0       3.3\n",
       "1 2025-07-02  BARCELONA  24.6  32.5  28.6   0.0     58.0       1.9\n",
       "2 2025-07-03  BARCELONA  26.0  31.5  28.8   0.0     64.0       2.8\n",
       "3 2025-07-04  BARCELONA  25.4  31.8  28.6   0.0     58.0       3.3\n",
       "4 2025-07-05  BARCELONA  25.2  32.2  28.7   0.0     58.0       2.8"
      ]
     },
     "execution_count": 15,
     "metadata": {},
     "output_type": "execute_result"
    }
   ],
   "source": [
    "df_temp_2025= df_temp_2025.rename(columns={'provincia': 'ciudad', 'hrMedia': 'hrmedia'})\n",
    "df_temp_2025= df_temp_2025[['fecha', 'ciudad', 'tmin', 'tmax', 'tmed', 'prec','hrmedia', 'velmedia']]\n",
    "df_temp_2025.head()\n"
   ]
  },
  {
   "cell_type": "markdown",
   "metadata": {},
   "source": [
    "Codifico la columna `ciudad` utilizando el valor `1` para poder relacionarlo en la base de datos con la tabla que corresponda a las ciudades"
   ]
  },
  {
   "cell_type": "code",
   "execution_count": 16,
   "metadata": {},
   "outputs": [
    {
     "data": {
      "text/html": [
       "<div>\n",
       "<style scoped>\n",
       "    .dataframe tbody tr th:only-of-type {\n",
       "        vertical-align: middle;\n",
       "    }\n",
       "\n",
       "    .dataframe tbody tr th {\n",
       "        vertical-align: top;\n",
       "    }\n",
       "\n",
       "    .dataframe thead th {\n",
       "        text-align: right;\n",
       "    }\n",
       "</style>\n",
       "<table border=\"1\" class=\"dataframe\">\n",
       "  <thead>\n",
       "    <tr style=\"text-align: right;\">\n",
       "      <th></th>\n",
       "      <th>fecha</th>\n",
       "      <th>ciudad</th>\n",
       "      <th>tmin</th>\n",
       "      <th>tmax</th>\n",
       "      <th>tmed</th>\n",
       "      <th>prec</th>\n",
       "      <th>hrmedia</th>\n",
       "      <th>velmedia</th>\n",
       "    </tr>\n",
       "  </thead>\n",
       "  <tbody>\n",
       "    <tr>\n",
       "      <th>0</th>\n",
       "      <td>2025-07-01</td>\n",
       "      <td>1</td>\n",
       "      <td>25.7</td>\n",
       "      <td>31.7</td>\n",
       "      <td>28.7</td>\n",
       "      <td>0.2</td>\n",
       "      <td>61.0</td>\n",
       "      <td>3.3</td>\n",
       "    </tr>\n",
       "    <tr>\n",
       "      <th>1</th>\n",
       "      <td>2025-07-02</td>\n",
       "      <td>1</td>\n",
       "      <td>24.6</td>\n",
       "      <td>32.5</td>\n",
       "      <td>28.6</td>\n",
       "      <td>0.0</td>\n",
       "      <td>58.0</td>\n",
       "      <td>1.9</td>\n",
       "    </tr>\n",
       "    <tr>\n",
       "      <th>2</th>\n",
       "      <td>2025-07-03</td>\n",
       "      <td>1</td>\n",
       "      <td>26.0</td>\n",
       "      <td>31.5</td>\n",
       "      <td>28.8</td>\n",
       "      <td>0.0</td>\n",
       "      <td>64.0</td>\n",
       "      <td>2.8</td>\n",
       "    </tr>\n",
       "    <tr>\n",
       "      <th>3</th>\n",
       "      <td>2025-07-04</td>\n",
       "      <td>1</td>\n",
       "      <td>25.4</td>\n",
       "      <td>31.8</td>\n",
       "      <td>28.6</td>\n",
       "      <td>0.0</td>\n",
       "      <td>58.0</td>\n",
       "      <td>3.3</td>\n",
       "    </tr>\n",
       "    <tr>\n",
       "      <th>4</th>\n",
       "      <td>2025-07-05</td>\n",
       "      <td>1</td>\n",
       "      <td>25.2</td>\n",
       "      <td>32.2</td>\n",
       "      <td>28.7</td>\n",
       "      <td>0.0</td>\n",
       "      <td>58.0</td>\n",
       "      <td>2.8</td>\n",
       "    </tr>\n",
       "  </tbody>\n",
       "</table>\n",
       "</div>"
      ],
      "text/plain": [
       "       fecha ciudad  tmin  tmax  tmed  prec  hrmedia  velmedia\n",
       "0 2025-07-01      1  25.7  31.7  28.7   0.2     61.0       3.3\n",
       "1 2025-07-02      1  24.6  32.5  28.6   0.0     58.0       1.9\n",
       "2 2025-07-03      1  26.0  31.5  28.8   0.0     64.0       2.8\n",
       "3 2025-07-04      1  25.4  31.8  28.6   0.0     58.0       3.3\n",
       "4 2025-07-05      1  25.2  32.2  28.7   0.0     58.0       2.8"
      ]
     },
     "execution_count": 16,
     "metadata": {},
     "output_type": "execute_result"
    }
   ],
   "source": [
    "mapeo_ciudad= {\"BARCELONA\": \"1\"}\n",
    "\n",
    "df_temp_2025['ciudad']= df_temp_2025['ciudad'].map(mapeo_ciudad)\n",
    "df_temp_2025.head()"
   ]
  },
  {
   "cell_type": "markdown",
   "metadata": {},
   "source": [
    "Exporto el dataframe a un archivo en formato `csv`"
   ]
  },
  {
   "cell_type": "code",
   "execution_count": 17,
   "metadata": {},
   "outputs": [],
   "source": [
    "df_temp_2025.to_csv('temp_bcn_2025_07.csv', index= False, encoding='utf-8')"
   ]
  },
  {
   "cell_type": "markdown",
   "metadata": {},
   "source": [
    "Resumen del dataframe creado:\n",
    "\n",
    "- Se eliminaron las columnas 'indicativo', 'nombre', 'hrMax', 'horaHrMax', 'hrMin', 'horaHrMin', 'altitud', 'dir', 'racha', 'horaracha', 'horatmin', 'horatmax'.\n",
    "- Se obtuvo el valor de velocidad media desde dos csv de otra estación de la ciudad que se agregó al dataframe \n",
    "- Se realizaron transformaciones de tipo en las columnas 'tmed', 'prec', 'tmin', 'tmax', 'velmedia'.\n",
    "- Se transformó la columna 'fecha' a tipo datetime\n",
    "- Se trataron los valores nulos mediante la imputación del registro del día anterior al faltante, buscando mantener la continuidad de la serie. No hay valores faltantes.\n",
    "- Se renombró la columna 'provincia' por 'ciudad' y se asignó el valor 1 para que sea utilizado en un modelo de tablas relaciones como identificador(id).\n",
    "- Se exporto el dataframe a un archivo en formato csv."
   ]
  }
 ],
 "metadata": {
  "kernelspec": {
   "display_name": "entorn_ML",
   "language": "python",
   "name": "python3"
  },
  "language_info": {
   "codemirror_mode": {
    "name": "ipython",
    "version": 3
   },
   "file_extension": ".py",
   "mimetype": "text/x-python",
   "name": "python",
   "nbconvert_exporter": "python",
   "pygments_lexer": "ipython3",
   "version": "3.12.5"
  }
 },
 "nbformat": 4,
 "nbformat_minor": 2
}
