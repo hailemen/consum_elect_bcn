{
 "cells": [
  {
   "cell_type": "markdown",
   "metadata": {},
   "source": [
    "Cargo los datos sobre temperaturas durante el año 2024 de Barcelona desde la estación de Drassanes que tiene un criterio de temperatura a nivel ciudad, aunque en el caso de los datos existentes en este año esta estación no contiene los relacionados con la velocidad media del viento, por lo que busco la estación más cercana a Drassanes que si los contenga y encuentro la del Observatorio Fabra."
   ]
  },
  {
   "cell_type": "code",
   "execution_count": null,
   "metadata": {},
   "outputs": [
    {
     "data": {
      "text/html": [
       "<div>\n",
       "<style scoped>\n",
       "    .dataframe tbody tr th:only-of-type {\n",
       "        vertical-align: middle;\n",
       "    }\n",
       "\n",
       "    .dataframe tbody tr th {\n",
       "        vertical-align: top;\n",
       "    }\n",
       "\n",
       "    .dataframe thead th {\n",
       "        text-align: right;\n",
       "    }\n",
       "</style>\n",
       "<table border=\"1\" class=\"dataframe\">\n",
       "  <thead>\n",
       "    <tr style=\"text-align: right;\">\n",
       "      <th></th>\n",
       "      <th>fecha</th>\n",
       "      <th>indicativo</th>\n",
       "      <th>nombre</th>\n",
       "      <th>provincia</th>\n",
       "      <th>altitud</th>\n",
       "      <th>tmed</th>\n",
       "      <th>prec</th>\n",
       "      <th>tmin</th>\n",
       "      <th>horatmin</th>\n",
       "      <th>tmax</th>\n",
       "      <th>horatmax</th>\n",
       "      <th>hrMedia</th>\n",
       "      <th>hrMax</th>\n",
       "      <th>horaHrMax</th>\n",
       "      <th>hrMin</th>\n",
       "      <th>horaHrMin</th>\n",
       "    </tr>\n",
       "  </thead>\n",
       "  <tbody>\n",
       "    <tr>\n",
       "      <th>0</th>\n",
       "      <td>2025-01-01</td>\n",
       "      <td>0201X</td>\n",
       "      <td>BARCELONA, DRASSANES</td>\n",
       "      <td>BARCELONA</td>\n",
       "      <td>11</td>\n",
       "      <td>11,4</td>\n",
       "      <td>0,0</td>\n",
       "      <td>8,7</td>\n",
       "      <td>07:27</td>\n",
       "      <td>14,2</td>\n",
       "      <td>15:06</td>\n",
       "      <td>78.0</td>\n",
       "      <td>84.0</td>\n",
       "      <td>Varias</td>\n",
       "      <td>70.0</td>\n",
       "      <td>15:20</td>\n",
       "    </tr>\n",
       "    <tr>\n",
       "      <th>1</th>\n",
       "      <td>2025-01-02</td>\n",
       "      <td>0201X</td>\n",
       "      <td>BARCELONA, DRASSANES</td>\n",
       "      <td>BARCELONA</td>\n",
       "      <td>11</td>\n",
       "      <td>12,1</td>\n",
       "      <td>0,0</td>\n",
       "      <td>7,7</td>\n",
       "      <td>23:55</td>\n",
       "      <td>16,5</td>\n",
       "      <td>13:35</td>\n",
       "      <td>55.0</td>\n",
       "      <td>83.0</td>\n",
       "      <td>00:00</td>\n",
       "      <td>45.0</td>\n",
       "      <td>Varias</td>\n",
       "    </tr>\n",
       "    <tr>\n",
       "      <th>2</th>\n",
       "      <td>2025-01-03</td>\n",
       "      <td>0201X</td>\n",
       "      <td>BARCELONA, DRASSANES</td>\n",
       "      <td>BARCELONA</td>\n",
       "      <td>11</td>\n",
       "      <td>10,8</td>\n",
       "      <td>0,0</td>\n",
       "      <td>7,2</td>\n",
       "      <td>06:14</td>\n",
       "      <td>14,5</td>\n",
       "      <td>14:30</td>\n",
       "      <td>58.0</td>\n",
       "      <td>70.0</td>\n",
       "      <td>06:10</td>\n",
       "      <td>49.0</td>\n",
       "      <td>14:10</td>\n",
       "    </tr>\n",
       "    <tr>\n",
       "      <th>3</th>\n",
       "      <td>2025-01-04</td>\n",
       "      <td>0201X</td>\n",
       "      <td>BARCELONA, DRASSANES</td>\n",
       "      <td>BARCELONA</td>\n",
       "      <td>11</td>\n",
       "      <td>13,1</td>\n",
       "      <td>0,0</td>\n",
       "      <td>10,0</td>\n",
       "      <td>06:14</td>\n",
       "      <td>16,2</td>\n",
       "      <td>13:28</td>\n",
       "      <td>73.0</td>\n",
       "      <td>82.0</td>\n",
       "      <td>18:10</td>\n",
       "      <td>59.0</td>\n",
       "      <td>13:30</td>\n",
       "    </tr>\n",
       "    <tr>\n",
       "      <th>4</th>\n",
       "      <td>2025-01-05</td>\n",
       "      <td>0201X</td>\n",
       "      <td>BARCELONA, DRASSANES</td>\n",
       "      <td>BARCELONA</td>\n",
       "      <td>11</td>\n",
       "      <td>12,8</td>\n",
       "      <td>0,0</td>\n",
       "      <td>9,7</td>\n",
       "      <td>06:41</td>\n",
       "      <td>15,8</td>\n",
       "      <td>13:40</td>\n",
       "      <td>67.0</td>\n",
       "      <td>83.0</td>\n",
       "      <td>23:50</td>\n",
       "      <td>52.0</td>\n",
       "      <td>11:30</td>\n",
       "    </tr>\n",
       "  </tbody>\n",
       "</table>\n",
       "</div>"
      ],
      "text/plain": [
       "        fecha indicativo                nombre  provincia  altitud  tmed prec  \\\n",
       "0  2025-01-01      0201X  BARCELONA, DRASSANES  BARCELONA       11  11,4  0,0   \n",
       "1  2025-01-02      0201X  BARCELONA, DRASSANES  BARCELONA       11  12,1  0,0   \n",
       "2  2025-01-03      0201X  BARCELONA, DRASSANES  BARCELONA       11  10,8  0,0   \n",
       "3  2025-01-04      0201X  BARCELONA, DRASSANES  BARCELONA       11  13,1  0,0   \n",
       "4  2025-01-05      0201X  BARCELONA, DRASSANES  BARCELONA       11  12,8  0,0   \n",
       "\n",
       "   tmin horatmin  tmax horatmax  hrMedia  hrMax horaHrMax  hrMin horaHrMin  \n",
       "0   8,7    07:27  14,2    15:06     78.0   84.0    Varias   70.0     15:20  \n",
       "1   7,7    23:55  16,5    13:35     55.0   83.0     00:00   45.0    Varias  \n",
       "2   7,2    06:14  14,5    14:30     58.0   70.0     06:10   49.0     14:10  \n",
       "3  10,0    06:14  16,2    13:28     73.0   82.0     18:10   59.0     13:30  \n",
       "4   9,7    06:41  15,8    13:40     67.0   83.0     23:50   52.0     11:30  "
      ]
     },
     "execution_count": 7,
     "metadata": {},
     "output_type": "execute_result"
    }
   ],
   "source": [
    "import pandas as pd\n",
    "\n",
    "# Cargo los archivos CSV\n",
    "df_temp_2025 = pd.read_csv('temp_012025_062025.csv')\n",
    "#df2 = pd.read_csv('temp_072024_122024.csv')\n",
    "df3 = pd.read_csv('temp_012025_062025_FB.csv')\n",
    "#df4 = pd.read_csv('fabra2.csv')\n",
    "\n",
    "# Concateno los DataFrames por filas\n",
    "#df_temp_2025 = pd.concat([df1, df2], axis=0, ignore_index=True)\n",
    "#df_B = pd.concat([df3, df4], axis=0, ignore_index=True)\n",
    "\n",
    "df_temp_2025.head()"
   ]
  },
  {
   "cell_type": "markdown",
   "metadata": {},
   "source": [
    "El dataframe A está compuesto por 181 filas y 16 columnas"
   ]
  },
  {
   "cell_type": "code",
   "execution_count": 8,
   "metadata": {},
   "outputs": [
    {
     "data": {
      "text/plain": [
       "(181, 16)"
      ]
     },
     "execution_count": 8,
     "metadata": {},
     "output_type": "execute_result"
    }
   ],
   "source": [
    "df_temp_2025.shape"
   ]
  },
  {
   "cell_type": "markdown",
   "metadata": {},
   "source": [
    "Hay columnas que no contemplo utilizar por lo que decido eliminarlas para aligerar el dataframe."
   ]
  },
  {
   "cell_type": "code",
   "execution_count": 9,
   "metadata": {},
   "outputs": [
    {
     "data": {
      "text/html": [
       "<div>\n",
       "<style scoped>\n",
       "    .dataframe tbody tr th:only-of-type {\n",
       "        vertical-align: middle;\n",
       "    }\n",
       "\n",
       "    .dataframe tbody tr th {\n",
       "        vertical-align: top;\n",
       "    }\n",
       "\n",
       "    .dataframe thead th {\n",
       "        text-align: right;\n",
       "    }\n",
       "</style>\n",
       "<table border=\"1\" class=\"dataframe\">\n",
       "  <thead>\n",
       "    <tr style=\"text-align: right;\">\n",
       "      <th></th>\n",
       "      <th>fecha</th>\n",
       "      <th>provincia</th>\n",
       "      <th>tmed</th>\n",
       "      <th>prec</th>\n",
       "      <th>tmin</th>\n",
       "      <th>tmax</th>\n",
       "      <th>hrMedia</th>\n",
       "    </tr>\n",
       "  </thead>\n",
       "  <tbody>\n",
       "    <tr>\n",
       "      <th>0</th>\n",
       "      <td>2025-01-01</td>\n",
       "      <td>BARCELONA</td>\n",
       "      <td>11,4</td>\n",
       "      <td>0,0</td>\n",
       "      <td>8,7</td>\n",
       "      <td>14,2</td>\n",
       "      <td>78.0</td>\n",
       "    </tr>\n",
       "    <tr>\n",
       "      <th>1</th>\n",
       "      <td>2025-01-02</td>\n",
       "      <td>BARCELONA</td>\n",
       "      <td>12,1</td>\n",
       "      <td>0,0</td>\n",
       "      <td>7,7</td>\n",
       "      <td>16,5</td>\n",
       "      <td>55.0</td>\n",
       "    </tr>\n",
       "    <tr>\n",
       "      <th>2</th>\n",
       "      <td>2025-01-03</td>\n",
       "      <td>BARCELONA</td>\n",
       "      <td>10,8</td>\n",
       "      <td>0,0</td>\n",
       "      <td>7,2</td>\n",
       "      <td>14,5</td>\n",
       "      <td>58.0</td>\n",
       "    </tr>\n",
       "    <tr>\n",
       "      <th>3</th>\n",
       "      <td>2025-01-04</td>\n",
       "      <td>BARCELONA</td>\n",
       "      <td>13,1</td>\n",
       "      <td>0,0</td>\n",
       "      <td>10,0</td>\n",
       "      <td>16,2</td>\n",
       "      <td>73.0</td>\n",
       "    </tr>\n",
       "    <tr>\n",
       "      <th>4</th>\n",
       "      <td>2025-01-05</td>\n",
       "      <td>BARCELONA</td>\n",
       "      <td>12,8</td>\n",
       "      <td>0,0</td>\n",
       "      <td>9,7</td>\n",
       "      <td>15,8</td>\n",
       "      <td>67.0</td>\n",
       "    </tr>\n",
       "  </tbody>\n",
       "</table>\n",
       "</div>"
      ],
      "text/plain": [
       "        fecha  provincia  tmed prec  tmin  tmax  hrMedia\n",
       "0  2025-01-01  BARCELONA  11,4  0,0   8,7  14,2     78.0\n",
       "1  2025-01-02  BARCELONA  12,1  0,0   7,7  16,5     55.0\n",
       "2  2025-01-03  BARCELONA  10,8  0,0   7,2  14,5     58.0\n",
       "3  2025-01-04  BARCELONA  13,1  0,0  10,0  16,2     73.0\n",
       "4  2025-01-05  BARCELONA  12,8  0,0   9,7  15,8     67.0"
      ]
     },
     "execution_count": 9,
     "metadata": {},
     "output_type": "execute_result"
    }
   ],
   "source": [
    "df_temp_2025= df_temp_2025.drop(columns=['indicativo', 'nombre', 'horatmin', 'horatmax', 'altitud', 'hrMax', 'hrMin', 'horaHrMin', 'horaHrMax'])\n",
    "\n",
    "df_temp_2025.head()"
   ]
  },
  {
   "cell_type": "markdown",
   "metadata": {},
   "source": [
    "El dataframe con los datos de viento del Observatorio Fabra contiene 181 filas y 21 columnas."
   ]
  },
  {
   "cell_type": "code",
   "execution_count": 10,
   "metadata": {},
   "outputs": [
    {
     "data": {
      "text/plain": [
       "(181, 21)"
      ]
     },
     "execution_count": 10,
     "metadata": {},
     "output_type": "execute_result"
    }
   ],
   "source": [
    "df3.shape"
   ]
  },
  {
   "cell_type": "markdown",
   "metadata": {},
   "source": [
    "Observo el detalle de las columnas existentes."
   ]
  },
  {
   "cell_type": "code",
   "execution_count": 11,
   "metadata": {},
   "outputs": [
    {
     "data": {
      "text/html": [
       "<div>\n",
       "<style scoped>\n",
       "    .dataframe tbody tr th:only-of-type {\n",
       "        vertical-align: middle;\n",
       "    }\n",
       "\n",
       "    .dataframe tbody tr th {\n",
       "        vertical-align: top;\n",
       "    }\n",
       "\n",
       "    .dataframe thead th {\n",
       "        text-align: right;\n",
       "    }\n",
       "</style>\n",
       "<table border=\"1\" class=\"dataframe\">\n",
       "  <thead>\n",
       "    <tr style=\"text-align: right;\">\n",
       "      <th></th>\n",
       "      <th>fecha</th>\n",
       "      <th>indicativo</th>\n",
       "      <th>nombre</th>\n",
       "      <th>provincia</th>\n",
       "      <th>altitud</th>\n",
       "      <th>tmed</th>\n",
       "      <th>prec</th>\n",
       "      <th>tmin</th>\n",
       "      <th>horatmin</th>\n",
       "      <th>tmax</th>\n",
       "      <th>...</th>\n",
       "      <th>dir</th>\n",
       "      <th>velmedia</th>\n",
       "      <th>racha</th>\n",
       "      <th>horaracha</th>\n",
       "      <th>sol</th>\n",
       "      <th>presMax</th>\n",
       "      <th>horaPresMax</th>\n",
       "      <th>presMin</th>\n",
       "      <th>horaPresMin</th>\n",
       "      <th>hrMedia</th>\n",
       "    </tr>\n",
       "  </thead>\n",
       "  <tbody>\n",
       "    <tr>\n",
       "      <th>0</th>\n",
       "      <td>2025-01-01</td>\n",
       "      <td>0200E</td>\n",
       "      <td>BARCELONA, FABRA</td>\n",
       "      <td>BARCELONA</td>\n",
       "      <td>408</td>\n",
       "      <td>10,4</td>\n",
       "      <td>0,0</td>\n",
       "      <td>7,3</td>\n",
       "      <td>07:22</td>\n",
       "      <td>13,5</td>\n",
       "      <td>...</td>\n",
       "      <td>28</td>\n",
       "      <td>1,1</td>\n",
       "      <td>7,2</td>\n",
       "      <td>23:58</td>\n",
       "      <td>5,6</td>\n",
       "      <td>981,7</td>\n",
       "      <td>00</td>\n",
       "      <td>978,4</td>\n",
       "      <td>24</td>\n",
       "      <td>85</td>\n",
       "    </tr>\n",
       "    <tr>\n",
       "      <th>1</th>\n",
       "      <td>2025-01-02</td>\n",
       "      <td>0200E</td>\n",
       "      <td>BARCELONA, FABRA</td>\n",
       "      <td>BARCELONA</td>\n",
       "      <td>408</td>\n",
       "      <td>7,8</td>\n",
       "      <td>0,0</td>\n",
       "      <td>2,5</td>\n",
       "      <td>23:20</td>\n",
       "      <td>13,2</td>\n",
       "      <td>...</td>\n",
       "      <td>30</td>\n",
       "      <td>3,6</td>\n",
       "      <td>14,7</td>\n",
       "      <td>08:14</td>\n",
       "      <td>8,4</td>\n",
       "      <td>978,4</td>\n",
       "      <td>00</td>\n",
       "      <td>972,2</td>\n",
       "      <td>24</td>\n",
       "      <td>62</td>\n",
       "    </tr>\n",
       "    <tr>\n",
       "      <th>2</th>\n",
       "      <td>2025-01-03</td>\n",
       "      <td>0200E</td>\n",
       "      <td>BARCELONA, FABRA</td>\n",
       "      <td>BARCELONA</td>\n",
       "      <td>408</td>\n",
       "      <td>7,0</td>\n",
       "      <td>0,0</td>\n",
       "      <td>3,0</td>\n",
       "      <td>00:00</td>\n",
       "      <td>11,1</td>\n",
       "      <td>...</td>\n",
       "      <td>33</td>\n",
       "      <td>6,7</td>\n",
       "      <td>16,9</td>\n",
       "      <td>05:32</td>\n",
       "      <td>2,0</td>\n",
       "      <td>972,2</td>\n",
       "      <td>00</td>\n",
       "      <td>969,5</td>\n",
       "      <td>06</td>\n",
       "      <td>66</td>\n",
       "    </tr>\n",
       "    <tr>\n",
       "      <th>3</th>\n",
       "      <td>2025-01-04</td>\n",
       "      <td>0200E</td>\n",
       "      <td>BARCELONA, FABRA</td>\n",
       "      <td>BARCELONA</td>\n",
       "      <td>408</td>\n",
       "      <td>11,4</td>\n",
       "      <td>Ip</td>\n",
       "      <td>6,7</td>\n",
       "      <td>04:56</td>\n",
       "      <td>16,1</td>\n",
       "      <td>...</td>\n",
       "      <td>33</td>\n",
       "      <td>2,8</td>\n",
       "      <td>12,8</td>\n",
       "      <td>00:19</td>\n",
       "      <td>6,6</td>\n",
       "      <td>971,9</td>\n",
       "      <td>11</td>\n",
       "      <td>968,1</td>\n",
       "      <td>24</td>\n",
       "      <td>79</td>\n",
       "    </tr>\n",
       "    <tr>\n",
       "      <th>4</th>\n",
       "      <td>2025-01-05</td>\n",
       "      <td>0200E</td>\n",
       "      <td>BARCELONA, FABRA</td>\n",
       "      <td>BARCELONA</td>\n",
       "      <td>408</td>\n",
       "      <td>12,1</td>\n",
       "      <td>0,0</td>\n",
       "      <td>8,0</td>\n",
       "      <td>08:08</td>\n",
       "      <td>16,2</td>\n",
       "      <td>...</td>\n",
       "      <td>30</td>\n",
       "      <td>5,0</td>\n",
       "      <td>13,6</td>\n",
       "      <td>08:11</td>\n",
       "      <td>5,7</td>\n",
       "      <td>968,1</td>\n",
       "      <td>00</td>\n",
       "      <td>959,0</td>\n",
       "      <td>24</td>\n",
       "      <td>72</td>\n",
       "    </tr>\n",
       "  </tbody>\n",
       "</table>\n",
       "<p>5 rows × 21 columns</p>\n",
       "</div>"
      ],
      "text/plain": [
       "        fecha indicativo            nombre  provincia  altitud  tmed prec  \\\n",
       "0  2025-01-01      0200E  BARCELONA, FABRA  BARCELONA      408  10,4  0,0   \n",
       "1  2025-01-02      0200E  BARCELONA, FABRA  BARCELONA      408   7,8  0,0   \n",
       "2  2025-01-03      0200E  BARCELONA, FABRA  BARCELONA      408   7,0  0,0   \n",
       "3  2025-01-04      0200E  BARCELONA, FABRA  BARCELONA      408  11,4   Ip   \n",
       "4  2025-01-05      0200E  BARCELONA, FABRA  BARCELONA      408  12,1  0,0   \n",
       "\n",
       "  tmin horatmin  tmax  ... dir  velmedia racha horaracha  sol presMax  \\\n",
       "0  7,3    07:22  13,5  ...  28       1,1   7,2     23:58  5,6   981,7   \n",
       "1  2,5    23:20  13,2  ...  30       3,6  14,7     08:14  8,4   978,4   \n",
       "2  3,0    00:00  11,1  ...  33       6,7  16,9     05:32  2,0   972,2   \n",
       "3  6,7    04:56  16,1  ...  33       2,8  12,8     00:19  6,6   971,9   \n",
       "4  8,0    08:08  16,2  ...  30       5,0  13,6     08:11  5,7   968,1   \n",
       "\n",
       "  horaPresMax presMin horaPresMin hrMedia  \n",
       "0          00   978,4          24      85  \n",
       "1          00   972,2          24      62  \n",
       "2          00   969,5          06      66  \n",
       "3          11   968,1          24      79  \n",
       "4          00   959,0          24      72  \n",
       "\n",
       "[5 rows x 21 columns]"
      ]
     },
     "execution_count": 11,
     "metadata": {},
     "output_type": "execute_result"
    }
   ],
   "source": [
    "df3.head()"
   ]
  },
  {
   "cell_type": "markdown",
   "metadata": {},
   "source": [
    "Elimino la mayoría de las columnas, manteniendo únicamente la velocidad del viento, lal cual agregaré al primer dataframe."
   ]
  },
  {
   "cell_type": "code",
   "execution_count": 12,
   "metadata": {},
   "outputs": [
    {
     "data": {
      "text/html": [
       "<div>\n",
       "<style scoped>\n",
       "    .dataframe tbody tr th:only-of-type {\n",
       "        vertical-align: middle;\n",
       "    }\n",
       "\n",
       "    .dataframe tbody tr th {\n",
       "        vertical-align: top;\n",
       "    }\n",
       "\n",
       "    .dataframe thead th {\n",
       "        text-align: right;\n",
       "    }\n",
       "</style>\n",
       "<table border=\"1\" class=\"dataframe\">\n",
       "  <thead>\n",
       "    <tr style=\"text-align: right;\">\n",
       "      <th></th>\n",
       "      <th>velmedia</th>\n",
       "    </tr>\n",
       "  </thead>\n",
       "  <tbody>\n",
       "    <tr>\n",
       "      <th>0</th>\n",
       "      <td>1,1</td>\n",
       "    </tr>\n",
       "    <tr>\n",
       "      <th>1</th>\n",
       "      <td>3,6</td>\n",
       "    </tr>\n",
       "    <tr>\n",
       "      <th>2</th>\n",
       "      <td>6,7</td>\n",
       "    </tr>\n",
       "    <tr>\n",
       "      <th>3</th>\n",
       "      <td>2,8</td>\n",
       "    </tr>\n",
       "    <tr>\n",
       "      <th>4</th>\n",
       "      <td>5,0</td>\n",
       "    </tr>\n",
       "  </tbody>\n",
       "</table>\n",
       "</div>"
      ],
      "text/plain": [
       "  velmedia\n",
       "0      1,1\n",
       "1      3,6\n",
       "2      6,7\n",
       "3      2,8\n",
       "4      5,0"
      ]
     },
     "execution_count": 12,
     "metadata": {},
     "output_type": "execute_result"
    }
   ],
   "source": [
    "df3= df3.drop(columns=['fecha', 'provincia', 'indicativo', 'nombre', 'altitud', 'tmed', 'prec', 'tmin','horatmin', 'tmax', 'horatmax', 'dir', 'racha', 'horaracha', 'sol', 'presMax', 'horaPresMax', 'presMin', 'horaPresMin', 'hrMedia'])\n",
    "\n",
    "df3.head()"
   ]
  },
  {
   "cell_type": "code",
   "execution_count": 13,
   "metadata": {},
   "outputs": [
    {
     "data": {
      "text/html": [
       "<div>\n",
       "<style scoped>\n",
       "    .dataframe tbody tr th:only-of-type {\n",
       "        vertical-align: middle;\n",
       "    }\n",
       "\n",
       "    .dataframe tbody tr th {\n",
       "        vertical-align: top;\n",
       "    }\n",
       "\n",
       "    .dataframe thead th {\n",
       "        text-align: right;\n",
       "    }\n",
       "</style>\n",
       "<table border=\"1\" class=\"dataframe\">\n",
       "  <thead>\n",
       "    <tr style=\"text-align: right;\">\n",
       "      <th></th>\n",
       "      <th>fecha</th>\n",
       "      <th>provincia</th>\n",
       "      <th>tmed</th>\n",
       "      <th>prec</th>\n",
       "      <th>tmin</th>\n",
       "      <th>tmax</th>\n",
       "      <th>hrMedia</th>\n",
       "      <th>velmedia</th>\n",
       "    </tr>\n",
       "  </thead>\n",
       "  <tbody>\n",
       "    <tr>\n",
       "      <th>0</th>\n",
       "      <td>2025-01-01</td>\n",
       "      <td>BARCELONA</td>\n",
       "      <td>11,4</td>\n",
       "      <td>0,0</td>\n",
       "      <td>8,7</td>\n",
       "      <td>14,2</td>\n",
       "      <td>78.0</td>\n",
       "      <td>1,1</td>\n",
       "    </tr>\n",
       "    <tr>\n",
       "      <th>1</th>\n",
       "      <td>2025-01-02</td>\n",
       "      <td>BARCELONA</td>\n",
       "      <td>12,1</td>\n",
       "      <td>0,0</td>\n",
       "      <td>7,7</td>\n",
       "      <td>16,5</td>\n",
       "      <td>55.0</td>\n",
       "      <td>3,6</td>\n",
       "    </tr>\n",
       "    <tr>\n",
       "      <th>2</th>\n",
       "      <td>2025-01-03</td>\n",
       "      <td>BARCELONA</td>\n",
       "      <td>10,8</td>\n",
       "      <td>0,0</td>\n",
       "      <td>7,2</td>\n",
       "      <td>14,5</td>\n",
       "      <td>58.0</td>\n",
       "      <td>6,7</td>\n",
       "    </tr>\n",
       "    <tr>\n",
       "      <th>3</th>\n",
       "      <td>2025-01-04</td>\n",
       "      <td>BARCELONA</td>\n",
       "      <td>13,1</td>\n",
       "      <td>0,0</td>\n",
       "      <td>10,0</td>\n",
       "      <td>16,2</td>\n",
       "      <td>73.0</td>\n",
       "      <td>2,8</td>\n",
       "    </tr>\n",
       "    <tr>\n",
       "      <th>4</th>\n",
       "      <td>2025-01-05</td>\n",
       "      <td>BARCELONA</td>\n",
       "      <td>12,8</td>\n",
       "      <td>0,0</td>\n",
       "      <td>9,7</td>\n",
       "      <td>15,8</td>\n",
       "      <td>67.0</td>\n",
       "      <td>5,0</td>\n",
       "    </tr>\n",
       "  </tbody>\n",
       "</table>\n",
       "</div>"
      ],
      "text/plain": [
       "        fecha  provincia  tmed prec  tmin  tmax  hrMedia velmedia\n",
       "0  2025-01-01  BARCELONA  11,4  0,0   8,7  14,2     78.0      1,1\n",
       "1  2025-01-02  BARCELONA  12,1  0,0   7,7  16,5     55.0      3,6\n",
       "2  2025-01-03  BARCELONA  10,8  0,0   7,2  14,5     58.0      6,7\n",
       "3  2025-01-04  BARCELONA  13,1  0,0  10,0  16,2     73.0      2,8\n",
       "4  2025-01-05  BARCELONA  12,8  0,0   9,7  15,8     67.0      5,0"
      ]
     },
     "execution_count": 13,
     "metadata": {},
     "output_type": "execute_result"
    }
   ],
   "source": [
    "df_temp_2025['velmedia']= df3['velmedia']\n",
    "df_temp_2025.head()"
   ]
  },
  {
   "cell_type": "markdown",
   "metadata": {},
   "source": [
    "Reviso las características de cada columna, observo varios detalles sobre ellas que considero tratar:\n",
    "\n",
    "* `fecha` es del tipo `object` y el formato debería ser `datetime`\n",
    "* Hay varias columas que aparecen como tipo `object` al utiizar una coma como decimal y las transformaré como float con punto.\n"
   ]
  },
  {
   "cell_type": "code",
   "execution_count": 14,
   "metadata": {},
   "outputs": [
    {
     "name": "stdout",
     "output_type": "stream",
     "text": [
      "<class 'pandas.core.frame.DataFrame'>\n",
      "RangeIndex: 181 entries, 0 to 180\n",
      "Data columns (total 8 columns):\n",
      " #   Column     Non-Null Count  Dtype  \n",
      "---  ------     --------------  -----  \n",
      " 0   fecha      181 non-null    object \n",
      " 1   provincia  181 non-null    object \n",
      " 2   tmed       179 non-null    object \n",
      " 3   prec       181 non-null    object \n",
      " 4   tmin       179 non-null    object \n",
      " 5   tmax       179 non-null    object \n",
      " 6   hrMedia    180 non-null    float64\n",
      " 7   velmedia   181 non-null    object \n",
      "dtypes: float64(1), object(7)\n",
      "memory usage: 11.4+ KB\n"
     ]
    }
   ],
   "source": [
    "df_temp_2025.info()"
   ]
  },
  {
   "cell_type": "markdown",
   "metadata": {},
   "source": [
    "Realizo la transformación de la columna `fecha` al tipo `datetime`"
   ]
  },
  {
   "cell_type": "code",
   "execution_count": 15,
   "metadata": {},
   "outputs": [
    {
     "name": "stdout",
     "output_type": "stream",
     "text": [
      "fecha        datetime64[ns]\n",
      "provincia            object\n",
      "tmed                 object\n",
      "prec                 object\n",
      "tmin                 object\n",
      "tmax                 object\n",
      "hrMedia             float64\n",
      "velmedia             object\n",
      "dtype: object\n"
     ]
    }
   ],
   "source": [
    "df_temp_2025['fecha']= pd.to_datetime(df_temp_2025['fecha'], format='%Y-%m-%d')\n",
    "print(df_temp_2025.dtypes)"
   ]
  },
  {
   "cell_type": "code",
   "execution_count": null,
   "metadata": {},
   "outputs": [],
   "source": []
  },
  {
   "cell_type": "markdown",
   "metadata": {},
   "source": [
    "Transformo las columnas 'tmed', 'prec', 'tmin', 'tmax' al tipo float, modificando el símbolo de coma por punto."
   ]
  },
  {
   "cell_type": "code",
   "execution_count": 16,
   "metadata": {},
   "outputs": [
    {
     "name": "stdout",
     "output_type": "stream",
     "text": [
      "fecha        datetime64[ns]\n",
      "provincia            object\n",
      "tmed                float64\n",
      "prec                float64\n",
      "tmin                float64\n",
      "tmax                float64\n",
      "hrMedia             float64\n",
      "velmedia            float64\n",
      "dtype: object\n"
     ]
    }
   ],
   "source": [
    "columnas_a_float = ['tmed', 'prec', 'tmin', 'tmax', 'velmedia']\n",
    "\n",
    "# Reemplazo las comas por puntos para que pueda realizarse el cambio al tipo float\n",
    "for col in columnas_a_float:\n",
    "    df_temp_2025[col] = df_temp_2025[col].str.replace(',', '.')  \n",
    "\n",
    "df_temp_2025[columnas_a_float] = df_temp_2025[columnas_a_float].astype(float)\n",
    "\n",
    "print(df_temp_2025.dtypes)"
   ]
  },
  {
   "cell_type": "markdown",
   "metadata": {},
   "source": [
    "Compruebo la existencia de valores nulos"
   ]
  },
  {
   "cell_type": "code",
   "execution_count": 17,
   "metadata": {},
   "outputs": [
    {
     "data": {
      "text/plain": [
       "fecha        0\n",
       "provincia    0\n",
       "tmed         2\n",
       "prec         0\n",
       "tmin         2\n",
       "tmax         2\n",
       "hrMedia      1\n",
       "velmedia     0\n",
       "dtype: int64"
      ]
     },
     "execution_count": 17,
     "metadata": {},
     "output_type": "execute_result"
    }
   ],
   "source": [
    "df_temp_2025.isnull().sum()"
   ]
  },
  {
   "cell_type": "markdown",
   "metadata": {},
   "source": [
    "Analizo los valores nulos de la variable `tmed`; observo que aparecen varias columnas en ese registro con valores faltantes."
   ]
  },
  {
   "cell_type": "code",
   "execution_count": 18,
   "metadata": {},
   "outputs": [
    {
     "data": {
      "text/html": [
       "<div>\n",
       "<style scoped>\n",
       "    .dataframe tbody tr th:only-of-type {\n",
       "        vertical-align: middle;\n",
       "    }\n",
       "\n",
       "    .dataframe tbody tr th {\n",
       "        vertical-align: top;\n",
       "    }\n",
       "\n",
       "    .dataframe thead th {\n",
       "        text-align: right;\n",
       "    }\n",
       "</style>\n",
       "<table border=\"1\" class=\"dataframe\">\n",
       "  <thead>\n",
       "    <tr style=\"text-align: right;\">\n",
       "      <th></th>\n",
       "      <th>fecha</th>\n",
       "      <th>provincia</th>\n",
       "      <th>tmed</th>\n",
       "      <th>prec</th>\n",
       "      <th>tmin</th>\n",
       "      <th>tmax</th>\n",
       "      <th>hrMedia</th>\n",
       "      <th>velmedia</th>\n",
       "    </tr>\n",
       "  </thead>\n",
       "  <tbody>\n",
       "    <tr>\n",
       "      <th>113</th>\n",
       "      <td>2025-04-24</td>\n",
       "      <td>BARCELONA</td>\n",
       "      <td>NaN</td>\n",
       "      <td>0.0</td>\n",
       "      <td>NaN</td>\n",
       "      <td>NaN</td>\n",
       "      <td>73.0</td>\n",
       "      <td>2.5</td>\n",
       "    </tr>\n",
       "    <tr>\n",
       "      <th>173</th>\n",
       "      <td>2025-06-23</td>\n",
       "      <td>BARCELONA</td>\n",
       "      <td>NaN</td>\n",
       "      <td>0.0</td>\n",
       "      <td>NaN</td>\n",
       "      <td>NaN</td>\n",
       "      <td>58.0</td>\n",
       "      <td>3.3</td>\n",
       "    </tr>\n",
       "  </tbody>\n",
       "</table>\n",
       "</div>"
      ],
      "text/plain": [
       "         fecha  provincia  tmed  prec  tmin  tmax  hrMedia  velmedia\n",
       "113 2025-04-24  BARCELONA   NaN   0.0   NaN   NaN     73.0       2.5\n",
       "173 2025-06-23  BARCELONA   NaN   0.0   NaN   NaN     58.0       3.3"
      ]
     },
     "execution_count": 18,
     "metadata": {},
     "output_type": "execute_result"
    }
   ],
   "source": [
    "nulos_tmed = df_temp_2025['tmed'].isnull()\n",
    "df_temp_2025[nulos_tmed]"
   ]
  },
  {
   "cell_type": "markdown",
   "metadata": {},
   "source": [
    "La idea de la imputación en este caso es mantener la continuidad de la serie. Imputo los valores faltantes utilizando una función, que en caso de que encuentre un valor nulo en una columna, buscará el valor correspondiente en la fila anterior (día anterior). Si el valor anterior existe, se utiliza para reemplazar el valor nulo. "
   ]
  },
  {
   "cell_type": "code",
   "execution_count": 19,
   "metadata": {},
   "outputs": [],
   "source": [
    "# Ordeno el DataFrame por fecha para asegurar la correcta imputación\n",
    "df_temp_2025 = df_temp_2025.sort_values('fecha')\n",
    "\n",
    "# Selecciono las columnas a imputar \n",
    "columnas_a_imputar = ['tmed', 'tmin', 'tmax', 'hrMedia']\n",
    "\n",
    "# Se itera sobre las filas y las columnas a imputar\n",
    "for index, row in df_temp_2025.iterrows():\n",
    "    for columna in columnas_a_imputar:\n",
    "        if pd.isna(row[columna]):\n",
    "            # Buscar el valor del día anterior en la misma columna\n",
    "            valor_anterior = df_temp_2025.loc[index - 1, columna]\n",
    "            # Imputar si el valor anterior existe\n",
    "            if not pd.isna(valor_anterior):\n",
    "                df_temp_2025.loc[index, columna] = valor_anterior"
   ]
  },
  {
   "cell_type": "markdown",
   "metadata": {},
   "source": [
    "Compruebo que los valores ha sido imputados totalmente."
   ]
  },
  {
   "cell_type": "code",
   "execution_count": 20,
   "metadata": {},
   "outputs": [
    {
     "data": {
      "text/plain": [
       "fecha        0\n",
       "provincia    0\n",
       "tmed         0\n",
       "prec         0\n",
       "tmin         0\n",
       "tmax         0\n",
       "hrMedia      0\n",
       "velmedia     0\n",
       "dtype: int64"
      ]
     },
     "execution_count": 20,
     "metadata": {},
     "output_type": "execute_result"
    }
   ],
   "source": [
    "df_temp_2025.isnull().sum()"
   ]
  },
  {
   "cell_type": "markdown",
   "metadata": {},
   "source": [
    "- Renombro las columna `provincia` por `ciudad`."
   ]
  },
  {
   "cell_type": "code",
   "execution_count": 21,
   "metadata": {},
   "outputs": [
    {
     "data": {
      "text/html": [
       "<div>\n",
       "<style scoped>\n",
       "    .dataframe tbody tr th:only-of-type {\n",
       "        vertical-align: middle;\n",
       "    }\n",
       "\n",
       "    .dataframe tbody tr th {\n",
       "        vertical-align: top;\n",
       "    }\n",
       "\n",
       "    .dataframe thead th {\n",
       "        text-align: right;\n",
       "    }\n",
       "</style>\n",
       "<table border=\"1\" class=\"dataframe\">\n",
       "  <thead>\n",
       "    <tr style=\"text-align: right;\">\n",
       "      <th></th>\n",
       "      <th>fecha</th>\n",
       "      <th>ciudad</th>\n",
       "      <th>tmin</th>\n",
       "      <th>tmax</th>\n",
       "      <th>tmed</th>\n",
       "      <th>prec</th>\n",
       "      <th>hrmedia</th>\n",
       "      <th>velmedia</th>\n",
       "    </tr>\n",
       "  </thead>\n",
       "  <tbody>\n",
       "    <tr>\n",
       "      <th>0</th>\n",
       "      <td>2025-01-01</td>\n",
       "      <td>BARCELONA</td>\n",
       "      <td>8.7</td>\n",
       "      <td>14.2</td>\n",
       "      <td>11.4</td>\n",
       "      <td>0.0</td>\n",
       "      <td>78.0</td>\n",
       "      <td>1.1</td>\n",
       "    </tr>\n",
       "    <tr>\n",
       "      <th>1</th>\n",
       "      <td>2025-01-02</td>\n",
       "      <td>BARCELONA</td>\n",
       "      <td>7.7</td>\n",
       "      <td>16.5</td>\n",
       "      <td>12.1</td>\n",
       "      <td>0.0</td>\n",
       "      <td>55.0</td>\n",
       "      <td>3.6</td>\n",
       "    </tr>\n",
       "    <tr>\n",
       "      <th>2</th>\n",
       "      <td>2025-01-03</td>\n",
       "      <td>BARCELONA</td>\n",
       "      <td>7.2</td>\n",
       "      <td>14.5</td>\n",
       "      <td>10.8</td>\n",
       "      <td>0.0</td>\n",
       "      <td>58.0</td>\n",
       "      <td>6.7</td>\n",
       "    </tr>\n",
       "    <tr>\n",
       "      <th>3</th>\n",
       "      <td>2025-01-04</td>\n",
       "      <td>BARCELONA</td>\n",
       "      <td>10.0</td>\n",
       "      <td>16.2</td>\n",
       "      <td>13.1</td>\n",
       "      <td>0.0</td>\n",
       "      <td>73.0</td>\n",
       "      <td>2.8</td>\n",
       "    </tr>\n",
       "    <tr>\n",
       "      <th>4</th>\n",
       "      <td>2025-01-05</td>\n",
       "      <td>BARCELONA</td>\n",
       "      <td>9.7</td>\n",
       "      <td>15.8</td>\n",
       "      <td>12.8</td>\n",
       "      <td>0.0</td>\n",
       "      <td>67.0</td>\n",
       "      <td>5.0</td>\n",
       "    </tr>\n",
       "  </tbody>\n",
       "</table>\n",
       "</div>"
      ],
      "text/plain": [
       "       fecha     ciudad  tmin  tmax  tmed  prec  hrmedia  velmedia\n",
       "0 2025-01-01  BARCELONA   8.7  14.2  11.4   0.0     78.0       1.1\n",
       "1 2025-01-02  BARCELONA   7.7  16.5  12.1   0.0     55.0       3.6\n",
       "2 2025-01-03  BARCELONA   7.2  14.5  10.8   0.0     58.0       6.7\n",
       "3 2025-01-04  BARCELONA  10.0  16.2  13.1   0.0     73.0       2.8\n",
       "4 2025-01-05  BARCELONA   9.7  15.8  12.8   0.0     67.0       5.0"
      ]
     },
     "execution_count": 21,
     "metadata": {},
     "output_type": "execute_result"
    }
   ],
   "source": [
    "df_temp_2025= df_temp_2025.rename(columns={'provincia': 'ciudad', 'hrMedia': 'hrmedia'})\n",
    "df_temp_2025= df_temp_2025[['fecha', 'ciudad', 'tmin', 'tmax', 'tmed', 'prec','hrmedia', 'velmedia']]\n",
    "df_temp_2025.head()\n"
   ]
  },
  {
   "cell_type": "markdown",
   "metadata": {},
   "source": [
    "Codifico la columna `ciudad` utilizando el valor `1` para poder relacionarlo en la base de datos con la tabla que corresponda a las ciudades"
   ]
  },
  {
   "cell_type": "code",
   "execution_count": 22,
   "metadata": {},
   "outputs": [
    {
     "data": {
      "text/html": [
       "<div>\n",
       "<style scoped>\n",
       "    .dataframe tbody tr th:only-of-type {\n",
       "        vertical-align: middle;\n",
       "    }\n",
       "\n",
       "    .dataframe tbody tr th {\n",
       "        vertical-align: top;\n",
       "    }\n",
       "\n",
       "    .dataframe thead th {\n",
       "        text-align: right;\n",
       "    }\n",
       "</style>\n",
       "<table border=\"1\" class=\"dataframe\">\n",
       "  <thead>\n",
       "    <tr style=\"text-align: right;\">\n",
       "      <th></th>\n",
       "      <th>fecha</th>\n",
       "      <th>ciudad</th>\n",
       "      <th>tmin</th>\n",
       "      <th>tmax</th>\n",
       "      <th>tmed</th>\n",
       "      <th>prec</th>\n",
       "      <th>hrmedia</th>\n",
       "      <th>velmedia</th>\n",
       "    </tr>\n",
       "  </thead>\n",
       "  <tbody>\n",
       "    <tr>\n",
       "      <th>0</th>\n",
       "      <td>2025-01-01</td>\n",
       "      <td>1</td>\n",
       "      <td>8.7</td>\n",
       "      <td>14.2</td>\n",
       "      <td>11.4</td>\n",
       "      <td>0.0</td>\n",
       "      <td>78.0</td>\n",
       "      <td>1.1</td>\n",
       "    </tr>\n",
       "    <tr>\n",
       "      <th>1</th>\n",
       "      <td>2025-01-02</td>\n",
       "      <td>1</td>\n",
       "      <td>7.7</td>\n",
       "      <td>16.5</td>\n",
       "      <td>12.1</td>\n",
       "      <td>0.0</td>\n",
       "      <td>55.0</td>\n",
       "      <td>3.6</td>\n",
       "    </tr>\n",
       "    <tr>\n",
       "      <th>2</th>\n",
       "      <td>2025-01-03</td>\n",
       "      <td>1</td>\n",
       "      <td>7.2</td>\n",
       "      <td>14.5</td>\n",
       "      <td>10.8</td>\n",
       "      <td>0.0</td>\n",
       "      <td>58.0</td>\n",
       "      <td>6.7</td>\n",
       "    </tr>\n",
       "    <tr>\n",
       "      <th>3</th>\n",
       "      <td>2025-01-04</td>\n",
       "      <td>1</td>\n",
       "      <td>10.0</td>\n",
       "      <td>16.2</td>\n",
       "      <td>13.1</td>\n",
       "      <td>0.0</td>\n",
       "      <td>73.0</td>\n",
       "      <td>2.8</td>\n",
       "    </tr>\n",
       "    <tr>\n",
       "      <th>4</th>\n",
       "      <td>2025-01-05</td>\n",
       "      <td>1</td>\n",
       "      <td>9.7</td>\n",
       "      <td>15.8</td>\n",
       "      <td>12.8</td>\n",
       "      <td>0.0</td>\n",
       "      <td>67.0</td>\n",
       "      <td>5.0</td>\n",
       "    </tr>\n",
       "  </tbody>\n",
       "</table>\n",
       "</div>"
      ],
      "text/plain": [
       "       fecha ciudad  tmin  tmax  tmed  prec  hrmedia  velmedia\n",
       "0 2025-01-01      1   8.7  14.2  11.4   0.0     78.0       1.1\n",
       "1 2025-01-02      1   7.7  16.5  12.1   0.0     55.0       3.6\n",
       "2 2025-01-03      1   7.2  14.5  10.8   0.0     58.0       6.7\n",
       "3 2025-01-04      1  10.0  16.2  13.1   0.0     73.0       2.8\n",
       "4 2025-01-05      1   9.7  15.8  12.8   0.0     67.0       5.0"
      ]
     },
     "execution_count": 22,
     "metadata": {},
     "output_type": "execute_result"
    }
   ],
   "source": [
    "mapeo_ciudad= {\"BARCELONA\": \"1\"}\n",
    "\n",
    "df_temp_2025['ciudad']= df_temp_2025['ciudad'].map(mapeo_ciudad)\n",
    "df_temp_2025.head()"
   ]
  },
  {
   "cell_type": "markdown",
   "metadata": {},
   "source": [
    "Exporto el dataframe a un archivo en formato `csv`"
   ]
  },
  {
   "cell_type": "code",
   "execution_count": 23,
   "metadata": {},
   "outputs": [],
   "source": [
    "df_temp_2025.to_csv('temp_bcn_2025.csv', index= False, encoding='utf-8')"
   ]
  },
  {
   "cell_type": "markdown",
   "metadata": {},
   "source": [
    "Resumen del dataframe creado:\n",
    "\n",
    "- Se eliminaron las columnas 'indicativo', 'nombre', 'hrMax', 'horaHrMax', 'hrMin', 'horaHrMin', 'altitud', 'dir', 'racha', 'horaracha', 'horatmin', 'horatmax'.\n",
    "- Se obtuvo el valor de velocidad media desde dos csv de otra estación de la ciudad que se agregó al dataframe \n",
    "- Se realizaron transformaciones de tipo en las columnas 'tmed', 'prec', 'tmin', 'tmax', 'velmedia'.\n",
    "- Se transformó la columna 'fecha' a tipo datetime\n",
    "- Se trataron los valores nulos mediante la imputación del registro del día anterior al faltante, buscando mantener la continuidad de la serie. No hay valores faltantes.\n",
    "- Se renombró la columna 'provincia' por 'ciudad' y se asignó el valor 1 para que sea utilizado en un modelo de tablas relaciones como identificador(id).\n",
    "- Se exporto el dataframe a un archivo en formato csv."
   ]
  }
 ],
 "metadata": {
  "kernelspec": {
   "display_name": "Python 3",
   "language": "python",
   "name": "python3"
  },
  "language_info": {
   "codemirror_mode": {
    "name": "ipython",
    "version": 3
   },
   "file_extension": ".py",
   "mimetype": "text/x-python",
   "name": "python",
   "nbconvert_exporter": "python",
   "pygments_lexer": "ipython3",
   "version": "3.12.4"
  }
 },
 "nbformat": 4,
 "nbformat_minor": 2
}
