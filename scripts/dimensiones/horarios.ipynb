{
 "cells": [
  {
   "cell_type": "code",
   "execution_count": 1,
   "metadata": {},
   "outputs": [
    {
     "data": {
      "text/html": [
       "<div>\n",
       "<style scoped>\n",
       "    .dataframe tbody tr th:only-of-type {\n",
       "        vertical-align: middle;\n",
       "    }\n",
       "\n",
       "    .dataframe tbody tr th {\n",
       "        vertical-align: top;\n",
       "    }\n",
       "\n",
       "    .dataframe thead th {\n",
       "        text-align: right;\n",
       "    }\n",
       "</style>\n",
       "<table border=\"1\" class=\"dataframe\">\n",
       "  <thead>\n",
       "    <tr style=\"text-align: right;\">\n",
       "      <th></th>\n",
       "      <th>id</th>\n",
       "      <th>horario</th>\n",
       "      <th>tramo</th>\n",
       "    </tr>\n",
       "  </thead>\n",
       "  <tbody>\n",
       "    <tr>\n",
       "      <th>0</th>\n",
       "      <td>1</td>\n",
       "      <td>Madrugada</td>\n",
       "      <td>De 00:00:00 a 05:59:59 h</td>\n",
       "    </tr>\n",
       "    <tr>\n",
       "      <th>1</th>\n",
       "      <td>2</td>\n",
       "      <td>Mañana</td>\n",
       "      <td>De 06:00:00 a 11:59:59 h</td>\n",
       "    </tr>\n",
       "    <tr>\n",
       "      <th>2</th>\n",
       "      <td>3</td>\n",
       "      <td>Tarde</td>\n",
       "      <td>De 12:00:00 a 17:59:59 h</td>\n",
       "    </tr>\n",
       "    <tr>\n",
       "      <th>3</th>\n",
       "      <td>4</td>\n",
       "      <td>Noche</td>\n",
       "      <td>De 18:00:00 a 23:59:59 h</td>\n",
       "    </tr>\n",
       "    <tr>\n",
       "      <th>4</th>\n",
       "      <td>5</td>\n",
       "      <td>Dia</td>\n",
       "      <td>De 00:00:00 a 23:59:59 h</td>\n",
       "    </tr>\n",
       "  </tbody>\n",
       "</table>\n",
       "</div>"
      ],
      "text/plain": [
       "  id    horario                     tramo\n",
       "0  1  Madrugada  De 00:00:00 a 05:59:59 h\n",
       "1  2     Mañana  De 06:00:00 a 11:59:59 h\n",
       "2  3      Tarde  De 12:00:00 a 17:59:59 h\n",
       "3  4      Noche  De 18:00:00 a 23:59:59 h\n",
       "4  5        Dia  De 00:00:00 a 23:59:59 h"
      ]
     },
     "execution_count": 1,
     "metadata": {},
     "output_type": "execute_result"
    }
   ],
   "source": [
    "import pandas as pd\n",
    "\n",
    "mapeo_horario = {\n",
    "    \"1\": \"Madrugada\",\n",
    "    \"2\": \"Mañana\",\n",
    "    \"3\": \"Tarde\",\n",
    "    \"4\": \"Noche\",\n",
    "    \"5\": \"Dia\"\n",
    "}\n",
    "\n",
    "data = []\n",
    "for id, horario in mapeo_horario.items():\n",
    "    data.append([id, horario])\n",
    "\n",
    "\n",
    "df = pd.DataFrame(data, columns=[\"id\", \"horario\"])\n",
    "\n",
    "# Creo una columna identificativa del tramo horario\n",
    "mapeo_tramo= {\n",
    "    \"1\": \"De 00:00:00 a 05:59:59 h\",\n",
    "    \"2\": \"De 06:00:00 a 11:59:59 h\",\n",
    "    \"3\": \"De 12:00:00 a 17:59:59 h\",\n",
    "    \"4\": \"De 18:00:00 a 23:59:59 h\",\n",
    "    \"5\": \"De 00:00:00 a 23:59:59 h\"\n",
    "}\n",
    "\n",
    "df['tramo']= df['id'].map(mapeo_tramo)\n",
    "\n",
    "df.head()"
   ]
  },
  {
   "cell_type": "code",
   "execution_count": 2,
   "metadata": {},
   "outputs": [],
   "source": [
    "df.to_csv('horario.csv', index=False, encoding='utf-8')"
   ]
  }
 ],
 "metadata": {
  "kernelspec": {
   "display_name": "Python 3",
   "language": "python",
   "name": "python3"
  },
  "language_info": {
   "codemirror_mode": {
    "name": "ipython",
    "version": 3
   },
   "file_extension": ".py",
   "mimetype": "text/x-python",
   "name": "python",
   "nbconvert_exporter": "python",
   "pygments_lexer": "ipython3",
   "version": "3.12.4"
  }
 },
 "nbformat": 4,
 "nbformat_minor": 2
}
